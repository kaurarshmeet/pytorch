{
  "nbformat": 4,
  "nbformat_minor": 0,
  "metadata": {
    "colab": {
      "provenance": [],
      "gpuType": "T4",
      "authorship_tag": "ABX9TyOx8nnumjkRSw7KGJJPKTyo",
      "include_colab_link": true
    },
    "kernelspec": {
      "name": "python3",
      "display_name": "Python 3"
    },
    "language_info": {
      "name": "python"
    }
  },
  "cells": [
    {
      "cell_type": "markdown",
      "metadata": {
        "id": "view-in-github",
        "colab_type": "text"
      },
      "source": [
        "<a href=\"https://colab.research.google.com/github/kaurarshmeet/pytorch/blob/main/tensors.ipynb\" target=\"_parent\"><img src=\"https://colab.research.google.com/assets/colab-badge.svg\" alt=\"Open In Colab\"/></a>"
      ]
    },
    {
      "cell_type": "markdown",
      "source": [
        "# Tensors"
      ],
      "metadata": {
        "id": "hO7MzqO9HrGz"
      }
    },
    {
      "cell_type": "code",
      "source": [
        "!nvidia-smi"
      ],
      "metadata": {
        "colab": {
          "base_uri": "https://localhost:8080/"
        },
        "id": "JCHzpz8KHzGt",
        "outputId": "f1a14279-8286-42ae-8111-5765eb6f4fb3"
      },
      "execution_count": 2,
      "outputs": [
        {
          "output_type": "stream",
          "name": "stdout",
          "text": [
            "/bin/bash: line 1: nvidia-smi: command not found\n"
          ]
        }
      ]
    },
    {
      "cell_type": "code",
      "source": [
        "import torch\n",
        "import pandas as pd\n",
        "import numpy as np\n",
        "import matplotlib.pyplot as plt"
      ],
      "metadata": {
        "id": "TA33WpuBINCC"
      },
      "execution_count": 3,
      "outputs": []
    },
    {
      "cell_type": "code",
      "source": [
        "print(torch.__version__)"
      ],
      "metadata": {
        "colab": {
          "base_uri": "https://localhost:8080/"
        },
        "id": "A9HY3gs8Jbcz",
        "outputId": "46e7edd8-a87e-49cc-882a-6055ed7b46e7"
      },
      "execution_count": 4,
      "outputs": [
        {
          "output_type": "stream",
          "name": "stdout",
          "text": [
            "2.6.0+cu124\n"
          ]
        }
      ]
    },
    {
      "cell_type": "markdown",
      "source": [
        "## Different kinds of tensors:\n",
        "*   Scalar = one number\n",
        "*   Tensor = a tupule"
      ],
      "metadata": {
        "id": "LWs3o-KAKEp7"
      }
    },
    {
      "cell_type": "code",
      "source": [
        "# scalar\n",
        "scalar = torch.tensor(7)\n",
        "scalar"
      ],
      "metadata": {
        "colab": {
          "base_uri": "https://localhost:8080/"
        },
        "id": "-EGloHRNKUCJ",
        "outputId": "cb3376fa-ecd7-4a7e-b65b-f1d5231e43fa"
      },
      "execution_count": 5,
      "outputs": [
        {
          "output_type": "execute_result",
          "data": {
            "text/plain": [
              "tensor(7)"
            ]
          },
          "metadata": {},
          "execution_count": 5
        }
      ]
    },
    {
      "cell_type": "code",
      "source": [
        "scalar.ndim # 0 dimensions for a scalar."
      ],
      "metadata": {
        "colab": {
          "base_uri": "https://localhost:8080/"
        },
        "id": "BZjM11ThKhfm",
        "outputId": "f7bbaf04-ca21-4c70-df96-7ca60faf5af5"
      },
      "execution_count": 6,
      "outputs": [
        {
          "output_type": "execute_result",
          "data": {
            "text/plain": [
              "0"
            ]
          },
          "metadata": {},
          "execution_count": 6
        }
      ]
    },
    {
      "cell_type": "code",
      "source": [
        "# vector\n",
        "vector = torch.tensor([7,7])\n",
        "vector"
      ],
      "metadata": {
        "colab": {
          "base_uri": "https://localhost:8080/"
        },
        "id": "VH1VN8vtK1ei",
        "outputId": "5ba0382f-56b7-435a-bc71-91add221fab4"
      },
      "execution_count": 7,
      "outputs": [
        {
          "output_type": "execute_result",
          "data": {
            "text/plain": [
              "tensor([7, 7])"
            ]
          },
          "metadata": {},
          "execution_count": 7
        }
      ]
    },
    {
      "cell_type": "code",
      "source": [
        "vector.ndim # 1 dimensions for a vector."
      ],
      "metadata": {
        "colab": {
          "base_uri": "https://localhost:8080/"
        },
        "id": "ya9RGXuqLCrM",
        "outputId": "fc8ecbb4-424e-4a12-b8a2-a071988fcc2c"
      },
      "execution_count": 8,
      "outputs": [
        {
          "output_type": "execute_result",
          "data": {
            "text/plain": [
              "1"
            ]
          },
          "metadata": {},
          "execution_count": 8
        }
      ]
    },
    {
      "cell_type": "code",
      "source": [
        "vector.shape # 2 by 1 => 2 elements in the vector."
      ],
      "metadata": {
        "colab": {
          "base_uri": "https://localhost:8080/"
        },
        "id": "4t23pxOQLFzC",
        "outputId": "4d821633-f11f-4a75-b33e-4ac299ac1370"
      },
      "execution_count": 9,
      "outputs": [
        {
          "output_type": "execute_result",
          "data": {
            "text/plain": [
              "torch.Size([2])"
            ]
          },
          "metadata": {},
          "execution_count": 9
        }
      ]
    },
    {
      "cell_type": "code",
      "source": [
        "# matrix - a group of vectors.\n",
        "MATRIX = torch.tensor(\n",
        "    [[7,8],\n",
        "    [9,10]]\n",
        ")\n",
        "MATRIX"
      ],
      "metadata": {
        "colab": {
          "base_uri": "https://localhost:8080/"
        },
        "id": "fWoa4AcGLKS8",
        "outputId": "90cc39b9-792b-4af9-a5f1-5c3c8d7530b8"
      },
      "execution_count": 10,
      "outputs": [
        {
          "output_type": "execute_result",
          "data": {
            "text/plain": [
              "tensor([[ 7,  8],\n",
              "        [ 9, 10]])"
            ]
          },
          "metadata": {},
          "execution_count": 10
        }
      ]
    },
    {
      "cell_type": "code",
      "source": [
        "MATRIX.ndim # 2"
      ],
      "metadata": {
        "colab": {
          "base_uri": "https://localhost:8080/"
        },
        "id": "FVGn2bsRLWFZ",
        "outputId": "997dbbf9-4e52-41d0-af32-18edb778e2f2"
      },
      "execution_count": 11,
      "outputs": [
        {
          "output_type": "execute_result",
          "data": {
            "text/plain": [
              "2"
            ]
          },
          "metadata": {},
          "execution_count": 11
        }
      ]
    },
    {
      "cell_type": "code",
      "source": [
        "MATRIX.shape # 2 by 2"
      ],
      "metadata": {
        "colab": {
          "base_uri": "https://localhost:8080/"
        },
        "id": "7XNjxhMPLYqf",
        "outputId": "380c9a2d-d032-4a80-adf6-c85bf19b67f1"
      },
      "execution_count": 12,
      "outputs": [
        {
          "output_type": "execute_result",
          "data": {
            "text/plain": [
              "torch.Size([2, 2])"
            ]
          },
          "metadata": {},
          "execution_count": 12
        }
      ]
    },
    {
      "cell_type": "code",
      "source": [
        "# Tensor - a group of matrices\n",
        "TENSOR = torch.tensor(\n",
        "    [[\n",
        "        [[1,2,3],\n",
        "       [3,6,9]],\n",
        "\n",
        "        [[1,3,4],\n",
        "         [1,3,4]]\n",
        "\n",
        "        ],\n",
        "\n",
        "        [\n",
        "           [[1,3,2],\n",
        "            [1,5,8]],\n",
        "\n",
        "           [[1,2,3],\n",
        "            [4,5,6]]\n",
        "        ]\n",
        "     ]\n",
        ")\n",
        "\n",
        "TENSOR"
      ],
      "metadata": {
        "colab": {
          "base_uri": "https://localhost:8080/"
        },
        "id": "nQtUZ6imLh6K",
        "outputId": "e61e332f-9bc9-4052-e5c2-a918206e0a25"
      },
      "execution_count": 13,
      "outputs": [
        {
          "output_type": "execute_result",
          "data": {
            "text/plain": [
              "tensor([[[[1, 2, 3],\n",
              "          [3, 6, 9]],\n",
              "\n",
              "         [[1, 3, 4],\n",
              "          [1, 3, 4]]],\n",
              "\n",
              "\n",
              "        [[[1, 3, 2],\n",
              "          [1, 5, 8]],\n",
              "\n",
              "         [[1, 2, 3],\n",
              "          [4, 5, 6]]]])"
            ]
          },
          "metadata": {},
          "execution_count": 13
        }
      ]
    },
    {
      "cell_type": "code",
      "source": [
        "TENSOR.ndim"
      ],
      "metadata": {
        "colab": {
          "base_uri": "https://localhost:8080/"
        },
        "id": "9k5dmzvjL_M7",
        "outputId": "49209b8b-e19a-4c5e-8b7d-9e268d5728f2"
      },
      "execution_count": 14,
      "outputs": [
        {
          "output_type": "execute_result",
          "data": {
            "text/plain": [
              "4"
            ]
          },
          "metadata": {},
          "execution_count": 14
        }
      ]
    },
    {
      "cell_type": "code",
      "source": [
        "TENSOR.shape # 2 sets of 2 (2 x 3 matrices)."
      ],
      "metadata": {
        "colab": {
          "base_uri": "https://localhost:8080/"
        },
        "id": "hQB3vHdIMJGy",
        "outputId": "03406b32-61bf-4081-93a0-ef7e8622be95"
      },
      "execution_count": 15,
      "outputs": [
        {
          "output_type": "execute_result",
          "data": {
            "text/plain": [
              "torch.Size([2, 2, 2, 3])"
            ]
          },
          "metadata": {},
          "execution_count": 15
        }
      ]
    },
    {
      "cell_type": "markdown",
      "source": [
        "## Random Tensors\n",
        "\n",
        "* Many neural networks start with tensors full of random numbers, then update those to better understand data."
      ],
      "metadata": {
        "id": "lKvGpCThNohM"
      }
    },
    {
      "cell_type": "code",
      "source": [
        "# by default, they will be float data type.\n",
        "random_tensor = torch.rand(2, 3, 4) # 2 (3 x 4 matrices) filled with random numbers.\n",
        "random_tensor"
      ],
      "metadata": {
        "colab": {
          "base_uri": "https://localhost:8080/"
        },
        "id": "M1i-QbY6N_Fw",
        "outputId": "6a8d6f9d-9b01-4afa-aa2d-1cba5468a40f"
      },
      "execution_count": 16,
      "outputs": [
        {
          "output_type": "execute_result",
          "data": {
            "text/plain": [
              "tensor([[[0.4940, 0.0835, 0.9763, 0.6640],\n",
              "         [0.7347, 0.4051, 0.1806, 0.4757],\n",
              "         [0.5409, 0.3603, 0.2633, 0.7202]],\n",
              "\n",
              "        [[0.2850, 0.1501, 0.3118, 0.4429],\n",
              "         [0.8865, 0.7812, 0.8644, 0.9535],\n",
              "         [0.4466, 0.3458, 0.1841, 0.3246]]])"
            ]
          },
          "metadata": {},
          "execution_count": 16
        }
      ]
    },
    {
      "cell_type": "code",
      "source": [
        "zeros = torch.zeros(size=(2,3,4))\n",
        "zeros"
      ],
      "metadata": {
        "colab": {
          "base_uri": "https://localhost:8080/"
        },
        "id": "3qFywNMLOKMa",
        "outputId": "e240431c-eb04-443d-c8a8-27c112eed99f"
      },
      "execution_count": 17,
      "outputs": [
        {
          "output_type": "execute_result",
          "data": {
            "text/plain": [
              "tensor([[[0., 0., 0., 0.],\n",
              "         [0., 0., 0., 0.],\n",
              "         [0., 0., 0., 0.]],\n",
              "\n",
              "        [[0., 0., 0., 0.],\n",
              "         [0., 0., 0., 0.],\n",
              "         [0., 0., 0., 0.]]])"
            ]
          },
          "metadata": {},
          "execution_count": 17
        }
      ]
    },
    {
      "cell_type": "code",
      "source": [
        "# multiplying two tensors\n",
        "random_tensor * zeros"
      ],
      "metadata": {
        "colab": {
          "base_uri": "https://localhost:8080/"
        },
        "id": "N03FVZ0gSXzh",
        "outputId": "76d97b9c-52c9-470d-f54d-4de2810b9f5c"
      },
      "execution_count": 18,
      "outputs": [
        {
          "output_type": "execute_result",
          "data": {
            "text/plain": [
              "tensor([[[0., 0., 0., 0.],\n",
              "         [0., 0., 0., 0.],\n",
              "         [0., 0., 0., 0.]],\n",
              "\n",
              "        [[0., 0., 0., 0.],\n",
              "         [0., 0., 0., 0.],\n",
              "         [0., 0., 0., 0.]]])"
            ]
          },
          "metadata": {},
          "execution_count": 18
        }
      ]
    },
    {
      "cell_type": "code",
      "source": [
        "random_tensor.dtype"
      ],
      "metadata": {
        "colab": {
          "base_uri": "https://localhost:8080/"
        },
        "id": "1-M3Ug_qSbni",
        "outputId": "f0342e9f-0185-4bc7-b01b-7baee409eae7"
      },
      "execution_count": 19,
      "outputs": [
        {
          "output_type": "execute_result",
          "data": {
            "text/plain": [
              "torch.float32"
            ]
          },
          "metadata": {},
          "execution_count": 19
        }
      ]
    },
    {
      "cell_type": "markdown",
      "source": [
        "## Creating a Range of Tensors"
      ],
      "metadata": {
        "id": "6uz9P-jRSsHi"
      }
    },
    {
      "cell_type": "code",
      "source": [
        "# creating a tensor from the range.\n",
        "# arange(start, stop, step)\n",
        "# [start, start + step...stop) not end-inclusive.\n",
        "torch.arange(0,10)"
      ],
      "metadata": {
        "colab": {
          "base_uri": "https://localhost:8080/"
        },
        "id": "o_OMipgUSrT-",
        "outputId": "b380993c-0204-4edc-ca7a-388633cb47e4"
      },
      "execution_count": 20,
      "outputs": [
        {
          "output_type": "execute_result",
          "data": {
            "text/plain": [
              "tensor([0, 1, 2, 3, 4, 5, 6, 7, 8, 9])"
            ]
          },
          "metadata": {},
          "execution_count": 20
        }
      ]
    },
    {
      "cell_type": "code",
      "source": [
        "skipping = torch.arange(0,10,2)\n",
        "skipping"
      ],
      "metadata": {
        "colab": {
          "base_uri": "https://localhost:8080/"
        },
        "id": "Dk8zyOslS5Xc",
        "outputId": "12aa9cea-d653-4c22-b06d-4425e5e22d54"
      },
      "execution_count": 21,
      "outputs": [
        {
          "output_type": "execute_result",
          "data": {
            "text/plain": [
              "tensor([0, 2, 4, 6, 8])"
            ]
          },
          "metadata": {},
          "execution_count": 21
        }
      ]
    },
    {
      "cell_type": "code",
      "source": [
        "# Create a copy tensor (in terms of shape)\n",
        "\n",
        "# creates a tensor with the same shape.\n",
        "ten_zeros = torch.zeros_like(input=skipping)\n",
        "ten_zeros\n",
        "\n",
        "ten_ones = torch.ones_like(input = skipping)\n",
        "ten_ones"
      ],
      "metadata": {
        "colab": {
          "base_uri": "https://localhost:8080/"
        },
        "id": "yus_3aLcTNo4",
        "outputId": "21f15b10-a31e-494f-90cd-3a5d42b6916d"
      },
      "execution_count": 22,
      "outputs": [
        {
          "output_type": "execute_result",
          "data": {
            "text/plain": [
              "tensor([1, 1, 1, 1, 1])"
            ]
          },
          "metadata": {},
          "execution_count": 22
        }
      ]
    },
    {
      "cell_type": "markdown",
      "source": [
        "## Tensor Datatypes\n",
        "\n",
        "Big issues in PyTorch / deep learning\n",
        "1. Tensors not right datatype.\n",
        "2. Tensors not right shape.\n",
        "3. Tensors not on right device."
      ],
      "metadata": {
        "id": "M1Ogy4LAT3tE"
      }
    },
    {
      "cell_type": "code",
      "source": [
        "float_32_tensor = torch.rand(2,3)\n",
        "float_32_tensor.dtype # by default, float 32."
      ],
      "metadata": {
        "colab": {
          "base_uri": "https://localhost:8080/"
        },
        "id": "tLWKdHIzT6X9",
        "outputId": "6dc9b1b3-e7e5-4a92-8b46-6e21e7904a65"
      },
      "execution_count": 23,
      "outputs": [
        {
          "output_type": "execute_result",
          "data": {
            "text/plain": [
              "torch.float32"
            ]
          },
          "metadata": {},
          "execution_count": 23
        }
      ]
    },
    {
      "cell_type": "code",
      "source": [
        "# tensor fields - don't always have to specify these.\n",
        "fields = torch.tensor([1,3,3],\n",
        "                      dtype=None, # still creates float 32 by default.\n",
        "                                  # may want to demote to torch.half to run faster\n",
        "                                  # upgrade to torch.double for more precision.\n",
        "                      device = None, # what device is the tensor on\n",
        "                      requires_grad = False) # whether or not to track gradients with tensor operations"
      ],
      "metadata": {
        "id": "TFk0z0hwUGe6"
      },
      "execution_count": 24,
      "outputs": []
    },
    {
      "cell_type": "code",
      "source": [
        "float_16_tensor = fields.type(torch.float16)\n",
        "float_16_tensor.dtype"
      ],
      "metadata": {
        "colab": {
          "base_uri": "https://localhost:8080/"
        },
        "id": "VXLgpn1YVyIQ",
        "outputId": "fb353e18-4320-4b7b-babe-c0646bcc49ea"
      },
      "execution_count": 25,
      "outputs": [
        {
          "output_type": "execute_result",
          "data": {
            "text/plain": [
              "torch.float16"
            ]
          },
          "metadata": {},
          "execution_count": 25
        }
      ]
    },
    {
      "cell_type": "code",
      "source": [
        "fields * float_16_tensor # everything gets depreciated to float16\n",
        "# sometimes it works\n",
        "# sometimes it dont work"
      ],
      "metadata": {
        "colab": {
          "base_uri": "https://localhost:8080/"
        },
        "id": "arViklB1WCfw",
        "outputId": "bc361872-6920-49fc-dda3-dfcd7749aadd"
      },
      "execution_count": 26,
      "outputs": [
        {
          "output_type": "execute_result",
          "data": {
            "text/plain": [
              "tensor([1., 9., 9.], dtype=torch.float16)"
            ]
          },
          "metadata": {},
          "execution_count": 26
        }
      ]
    },
    {
      "cell_type": "markdown",
      "source": [
        "## Tensor Attributes"
      ],
      "metadata": {
        "id": "7r63Ip5yYlZA"
      }
    },
    {
      "cell_type": "code",
      "source": [
        "int_32_tensor = torch.tensor([3,6,9], dtype=torch.int32)\n",
        "int_32_tensor"
      ],
      "metadata": {
        "colab": {
          "base_uri": "https://localhost:8080/"
        },
        "id": "Lzl0Q70yYm7J",
        "outputId": "55a45ebe-2d9a-4dca-f281-e5da7eb792f4"
      },
      "execution_count": 27,
      "outputs": [
        {
          "output_type": "execute_result",
          "data": {
            "text/plain": [
              "tensor([3, 6, 9], dtype=torch.int32)"
            ]
          },
          "metadata": {},
          "execution_count": 27
        }
      ]
    },
    {
      "cell_type": "code",
      "source": [
        "# still works!\n",
        "float_16_tensor * int_32_tensor"
      ],
      "metadata": {
        "colab": {
          "base_uri": "https://localhost:8080/"
        },
        "id": "PxofErwqYzdh",
        "outputId": "93469278-acf6-4722-d28b-484262a90291"
      },
      "execution_count": 28,
      "outputs": [
        {
          "output_type": "execute_result",
          "data": {
            "text/plain": [
              "tensor([ 3., 18., 27.], dtype=torch.float16)"
            ]
          },
          "metadata": {},
          "execution_count": 28
        }
      ]
    },
    {
      "cell_type": "markdown",
      "source": [
        "Important information from tensors:\n",
        "- just use the instance variables\n",
        "`tensor.dtype`,   `tensor.shape`,   `tensor.device`"
      ],
      "metadata": {
        "id": "fbYzisMBa_vH"
      }
    },
    {
      "cell_type": "code",
      "source": [
        "# getting information from tensors\n",
        "\n",
        "some_tensor = torch.rand(3,4)\n",
        "some_tensor.dtype, some_tensor.shape, some_tensor.device"
      ],
      "metadata": {
        "colab": {
          "base_uri": "https://localhost:8080/"
        },
        "id": "fMEX1ZFPahuB",
        "outputId": "e99f83b9-2d9e-4a33-8f86-62c705b08e08"
      },
      "execution_count": 29,
      "outputs": [
        {
          "output_type": "execute_result",
          "data": {
            "text/plain": [
              "(torch.float32, torch.Size([3, 4]), device(type='cpu'))"
            ]
          },
          "metadata": {},
          "execution_count": 29
        }
      ]
    },
    {
      "cell_type": "markdown",
      "source": [
        "## Manipulating Tensors / Tensor Operations\n",
        "\n",
        "Tensor Operations:\n",
        "- addition, subtraction, multiplication element wise, division\n",
        "- matrix multiplication"
      ],
      "metadata": {
        "id": "F41uSV00YTfn"
      }
    },
    {
      "cell_type": "code",
      "source": [
        "# addition\n",
        "tensor = torch.tensor([1,2,3])\n",
        "tensor + 10 # adds 10 to each element."
      ],
      "metadata": {
        "colab": {
          "base_uri": "https://localhost:8080/"
        },
        "id": "GOCNuiD3Yaek",
        "outputId": "7aa6c85c-dcb5-44a3-a923-8de95184232e"
      },
      "execution_count": 30,
      "outputs": [
        {
          "output_type": "execute_result",
          "data": {
            "text/plain": [
              "tensor([11, 12, 13])"
            ]
          },
          "metadata": {},
          "execution_count": 30
        }
      ]
    },
    {
      "cell_type": "code",
      "source": [
        "# multiplication\n",
        "tensor * 10"
      ],
      "metadata": {
        "colab": {
          "base_uri": "https://localhost:8080/"
        },
        "id": "kt_uSO_1Xag1",
        "outputId": "3ae2ec92-2098-48e0-8f4a-2802f0b08db3"
      },
      "execution_count": 31,
      "outputs": [
        {
          "output_type": "execute_result",
          "data": {
            "text/plain": [
              "tensor([10, 20, 30])"
            ]
          },
          "metadata": {},
          "execution_count": 31
        }
      ]
    },
    {
      "cell_type": "code",
      "source": [
        "# subtraction\n",
        "tensor - 10"
      ],
      "metadata": {
        "colab": {
          "base_uri": "https://localhost:8080/"
        },
        "id": "qKC3B93hZ8Fc",
        "outputId": "87a94700-22cc-4cbf-f3a5-cac5e697eccd"
      },
      "execution_count": 32,
      "outputs": [
        {
          "output_type": "execute_result",
          "data": {
            "text/plain": [
              "tensor([-9, -8, -7])"
            ]
          },
          "metadata": {},
          "execution_count": 32
        }
      ]
    },
    {
      "cell_type": "code",
      "source": [
        "# pytorch inbuilt functions\n",
        "# generally, just use the operators.\n",
        "torch.mul(tensor, 10) # multiplication"
      ],
      "metadata": {
        "colab": {
          "base_uri": "https://localhost:8080/"
        },
        "id": "pTPjdLvraDlj",
        "outputId": "16ac2f44-5e23-43db-b06d-9f18d1890224"
      },
      "execution_count": 33,
      "outputs": [
        {
          "output_type": "execute_result",
          "data": {
            "text/plain": [
              "tensor([10, 20, 30])"
            ]
          },
          "metadata": {},
          "execution_count": 33
        }
      ]
    },
    {
      "cell_type": "code",
      "source": [
        "torch.add(tensor, 10)"
      ],
      "metadata": {
        "colab": {
          "base_uri": "https://localhost:8080/"
        },
        "id": "ve0e6mIwaWZj",
        "outputId": "53bd7c36-b79d-43c1-eba6-68ff92f6f71c"
      },
      "execution_count": 34,
      "outputs": [
        {
          "output_type": "execute_result",
          "data": {
            "text/plain": [
              "tensor([11, 12, 13])"
            ]
          },
          "metadata": {},
          "execution_count": 34
        }
      ]
    },
    {
      "cell_type": "markdown",
      "source": [
        "## Matrix Multiplication\n",
        "\n",
        "Two conditions\n",
        "\n",
        "- (anything1, n) @ (n, anything2) is good.\n",
        "- resulting shape will be (anything1, anything2)"
      ],
      "metadata": {
        "id": "iIl58lMRcx6F"
      }
    },
    {
      "cell_type": "code",
      "source": [
        " print(tensor)\n",
        " tensor * tensor"
      ],
      "metadata": {
        "colab": {
          "base_uri": "https://localhost:8080/"
        },
        "id": "lYTKvBT9aZUs",
        "outputId": "643dc63e-00c5-4c5e-d32e-f323a2764e3c"
      },
      "execution_count": 35,
      "outputs": [
        {
          "output_type": "stream",
          "name": "stdout",
          "text": [
            "tensor([1, 2, 3])\n"
          ]
        },
        {
          "output_type": "execute_result",
          "data": {
            "text/plain": [
              "tensor([1, 4, 9])"
            ]
          },
          "metadata": {},
          "execution_count": 35
        }
      ]
    },
    {
      "cell_type": "code",
      "source": [
        "# even though tensor is (1, 2, 3), when you square it\n",
        "# it'll assume (1 2 3) horizontal and (1) vertical\n",
        "                                     #(2)\n",
        "                                     #(3)\n",
        "torch.matmul(tensor, tensor) # clearer"
      ],
      "metadata": {
        "colab": {
          "base_uri": "https://localhost:8080/"
        },
        "id": "szWN9BqEdJp3",
        "outputId": "3a834e3e-fce4-45c2-91c7-5dad10091eb6"
      },
      "execution_count": 36,
      "outputs": [
        {
          "output_type": "execute_result",
          "data": {
            "text/plain": [
              "tensor(14)"
            ]
          },
          "metadata": {},
          "execution_count": 36
        }
      ]
    },
    {
      "cell_type": "code",
      "source": [
        "# mm won't work here because it's not flipping horizontal and vertical here\n",
        "# torch.mm(tensor,tensor)\n",
        "\n",
        "# this will work because dimensions are explicitly correct.\n",
        "torch.mm(torch.rand(3,2), torch.rand(2,4))"
      ],
      "metadata": {
        "colab": {
          "base_uri": "https://localhost:8080/"
        },
        "id": "Be_fHH6SfV0e",
        "outputId": "4a8679ad-953d-4b62-c639-903489d3bb6b"
      },
      "execution_count": 37,
      "outputs": [
        {
          "output_type": "execute_result",
          "data": {
            "text/plain": [
              "tensor([[0.8649, 0.3702, 0.0831, 0.0767],\n",
              "        [0.8853, 0.3386, 0.1537, 0.2863],\n",
              "        [0.1329, 0.0478, 0.0282, 0.0585]])"
            ]
          },
          "metadata": {},
          "execution_count": 37
        }
      ]
    },
    {
      "cell_type": "code",
      "source": [
        "tensor @ tensor # same thing"
      ],
      "metadata": {
        "colab": {
          "base_uri": "https://localhost:8080/"
        },
        "id": "UPidunx1eON6",
        "outputId": "6edbd9e3-1d10-4f2b-84d3-58212d9807b2"
      },
      "execution_count": 38,
      "outputs": [
        {
          "output_type": "execute_result",
          "data": {
            "text/plain": [
              "tensor(14)"
            ]
          },
          "metadata": {},
          "execution_count": 38
        }
      ]
    },
    {
      "cell_type": "code",
      "source": [
        "# multiplication by hand\n",
        "value = 0\n",
        "for i in range(len(tensor)):\n",
        "  value += tensor[i] * tensor[i]\n",
        "value"
      ],
      "metadata": {
        "colab": {
          "base_uri": "https://localhost:8080/"
        },
        "id": "Lu80A_oCdi1L",
        "outputId": "08b22c56-cbff-43e0-d84a-115100507bf1"
      },
      "execution_count": 39,
      "outputs": [
        {
          "output_type": "execute_result",
          "data": {
            "text/plain": [
              "tensor(14)"
            ]
          },
          "metadata": {},
          "execution_count": 39
        }
      ]
    },
    {
      "cell_type": "code",
      "source": [
        "tensor[i] # each tensor element is a scalar, tensor data type though."
      ],
      "metadata": {
        "colab": {
          "base_uri": "https://localhost:8080/"
        },
        "id": "aeUl5LaddtZ_",
        "outputId": "44aa7aff-1c63-4fb6-bfeb-af2346c9a501"
      },
      "execution_count": 40,
      "outputs": [
        {
          "output_type": "execute_result",
          "data": {
            "text/plain": [
              "tensor(3)"
            ]
          },
          "metadata": {},
          "execution_count": 40
        }
      ]
    },
    {
      "cell_type": "code",
      "source": [
        "# implementing the matrix multiplication\n",
        "A = torch.tensor([[1,2],\n",
        "                  [3,4],\n",
        "                  [5,6]]) # 3 x 2\n",
        "B = torch.tensor([[7,8],\n",
        "                  [9,10],\n",
        "                  [11,12]]) # 3 x 2\n",
        "# fixing shape issues => take the transpose\n",
        "B.T # columns become rows, 2 x 3"
      ],
      "metadata": {
        "colab": {
          "base_uri": "https://localhost:8080/"
        },
        "id": "kq7LVZvAdz-D",
        "outputId": "20545468-991c-4bc5-eb04-7714d265178d"
      },
      "execution_count": 41,
      "outputs": [
        {
          "output_type": "execute_result",
          "data": {
            "text/plain": [
              "tensor([[ 7,  9, 11],\n",
              "        [ 8, 10, 12]])"
            ]
          },
          "metadata": {},
          "execution_count": 41
        }
      ]
    },
    {
      "cell_type": "code",
      "source": [
        "B.T @ A # 2 x 2"
      ],
      "metadata": {
        "colab": {
          "base_uri": "https://localhost:8080/"
        },
        "id": "MSeDw-zckIBX",
        "outputId": "cc720378-7319-4906-a062-7e6d01eda822"
      },
      "execution_count": 42,
      "outputs": [
        {
          "output_type": "execute_result",
          "data": {
            "text/plain": [
              "tensor([[ 89, 116],\n",
              "        [ 98, 128]])"
            ]
          },
          "metadata": {},
          "execution_count": 42
        }
      ]
    },
    {
      "cell_type": "markdown",
      "source": [
        "## Min, Max, etc."
      ],
      "metadata": {
        "id": "Y5UkV-c6nOGR"
      }
    },
    {
      "cell_type": "code",
      "source": [
        "x = torch.arange(0, 100, 10)\n",
        "x"
      ],
      "metadata": {
        "colab": {
          "base_uri": "https://localhost:8080/"
        },
        "id": "41Xa19B_nNVU",
        "outputId": "6b870544-7838-4b8d-8ce1-2e764e0cb1dc"
      },
      "execution_count": 44,
      "outputs": [
        {
          "output_type": "execute_result",
          "data": {
            "text/plain": [
              "tensor([ 0, 10, 20, 30, 40, 50, 60, 70, 80, 90])"
            ]
          },
          "metadata": {},
          "execution_count": 44
        }
      ]
    },
    {
      "cell_type": "code",
      "source": [
        "torch.min(x), x.min() # same thing."
      ],
      "metadata": {
        "colab": {
          "base_uri": "https://localhost:8080/"
        },
        "id": "cPKqMFSZnXam",
        "outputId": "ec7ea32a-6521-4a5c-da18-6a0959773525"
      },
      "execution_count": 45,
      "outputs": [
        {
          "output_type": "execute_result",
          "data": {
            "text/plain": [
              "(tensor(0), tensor(0))"
            ]
          },
          "metadata": {},
          "execution_count": 45
        }
      ]
    },
    {
      "cell_type": "code",
      "source": [
        "# same thing for max"
      ],
      "metadata": {
        "id": "tPoDxv_LnczY"
      },
      "execution_count": 46,
      "outputs": []
    },
    {
      "cell_type": "code",
      "source": [
        "# torch.mean function requires tensor of float32 datatype to work\n",
        "torch.mean(x.type(torch.float32)) # need to convert to float for the mean."
      ],
      "metadata": {
        "colab": {
          "base_uri": "https://localhost:8080/"
        },
        "id": "lz9HAMuTne9I",
        "outputId": "62d73595-8899-42f0-9096-7a88170d905d"
      },
      "execution_count": 47,
      "outputs": [
        {
          "output_type": "execute_result",
          "data": {
            "text/plain": [
              "tensor(45.)"
            ]
          },
          "metadata": {},
          "execution_count": 47
        }
      ]
    },
    {
      "cell_type": "code",
      "source": [
        "# finding position in tensor which has the minimum value\n",
        "x.argmin() # tensor(0) means index 0"
      ],
      "metadata": {
        "colab": {
          "base_uri": "https://localhost:8080/"
        },
        "id": "lqnj5WIvnyXE",
        "outputId": "1bc3415d-8b50-4cc9-a9b0-a90acd5b47e2"
      },
      "execution_count": 48,
      "outputs": [
        {
          "output_type": "execute_result",
          "data": {
            "text/plain": [
              "tensor(0)"
            ]
          },
          "metadata": {},
          "execution_count": 48
        }
      ]
    },
    {
      "cell_type": "code",
      "source": [
        "x.argmax(), x[9] # index 9"
      ],
      "metadata": {
        "colab": {
          "base_uri": "https://localhost:8080/"
        },
        "id": "OPffA99logwV",
        "outputId": "e1495654-2eb8-49bf-8c64-614f67f7bf10"
      },
      "execution_count": 49,
      "outputs": [
        {
          "output_type": "execute_result",
          "data": {
            "text/plain": [
              "(tensor(9), tensor(90))"
            ]
          },
          "metadata": {},
          "execution_count": 49
        }
      ]
    },
    {
      "cell_type": "markdown",
      "source": [
        "# Reshaping, Viewing, Stacking\n",
        "\n",
        "* Reshaping - reshaping input tensors to another shape.\n",
        "* View - shares memory with original tensor.\n",
        "* Stacking - combine multiple tensors on top of each other\n",
        "* Squeeze - removes all '1' dimensions from a tensor\n",
        "* Unsqueeze - add a '1' dimension to a target tensor\n",
        "* Permute - return a view of the input with dimensions swapped in a certain way."
      ],
      "metadata": {
        "id": "ZvImX0ados8Y"
      }
    },
    {
      "cell_type": "code",
      "source": [
        "x = torch.arange(1.,10.)\n",
        "x, x.shape"
      ],
      "metadata": {
        "colab": {
          "base_uri": "https://localhost:8080/"
        },
        "id": "C5e4zVSIoxWC",
        "outputId": "93ae5452-48aa-4157-c8d6-9bcb9c688db7"
      },
      "execution_count": 50,
      "outputs": [
        {
          "output_type": "execute_result",
          "data": {
            "text/plain": [
              "(tensor([1., 2., 3., 4., 5., 6., 7., 8., 9.]), torch.Size([9]))"
            ]
          },
          "metadata": {},
          "execution_count": 50
        }
      ]
    },
    {
      "cell_type": "code",
      "source": [
        "# Reshaping - reshape dimensions, must be compatible with original size.\n",
        "# may or may not share memory with original tensor.\n",
        "# x_reshape = x.reshape(1,7) # invalid bc we have more than 7 elements.\n",
        "x_reshape = x.reshape(9,1) # we have 9 elements so fine.\n",
        "x_reshape\n",
        "x_reshape = x.reshape(3,3) # we have 9 elements, also fine\n",
        "x_reshape"
      ],
      "metadata": {
        "colab": {
          "base_uri": "https://localhost:8080/"
        },
        "id": "NjQL5ElmpoHh",
        "outputId": "54b7c0ae-a4be-4218-efd8-c8cda52e5925"
      },
      "execution_count": 51,
      "outputs": [
        {
          "output_type": "execute_result",
          "data": {
            "text/plain": [
              "tensor([[1., 2., 3.],\n",
              "        [4., 5., 6.],\n",
              "        [7., 8., 9.]])"
            ]
          },
          "metadata": {},
          "execution_count": 51
        }
      ]
    },
    {
      "cell_type": "code",
      "source": [
        "# View - very similar to reshape, but z and x both share the same memory location?\n",
        "# always changes x, always shares memory with the original tensor.\n",
        "z = x.view(3,3)\n",
        "z"
      ],
      "metadata": {
        "colab": {
          "base_uri": "https://localhost:8080/"
        },
        "id": "T33I_4hyqVJB",
        "outputId": "89ecf49e-a736-4a9a-c954-3124077ea555"
      },
      "execution_count": 52,
      "outputs": [
        {
          "output_type": "execute_result",
          "data": {
            "text/plain": [
              "tensor([[1., 2., 3.],\n",
              "        [4., 5., 6.],\n",
              "        [7., 8., 9.]])"
            ]
          },
          "metadata": {},
          "execution_count": 52
        }
      ]
    },
    {
      "cell_type": "code",
      "source": [
        "x # but x stays the same..."
      ],
      "metadata": {
        "colab": {
          "base_uri": "https://localhost:8080/"
        },
        "id": "CAAeQrDjPVLn",
        "outputId": "80aff00b-1b28-43c1-90bf-d19ff1c594d2"
      },
      "execution_count": 53,
      "outputs": [
        {
          "output_type": "execute_result",
          "data": {
            "text/plain": [
              "tensor([1., 2., 3., 4., 5., 6., 7., 8., 9.])"
            ]
          },
          "metadata": {},
          "execution_count": 53
        }
      ]
    },
    {
      "cell_type": "code",
      "source": [
        "# so what does it mean to share memory location?\n",
        "# it means if you change element in one, it will show in the other\n",
        "x[0] = 3\n",
        "x, z, x_reshape # both x and z have 3 changed.\n",
        "# x_reshape is also changed because is in this instance pytorch decided to do that."
      ],
      "metadata": {
        "colab": {
          "base_uri": "https://localhost:8080/"
        },
        "id": "f4M7lfriQcTY",
        "outputId": "8f1642ae-319e-4dc5-f05b-f37b778a2253"
      },
      "execution_count": 54,
      "outputs": [
        {
          "output_type": "execute_result",
          "data": {
            "text/plain": [
              "(tensor([3., 2., 3., 4., 5., 6., 7., 8., 9.]),\n",
              " tensor([[3., 2., 3.],\n",
              "         [4., 5., 6.],\n",
              "         [7., 8., 9.]]),\n",
              " tensor([[3., 2., 3.],\n",
              "         [4., 5., 6.],\n",
              "         [7., 8., 9.]]))"
            ]
          },
          "metadata": {},
          "execution_count": 54
        }
      ]
    },
    {
      "cell_type": "code",
      "source": [
        "x_reshape = x_reshape.clone()\n",
        "x[0] = 4\n",
        "x, z, x_reshape # clone() method makes sure x_reshape is not altered"
      ],
      "metadata": {
        "colab": {
          "base_uri": "https://localhost:8080/"
        },
        "id": "UDBp4KrVRmyB",
        "outputId": "df1b8e26-8434-4338-b2c8-351f64015458"
      },
      "execution_count": 55,
      "outputs": [
        {
          "output_type": "execute_result",
          "data": {
            "text/plain": [
              "(tensor([4., 2., 3., 4., 5., 6., 7., 8., 9.]),\n",
              " tensor([[4., 2., 3.],\n",
              "         [4., 5., 6.],\n",
              "         [7., 8., 9.]]),\n",
              " tensor([[3., 2., 3.],\n",
              "         [4., 5., 6.],\n",
              "         [7., 8., 9.]]))"
            ]
          },
          "metadata": {},
          "execution_count": 55
        }
      ]
    },
    {
      "cell_type": "code",
      "source": [
        "# Stack - concatenating tensors\n",
        "# dimensions must be compatible.\n",
        "x_stacked = torch.stack([x,x,x])\n",
        "x_stacked # just made this a matrix"
      ],
      "metadata": {
        "colab": {
          "base_uri": "https://localhost:8080/"
        },
        "id": "hR0n4NMPSPg7",
        "outputId": "57803443-6bc7-41da-b9aa-887a01bf9b5a"
      },
      "execution_count": 56,
      "outputs": [
        {
          "output_type": "execute_result",
          "data": {
            "text/plain": [
              "tensor([[4., 2., 3., 4., 5., 6., 7., 8., 9.],\n",
              "        [4., 2., 3., 4., 5., 6., 7., 8., 9.],\n",
              "        [4., 2., 3., 4., 5., 6., 7., 8., 9.]])"
            ]
          },
          "metadata": {},
          "execution_count": 56
        }
      ]
    },
    {
      "cell_type": "code",
      "source": [
        "# torch.stack([x,z]) # cant stack bc. dimensions incompatible"
      ],
      "metadata": {
        "id": "eqFIgBVgTOnk"
      },
      "execution_count": 57,
      "outputs": []
    },
    {
      "cell_type": "code",
      "source": [
        "# stacks tensors on top of each other.\n",
        "torch.vstack([x,x])"
      ],
      "metadata": {
        "colab": {
          "base_uri": "https://localhost:8080/"
        },
        "id": "RNCryvxhTabL",
        "outputId": "b76cd7c1-0755-4cad-b0d6-bb8b4facc4bb"
      },
      "execution_count": 58,
      "outputs": [
        {
          "output_type": "execute_result",
          "data": {
            "text/plain": [
              "tensor([[4., 2., 3., 4., 5., 6., 7., 8., 9.],\n",
              "        [4., 2., 3., 4., 5., 6., 7., 8., 9.]])"
            ]
          },
          "metadata": {},
          "execution_count": 58
        }
      ]
    },
    {
      "cell_type": "code",
      "source": [
        "# still stacking tensors, makes more rows.\n",
        "torch.vstack([x.reshape(9,1), x.reshape(9,1)])"
      ],
      "metadata": {
        "colab": {
          "base_uri": "https://localhost:8080/"
        },
        "id": "vcyWKelzTngK",
        "outputId": "2ad83f49-a5b6-4439-c7c4-3dd47ba7f4eb"
      },
      "execution_count": 59,
      "outputs": [
        {
          "output_type": "execute_result",
          "data": {
            "text/plain": [
              "tensor([[4.],\n",
              "        [2.],\n",
              "        [3.],\n",
              "        [4.],\n",
              "        [5.],\n",
              "        [6.],\n",
              "        [7.],\n",
              "        [8.],\n",
              "        [9.],\n",
              "        [4.],\n",
              "        [2.],\n",
              "        [3.],\n",
              "        [4.],\n",
              "        [5.],\n",
              "        [6.],\n",
              "        [7.],\n",
              "        [8.],\n",
              "        [9.]])"
            ]
          },
          "metadata": {},
          "execution_count": 59
        }
      ]
    },
    {
      "cell_type": "code",
      "source": [
        "# hstack puts each element of the second tensor in a new column of the first tensor.\n",
        "torch.hstack([x,x])"
      ],
      "metadata": {
        "colab": {
          "base_uri": "https://localhost:8080/"
        },
        "id": "TfERqyuYTc4K",
        "outputId": "759d5983-7553-4dab-e524-c6d69682d32d"
      },
      "execution_count": 60,
      "outputs": [
        {
          "output_type": "execute_result",
          "data": {
            "text/plain": [
              "tensor([4., 2., 3., 4., 5., 6., 7., 8., 9., 4., 2., 3., 4., 5., 6., 7., 8., 9.])"
            ]
          },
          "metadata": {},
          "execution_count": 60
        }
      ]
    },
    {
      "cell_type": "code",
      "source": [
        "# the second tensor is added to the second col of each row in the first tensor\n",
        "# no additional rows are created.\n",
        "torch.hstack([x.reshape(9,1), x.reshape(9,1)])"
      ],
      "metadata": {
        "colab": {
          "base_uri": "https://localhost:8080/"
        },
        "id": "duu4o8z-TtOQ",
        "outputId": "e0f9dcfa-f98c-4be0-80bf-166121fe14d2"
      },
      "execution_count": 61,
      "outputs": [
        {
          "output_type": "execute_result",
          "data": {
            "text/plain": [
              "tensor([[4., 4.],\n",
              "        [2., 2.],\n",
              "        [3., 3.],\n",
              "        [4., 4.],\n",
              "        [5., 5.],\n",
              "        [6., 6.],\n",
              "        [7., 7.],\n",
              "        [8., 8.],\n",
              "        [9., 9.]])"
            ]
          },
          "metadata": {},
          "execution_count": 61
        }
      ]
    },
    {
      "cell_type": "code",
      "source": [
        "# Squeeze - takes out all the one dimensions\n",
        "# shares memory with the original tensor, so modifications will echo.\n",
        "x_reshape = x.reshape(1,9)\n",
        "x_reshape, x_reshape.shape"
      ],
      "metadata": {
        "colab": {
          "base_uri": "https://localhost:8080/"
        },
        "id": "sqfrPWo8UN7w",
        "outputId": "1fc36991-b8b8-4caa-c3fc-831c009a69a0"
      },
      "execution_count": 62,
      "outputs": [
        {
          "output_type": "execute_result",
          "data": {
            "text/plain": [
              "(tensor([[4., 2., 3., 4., 5., 6., 7., 8., 9.]]), torch.Size([1, 9]))"
            ]
          },
          "metadata": {},
          "execution_count": 62
        }
      ]
    },
    {
      "cell_type": "code",
      "source": [
        "x_reshape.squeeze(), x_reshape.squeeze().shape # 1 dimension has been taken away"
      ],
      "metadata": {
        "colab": {
          "base_uri": "https://localhost:8080/"
        },
        "id": "XD-kUARoUiBr",
        "outputId": "3a19d5c0-4115-4081-892c-d79bfef15f8f"
      },
      "execution_count": 63,
      "outputs": [
        {
          "output_type": "execute_result",
          "data": {
            "text/plain": [
              "(tensor([4., 2., 3., 4., 5., 6., 7., 8., 9.]), torch.Size([9]))"
            ]
          },
          "metadata": {},
          "execution_count": 63
        }
      ]
    },
    {
      "cell_type": "code",
      "source": [
        "x_reshape_squeezed = x_reshape.squeeze()\n",
        "x_reshape_squeezed[0] = 50\n",
        "x_reshape_squeezed[0], x_reshape[0] # both were modified"
      ],
      "metadata": {
        "colab": {
          "base_uri": "https://localhost:8080/"
        },
        "id": "lCdKlwXjafe3",
        "outputId": "25f35616-bf33-4cf6-b98e-772185a2b3f0"
      },
      "execution_count": 64,
      "outputs": [
        {
          "output_type": "execute_result",
          "data": {
            "text/plain": [
              "(tensor(50.), tensor([50.,  2.,  3.,  4.,  5.,  6.,  7.,  8.,  9.]))"
            ]
          },
          "metadata": {},
          "execution_count": 64
        }
      ]
    },
    {
      "cell_type": "code",
      "source": [
        "# adds a dimension 1 at the 0th index of dimension\n",
        " # [9] goes to [1,9]\n",
        "x_reshape.squeeze().unsqueeze(dim=0), x_reshape.squeeze().unsqueeze(dim=0).shape"
      ],
      "metadata": {
        "colab": {
          "base_uri": "https://localhost:8080/"
        },
        "id": "xOU9fHyUX30-",
        "outputId": "31cd1a7d-a8ca-4238-c256-f0fff40f3f45"
      },
      "execution_count": 65,
      "outputs": [
        {
          "output_type": "execute_result",
          "data": {
            "text/plain": [
              "(tensor([[50.,  2.,  3.,  4.,  5.,  6.,  7.,  8.,  9.]]), torch.Size([1, 9]))"
            ]
          },
          "metadata": {},
          "execution_count": 65
        }
      ]
    },
    {
      "cell_type": "code",
      "source": [
        "# adds a dimension of 1 at 1th index of dimension\n",
        " # [9] goes to [9,1]\n",
        "x_reshape.squeeze().unsqueeze(dim=1), x_reshape.squeeze().unsqueeze(dim=1).shape"
      ],
      "metadata": {
        "colab": {
          "base_uri": "https://localhost:8080/"
        },
        "id": "lsmSo5nYYs_C",
        "outputId": "d45069b3-ec30-464f-edc6-45cae87a9424"
      },
      "execution_count": 66,
      "outputs": [
        {
          "output_type": "execute_result",
          "data": {
            "text/plain": [
              "(tensor([[50.],\n",
              "         [ 2.],\n",
              "         [ 3.],\n",
              "         [ 4.],\n",
              "         [ 5.],\n",
              "         [ 6.],\n",
              "         [ 7.],\n",
              "         [ 8.],\n",
              "         [ 9.]]),\n",
              " torch.Size([9, 1]))"
            ]
          },
          "metadata": {},
          "execution_count": 66
        }
      ]
    },
    {
      "cell_type": "code",
      "source": [
        "# negative values for dimension just count from last index\n",
        "# -2 means 1 before the last index (-1)\n",
        "# [9] => [1,9]\n",
        "x_reshape.squeeze().unsqueeze(dim=-2), x_reshape.squeeze().unsqueeze(dim=-2).shape"
      ],
      "metadata": {
        "colab": {
          "base_uri": "https://localhost:8080/"
        },
        "id": "p6S7zEAzY2P6",
        "outputId": "3b1021b0-286f-4781-aa5f-2dd514cb15ed"
      },
      "execution_count": 67,
      "outputs": [
        {
          "output_type": "execute_result",
          "data": {
            "text/plain": [
              "(tensor([[50.,  2.,  3.,  4.,  5.,  6.,  7.,  8.,  9.]]), torch.Size([1, 9]))"
            ]
          },
          "metadata": {},
          "execution_count": 67
        }
      ]
    },
    {
      "cell_type": "code",
      "source": [
        "x_reshape.squeeze().unsqueeze(dim=-1), x_reshape.squeeze().unsqueeze(dim=-1).shape"
      ],
      "metadata": {
        "colab": {
          "base_uri": "https://localhost:8080/"
        },
        "id": "LWVrWp4jaU-u",
        "outputId": "6905349a-4270-4d2c-a336-501f01fa491d"
      },
      "execution_count": 68,
      "outputs": [
        {
          "output_type": "execute_result",
          "data": {
            "text/plain": [
              "(tensor([[50.],\n",
              "         [ 2.],\n",
              "         [ 3.],\n",
              "         [ 4.],\n",
              "         [ 5.],\n",
              "         [ 6.],\n",
              "         [ 7.],\n",
              "         [ 8.],\n",
              "         [ 9.]]),\n",
              " torch.Size([9, 1]))"
            ]
          },
          "metadata": {},
          "execution_count": 68
        }
      ]
    },
    {
      "cell_type": "code",
      "source": [
        "# Permute - switch order of dimensions\n",
        "# permuted versions always share the same memory as the original, so modifications echo.\n",
        "x = torch.rand(size = (224, 224, 3)) # [height, width, color_channels]\n",
        "# permute original tensor to rearrange axis (or dim) order\n",
        "x_permuted = x.permute(2, 0, 1) # [color_channels, height, width]\n",
        "x.shape, x_permuted.shape"
      ],
      "metadata": {
        "colab": {
          "base_uri": "https://localhost:8080/"
        },
        "id": "Mf1eLJbvVPT2",
        "outputId": "5226eb2c-ea13-48dc-ec5b-dfb8485658dc"
      },
      "execution_count": 69,
      "outputs": [
        {
          "output_type": "execute_result",
          "data": {
            "text/plain": [
              "(torch.Size([224, 224, 3]), torch.Size([3, 224, 224]))"
            ]
          },
          "metadata": {},
          "execution_count": 69
        }
      ]
    },
    {
      "cell_type": "code",
      "source": [
        "x[0,0,0], x_permuted[0,0,0]"
      ],
      "metadata": {
        "colab": {
          "base_uri": "https://localhost:8080/"
        },
        "id": "35NH5obKXDTS",
        "outputId": "091bb289-d251-4739-8e18-05f04ef1b810"
      },
      "execution_count": 70,
      "outputs": [
        {
          "output_type": "execute_result",
          "data": {
            "text/plain": [
              "(tensor(0.9273), tensor(0.9273))"
            ]
          },
          "metadata": {},
          "execution_count": 70
        }
      ]
    },
    {
      "cell_type": "code",
      "source": [
        "x[0,0,0] = 0.35\n",
        "x[0,0,0], x_permuted[0,0,0]"
      ],
      "metadata": {
        "colab": {
          "base_uri": "https://localhost:8080/"
        },
        "id": "mGB8I5uxXK6P",
        "outputId": "9d66d378-4a5a-468a-ba05-4418c316cfdf"
      },
      "execution_count": 71,
      "outputs": [
        {
          "output_type": "execute_result",
          "data": {
            "text/plain": [
              "(tensor(0.3500), tensor(0.3500))"
            ]
          },
          "metadata": {},
          "execution_count": 71
        }
      ]
    },
    {
      "cell_type": "code",
      "source": [
        "w = torch.rand(2,2,3) # 2, 2x3 matrices\n",
        "w"
      ],
      "metadata": {
        "colab": {
          "base_uri": "https://localhost:8080/"
        },
        "id": "aX3PQkG8Gq7z",
        "outputId": "546717ce-c1a6-459c-998c-23a6d9334dfa"
      },
      "execution_count": 96,
      "outputs": [
        {
          "output_type": "execute_result",
          "data": {
            "text/plain": [
              "tensor([[[0.2969, 0.8317, 0.1053],\n",
              "         [0.2695, 0.3588, 0.1994]],\n",
              "\n",
              "        [[0.5472, 0.0062, 0.9516],\n",
              "         [0.0753, 0.8860, 0.5832]]])"
            ]
          },
          "metadata": {},
          "execution_count": 96
        }
      ]
    },
    {
      "cell_type": "code",
      "source": [
        "w[0, :, :], w[:, 0, :], w[:, :, 0]\n",
        "# 0th matrix, just first rows, just the first columns"
      ],
      "metadata": {
        "colab": {
          "base_uri": "https://localhost:8080/"
        },
        "id": "Y71JR9orJ0iV",
        "outputId": "cad5d78f-3f6f-482d-faf6-d7459e87735b"
      },
      "execution_count": 102,
      "outputs": [
        {
          "output_type": "execute_result",
          "data": {
            "text/plain": [
              "(tensor([[0.2969, 0.8317, 0.1053],\n",
              "         [0.2695, 0.3588, 0.1994]]),\n",
              " tensor([[0.2969, 0.8317, 0.1053],\n",
              "         [0.5472, 0.0062, 0.9516]]),\n",
              " tensor([[0.2969, 0.2695],\n",
              "         [0.5472, 0.0753]]))"
            ]
          },
          "metadata": {},
          "execution_count": 102
        }
      ]
    },
    {
      "cell_type": "code",
      "source": [
        "# when you permute with dimensions\n",
        "# along dim2 (the columns)\n",
        "# so if you put dim2 first in the permutation, this is what you end up with.\n",
        "w[:, :, 0], w[:, :, 1], w[:, :, 2]"
      ],
      "metadata": {
        "colab": {
          "base_uri": "https://localhost:8080/"
        },
        "id": "TnriN-I8S4f9",
        "outputId": "5550da4c-10f2-494f-865a-c6c16bfb5983"
      },
      "execution_count": 107,
      "outputs": [
        {
          "output_type": "execute_result",
          "data": {
            "text/plain": [
              "(tensor([[0.2969, 0.2695],\n",
              "         [0.5472, 0.0753]]),\n",
              " tensor([[0.8317, 0.3588],\n",
              "         [0.0062, 0.8860]]),\n",
              " tensor([[0.1053, 0.1994],\n",
              "         [0.9516, 0.5832]]))"
            ]
          },
          "metadata": {},
          "execution_count": 107
        }
      ]
    },
    {
      "cell_type": "code",
      "source": [
        "w.permute(2, 0, 1) # 3, 2x2 matrices"
      ],
      "metadata": {
        "colab": {
          "base_uri": "https://localhost:8080/"
        },
        "id": "HzriEYucG_nP",
        "outputId": "4b94d9ac-2b1e-45fa-81e4-ae5c6bbc7c4d"
      },
      "execution_count": 112,
      "outputs": [
        {
          "output_type": "execute_result",
          "data": {
            "text/plain": [
              "tensor([[[0.2969, 0.2695],\n",
              "         [0.5472, 0.0753]],\n",
              "\n",
              "        [[0.8317, 0.3588],\n",
              "         [0.0062, 0.8860]],\n",
              "\n",
              "        [[0.1053, 0.1994],\n",
              "         [0.9516, 0.5832]]])"
            ]
          },
          "metadata": {},
          "execution_count": 112
        }
      ]
    },
    {
      "cell_type": "code",
      "source": [
        "# if you put dim1 (rows)\n",
        "w[:, 0, :], w[:, 1, :]"
      ],
      "metadata": {
        "colab": {
          "base_uri": "https://localhost:8080/"
        },
        "id": "ze4OTV2TUOFn",
        "outputId": "5eae67b9-0878-4706-e971-263456c7d6d7"
      },
      "execution_count": 110,
      "outputs": [
        {
          "output_type": "execute_result",
          "data": {
            "text/plain": [
              "(tensor([[0.2969, 0.8317, 0.1053],\n",
              "         [0.5472, 0.0062, 0.9516]]),\n",
              " tensor([[0.2695, 0.3588, 0.1994],\n",
              "         [0.0753, 0.8860, 0.5832]]))"
            ]
          },
          "metadata": {},
          "execution_count": 110
        }
      ]
    },
    {
      "cell_type": "code",
      "source": [
        "w.permute(1,2,0) # rearrangment"
      ],
      "metadata": {
        "colab": {
          "base_uri": "https://localhost:8080/"
        },
        "id": "sBv8vYDhUlMz",
        "outputId": "ddffaced-b253-46a9-9d66-83968f951b1e"
      },
      "execution_count": 116,
      "outputs": [
        {
          "output_type": "execute_result",
          "data": {
            "text/plain": [
              "tensor([[[0.2969, 0.5472],\n",
              "         [0.8317, 0.0062],\n",
              "         [0.1053, 0.9516]],\n",
              "\n",
              "        [[0.2695, 0.0753],\n",
              "         [0.3588, 0.8860],\n",
              "         [0.1994, 0.5832]]])"
            ]
          },
          "metadata": {},
          "execution_count": 116
        }
      ]
    },
    {
      "cell_type": "markdown",
      "source": [
        "## Indexing"
      ],
      "metadata": {
        "id": "dCMaOAQgcJJj"
      }
    },
    {
      "cell_type": "code",
      "source": [
        "x = torch.arange(1, 10).reshape(1,3,3)\n",
        "x"
      ],
      "metadata": {
        "colab": {
          "base_uri": "https://localhost:8080/"
        },
        "id": "_FTstva-cK8o",
        "outputId": "4e561898-9164-486b-9aac-2331ea6a38d2"
      },
      "execution_count": 72,
      "outputs": [
        {
          "output_type": "execute_result",
          "data": {
            "text/plain": [
              "tensor([[[1, 2, 3],\n",
              "         [4, 5, 6],\n",
              "         [7, 8, 9]]])"
            ]
          },
          "metadata": {},
          "execution_count": 72
        }
      ]
    },
    {
      "cell_type": "code",
      "source": [
        "# index\n",
        "x[0] # the first matrix"
      ],
      "metadata": {
        "colab": {
          "base_uri": "https://localhost:8080/"
        },
        "id": "5yh-vQbTXUEL",
        "outputId": "87b03b06-c44b-4f92-fd0c-1139bab15df8"
      },
      "execution_count": 73,
      "outputs": [
        {
          "output_type": "execute_result",
          "data": {
            "text/plain": [
              "tensor([[1, 2, 3],\n",
              "        [4, 5, 6],\n",
              "        [7, 8, 9]])"
            ]
          },
          "metadata": {},
          "execution_count": 73
        }
      ]
    },
    {
      "cell_type": "code",
      "source": [
        "x[0,0] # first matrix, first row"
      ],
      "metadata": {
        "colab": {
          "base_uri": "https://localhost:8080/"
        },
        "id": "p8YZ-P-kcfS_",
        "outputId": "8fa28b5c-5051-48af-d63e-cf05d58b6264"
      },
      "execution_count": 74,
      "outputs": [
        {
          "output_type": "execute_result",
          "data": {
            "text/plain": [
              "tensor([1, 2, 3])"
            ]
          },
          "metadata": {},
          "execution_count": 74
        }
      ]
    },
    {
      "cell_type": "code",
      "source": [
        "x[0,1,0] # first matrix, second row, first column"
      ],
      "metadata": {
        "colab": {
          "base_uri": "https://localhost:8080/"
        },
        "id": "uiPNWEStcirv",
        "outputId": "995e463d-8979-4181-fd9d-c6a057b27130"
      },
      "execution_count": 75,
      "outputs": [
        {
          "output_type": "execute_result",
          "data": {
            "text/plain": [
              "tensor(4)"
            ]
          },
          "metadata": {},
          "execution_count": 75
        }
      ]
    },
    {
      "cell_type": "code",
      "source": [
        "# or\n",
        "x[0][0] # does the same thing."
      ],
      "metadata": {
        "colab": {
          "base_uri": "https://localhost:8080/"
        },
        "id": "rQJ4clFWcutM",
        "outputId": "9e7cd600-3835-444d-fdcc-381845c827c4"
      },
      "execution_count": 76,
      "outputs": [
        {
          "output_type": "execute_result",
          "data": {
            "text/plain": [
              "tensor([1, 2, 3])"
            ]
          },
          "metadata": {},
          "execution_count": 76
        }
      ]
    },
    {
      "cell_type": "code",
      "source": [
        "x[:, :, 1] # all matrices, all rows, only col 1"
      ],
      "metadata": {
        "colab": {
          "base_uri": "https://localhost:8080/"
        },
        "id": "jwPjRMqMdM1r",
        "outputId": "c4249213-bb42-4fa1-cceb-b9c44cf6ed93"
      },
      "execution_count": 77,
      "outputs": [
        {
          "output_type": "execute_result",
          "data": {
            "text/plain": [
              "tensor([[2, 5, 8]])"
            ]
          },
          "metadata": {},
          "execution_count": 77
        }
      ]
    },
    {
      "cell_type": "code",
      "source": [
        "x[0, :, 0:2] # only two columns"
      ],
      "metadata": {
        "colab": {
          "base_uri": "https://localhost:8080/"
        },
        "id": "a9B5D-J0d83j",
        "outputId": "b8fdda27-4c3f-4f93-e46a-c90744da6a68"
      },
      "execution_count": 78,
      "outputs": [
        {
          "output_type": "execute_result",
          "data": {
            "text/plain": [
              "tensor([[1, 2],\n",
              "        [4, 5],\n",
              "        [7, 8]])"
            ]
          },
          "metadata": {},
          "execution_count": 78
        }
      ]
    },
    {
      "cell_type": "code",
      "source": [
        "torch.rand(3,3)"
      ],
      "metadata": {
        "colab": {
          "base_uri": "https://localhost:8080/"
        },
        "id": "HvaozuIqYetc",
        "outputId": "d798e39c-8640-46d4-cd8f-1a850685c30b"
      },
      "execution_count": 79,
      "outputs": [
        {
          "output_type": "execute_result",
          "data": {
            "text/plain": [
              "tensor([[0.4982, 0.5707, 0.4637],\n",
              "        [0.5243, 0.9373, 0.9771],\n",
              "        [0.0241, 0.9469, 0.8924]])"
            ]
          },
          "metadata": {},
          "execution_count": 79
        }
      ]
    },
    {
      "cell_type": "markdown",
      "source": [
        "## PyTorch and Numpy\n",
        "\n",
        "Numpy is popular, learn how to go between pytorch and numpy."
      ],
      "metadata": {
        "id": "8MrYf4hgbLP8"
      }
    },
    {
      "cell_type": "code",
      "source": [
        "array = np.array([(1,2,3),(1,2,3),(1,2,3)])\n",
        "array, type(array[0][0])"
      ],
      "metadata": {
        "colab": {
          "base_uri": "https://localhost:8080/"
        },
        "id": "BVTR-G1ecK9E",
        "outputId": "cd527f9a-976d-4b31-cc2c-990b3a59d92a"
      },
      "execution_count": 80,
      "outputs": [
        {
          "output_type": "execute_result",
          "data": {
            "text/plain": [
              "(array([[1, 2, 3],\n",
              "        [1, 2, 3],\n",
              "        [1, 2, 3]]),\n",
              " numpy.int64)"
            ]
          },
          "metadata": {},
          "execution_count": 80
        }
      ]
    },
    {
      "cell_type": "code",
      "source": [
        "# make a tensor\n",
        "array_tensor = torch.from_numpy(array)\n",
        "array_tensor, array_tensor.dtype # boom, it's a tensor ahahaha"
      ],
      "metadata": {
        "colab": {
          "base_uri": "https://localhost:8080/"
        },
        "id": "tEqHGx89caA0",
        "outputId": "e6731bab-78ff-43f7-c892-46fe4816431d"
      },
      "execution_count": 81,
      "outputs": [
        {
          "output_type": "execute_result",
          "data": {
            "text/plain": [
              "(tensor([[1, 2, 3],\n",
              "         [1, 2, 3],\n",
              "         [1, 2, 3]]),\n",
              " torch.int64)"
            ]
          },
          "metadata": {},
          "execution_count": 81
        }
      ]
    },
    {
      "cell_type": "code",
      "source": [
        "# note: by default, numpy datatype is float64 and any tensor created from them will cast to that type.\n",
        "torch.from_numpy(np.array([1.0,9.0])) #float64, not torch default torch float32"
      ],
      "metadata": {
        "colab": {
          "base_uri": "https://localhost:8080/"
        },
        "id": "IkTYeMxfdOWn",
        "outputId": "93f8e35a-eb96-472c-b292-3f0fd9c551fd"
      },
      "execution_count": 82,
      "outputs": [
        {
          "output_type": "execute_result",
          "data": {
            "text/plain": [
              "tensor([1., 9.], dtype=torch.float64)"
            ]
          },
          "metadata": {},
          "execution_count": 82
        }
      ]
    },
    {
      "cell_type": "code",
      "source": [
        "# tensor to numpy array\n",
        "tensor = torch.ones(7)\n",
        "numpy_tensor = tensor.numpy()\n",
        "tensor, tensor.dtype, numpy_tensor #numpy array is float32 just like tensor defualt."
      ],
      "metadata": {
        "colab": {
          "base_uri": "https://localhost:8080/"
        },
        "id": "21Bm7r7BdXJo",
        "outputId": "30f29106-a97c-45c4-836f-5e1e323502e5"
      },
      "execution_count": 83,
      "outputs": [
        {
          "output_type": "execute_result",
          "data": {
            "text/plain": [
              "(tensor([1., 1., 1., 1., 1., 1., 1.]),\n",
              " torch.float32,\n",
              " array([1., 1., 1., 1., 1., 1., 1.], dtype=float32))"
            ]
          },
          "metadata": {},
          "execution_count": 83
        }
      ]
    },
    {
      "cell_type": "markdown",
      "source": [
        "## Reproducibility\n",
        "\n",
        "Taking the random out of random.\n",
        "- start with random numbers -> tensor operations -> update the numbers -> repeat until good\n",
        "- sometimes you dont want so much randomness.\n",
        "- reduce neural network randomness, use **random seed**"
      ],
      "metadata": {
        "id": "WcQYWc75dypi"
      }
    },
    {
      "cell_type": "code",
      "source": [
        "torch.rand(3,3)"
      ],
      "metadata": {
        "colab": {
          "base_uri": "https://localhost:8080/"
        },
        "id": "Q9mELGaadx21",
        "outputId": "bf3cf64b-2272-4b04-c3fe-b05fe46b5860"
      },
      "execution_count": 84,
      "outputs": [
        {
          "output_type": "execute_result",
          "data": {
            "text/plain": [
              "tensor([[0.7709, 0.4783, 0.9611],\n",
              "        [0.9269, 0.7522, 0.3058],\n",
              "        [0.9160, 0.3939, 0.9485]])"
            ]
          },
          "metadata": {},
          "execution_count": 84
        }
      ]
    },
    {
      "cell_type": "code",
      "source": [
        " # highly unlikely to generate the same random numbers in two arrays\n",
        " rand_A = torch.rand(3,4)\n",
        " rand_B = torch.rand(3,4)\n",
        " print(rand_A)\n",
        " rand_A == rand_B # none of the values match w/ each other."
      ],
      "metadata": {
        "colab": {
          "base_uri": "https://localhost:8080/"
        },
        "id": "AA9E4_Z_eCut",
        "outputId": "29f1a903-288e-48ca-c465-93de3373def1"
      },
      "execution_count": 85,
      "outputs": [
        {
          "output_type": "stream",
          "name": "stdout",
          "text": [
            "tensor([[0.4551, 0.9818, 0.8126, 0.3469],\n",
            "        [0.0295, 0.5840, 0.6563, 0.1038],\n",
            "        [0.7930, 0.2958, 0.7382, 0.9819]])\n"
          ]
        },
        {
          "output_type": "execute_result",
          "data": {
            "text/plain": [
              "tensor([[False, False, False, False],\n",
              "        [False, False, False, False],\n",
              "        [False, False, False, False]])"
            ]
          },
          "metadata": {},
          "execution_count": 85
        }
      ]
    },
    {
      "cell_type": "code",
      "source": [
        "# important note: use RANDOM SEED once at the start of each cell\n",
        "# or the arrays will be the same\n",
        "\n",
        "RANDOM_SEED = 42 # common flavor for randomness\n",
        "# makes the randomness reproducible across users.\n",
        "\n",
        "torch.manual_seed(RANDOM_SEED)\n",
        "C = torch.rand(3,4)\n",
        "print(C) # with random seed, ALWAYS produces the same thing.\n",
        "torch.manual_seed(RANDOM_SEED)\n",
        "D = torch.rand(3, 4)\n",
        "\n",
        "C == D"
      ],
      "metadata": {
        "colab": {
          "base_uri": "https://localhost:8080/"
        },
        "id": "V2sWGbzqesH8",
        "outputId": "10461d8f-a23e-4058-f8ab-80c58908f67f"
      },
      "execution_count": 126,
      "outputs": [
        {
          "output_type": "stream",
          "name": "stdout",
          "text": [
            "tensor([[0.8823, 0.9150, 0.3829, 0.9593],\n",
            "        [0.3904, 0.6009, 0.2566, 0.7936],\n",
            "        [0.9408, 0.1332, 0.9346, 0.5936]])\n"
          ]
        },
        {
          "output_type": "execute_result",
          "data": {
            "text/plain": [
              "tensor([[True, True, True, True],\n",
              "        [True, True, True, True],\n",
              "        [True, True, True, True]])"
            ]
          },
          "metadata": {},
          "execution_count": 126
        }
      ]
    },
    {
      "cell_type": "markdown",
      "source": [
        "# GPUs\n",
        "\n",
        "GPUs - faster computation on numbers, thanks to CUDA + NVIDA hardware and pytorch optimization"
      ],
      "metadata": {
        "id": "4_mPd_mFfsiC"
      }
    },
    {
      "cell_type": "code",
      "source": [],
      "metadata": {
        "id": "EuQHjiPsgE4H"
      },
      "execution_count": 86,
      "outputs": []
    }
  ]
}
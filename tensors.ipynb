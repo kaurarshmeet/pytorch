{
  "nbformat": 4,
  "nbformat_minor": 0,
  "metadata": {
    "colab": {
      "provenance": [],
      "gpuType": "T4",
      "authorship_tag": "ABX9TyNQYSPZ2wm2wsl556IE3vDo",
      "include_colab_link": true
    },
    "kernelspec": {
      "name": "python3",
      "display_name": "Python 3"
    },
    "language_info": {
      "name": "python"
    }
  },
  "cells": [
    {
      "cell_type": "markdown",
      "metadata": {
        "id": "view-in-github",
        "colab_type": "text"
      },
      "source": [
        "<a href=\"https://colab.research.google.com/github/kaurarshmeet/pytorch/blob/main/tensors.ipynb\" target=\"_parent\"><img src=\"https://colab.research.google.com/assets/colab-badge.svg\" alt=\"Open In Colab\"/></a>"
      ]
    },
    {
      "cell_type": "markdown",
      "source": [
        "# Tensors"
      ],
      "metadata": {
        "id": "hO7MzqO9HrGz"
      }
    },
    {
      "cell_type": "code",
      "source": [
        "!nvidia-smi"
      ],
      "metadata": {
        "colab": {
          "base_uri": "https://localhost:8080/"
        },
        "id": "JCHzpz8KHzGt",
        "outputId": "61715c2d-90e3-4ae4-d7e7-d9367604139c"
      },
      "execution_count": 2,
      "outputs": [
        {
          "output_type": "stream",
          "name": "stdout",
          "text": [
            "/bin/bash: line 1: nvidia-smi: command not found\n"
          ]
        }
      ]
    },
    {
      "cell_type": "code",
      "source": [
        "import torch\n",
        "import pandas as pd\n",
        "import numpy as np\n",
        "import matplotlib.pyplot as plt"
      ],
      "metadata": {
        "id": "TA33WpuBINCC"
      },
      "execution_count": 3,
      "outputs": []
    },
    {
      "cell_type": "code",
      "source": [
        "print(torch.__version__)"
      ],
      "metadata": {
        "colab": {
          "base_uri": "https://localhost:8080/"
        },
        "id": "A9HY3gs8Jbcz",
        "outputId": "968ab014-e2aa-4f71-92d7-cd422e273752"
      },
      "execution_count": 4,
      "outputs": [
        {
          "output_type": "stream",
          "name": "stdout",
          "text": [
            "2.6.0+cu124\n"
          ]
        }
      ]
    },
    {
      "cell_type": "markdown",
      "source": [
        "## Different kinds of tensors:\n",
        "*   Scalar = one number\n",
        "*   Tensor = a tupule"
      ],
      "metadata": {
        "id": "LWs3o-KAKEp7"
      }
    },
    {
      "cell_type": "code",
      "source": [
        "# scalar\n",
        "scalar = torch.tensor(7)\n",
        "scalar"
      ],
      "metadata": {
        "colab": {
          "base_uri": "https://localhost:8080/"
        },
        "id": "-EGloHRNKUCJ",
        "outputId": "afa23640-fbb6-4043-8398-53f448647350"
      },
      "execution_count": 5,
      "outputs": [
        {
          "output_type": "execute_result",
          "data": {
            "text/plain": [
              "tensor(7)"
            ]
          },
          "metadata": {},
          "execution_count": 5
        }
      ]
    },
    {
      "cell_type": "code",
      "source": [
        "scalar.ndim # 0 dimensions for a scalar."
      ],
      "metadata": {
        "colab": {
          "base_uri": "https://localhost:8080/"
        },
        "id": "BZjM11ThKhfm",
        "outputId": "74e06a92-5993-42be-a2bc-ff98414f298c"
      },
      "execution_count": 6,
      "outputs": [
        {
          "output_type": "execute_result",
          "data": {
            "text/plain": [
              "0"
            ]
          },
          "metadata": {},
          "execution_count": 6
        }
      ]
    },
    {
      "cell_type": "code",
      "source": [
        "# vector\n",
        "vector = torch.tensor([7,7])\n",
        "vector"
      ],
      "metadata": {
        "colab": {
          "base_uri": "https://localhost:8080/"
        },
        "id": "VH1VN8vtK1ei",
        "outputId": "46b03710-7627-4604-9e76-f44cb10e55ce"
      },
      "execution_count": 7,
      "outputs": [
        {
          "output_type": "execute_result",
          "data": {
            "text/plain": [
              "tensor([7, 7])"
            ]
          },
          "metadata": {},
          "execution_count": 7
        }
      ]
    },
    {
      "cell_type": "code",
      "source": [
        "vector.ndim # 1 dimensions for a vector."
      ],
      "metadata": {
        "colab": {
          "base_uri": "https://localhost:8080/"
        },
        "id": "ya9RGXuqLCrM",
        "outputId": "12ba14bc-a688-43ea-9cb2-9a52b213372e"
      },
      "execution_count": 8,
      "outputs": [
        {
          "output_type": "execute_result",
          "data": {
            "text/plain": [
              "1"
            ]
          },
          "metadata": {},
          "execution_count": 8
        }
      ]
    },
    {
      "cell_type": "code",
      "source": [
        "vector.shape # 2 by 1 => 2 elements in the vector."
      ],
      "metadata": {
        "colab": {
          "base_uri": "https://localhost:8080/"
        },
        "id": "4t23pxOQLFzC",
        "outputId": "eb7dd302-0078-455f-f204-a85cdb5a67cd"
      },
      "execution_count": 9,
      "outputs": [
        {
          "output_type": "execute_result",
          "data": {
            "text/plain": [
              "torch.Size([2])"
            ]
          },
          "metadata": {},
          "execution_count": 9
        }
      ]
    },
    {
      "cell_type": "code",
      "source": [
        "# matrix - a group of vectors.\n",
        "MATRIX = torch.tensor(\n",
        "    [[7,8],\n",
        "    [9,10]]\n",
        ")\n",
        "MATRIX"
      ],
      "metadata": {
        "colab": {
          "base_uri": "https://localhost:8080/"
        },
        "id": "fWoa4AcGLKS8",
        "outputId": "871cfa1f-a75a-4fb6-f695-7c2902f58f7d"
      },
      "execution_count": 10,
      "outputs": [
        {
          "output_type": "execute_result",
          "data": {
            "text/plain": [
              "tensor([[ 7,  8],\n",
              "        [ 9, 10]])"
            ]
          },
          "metadata": {},
          "execution_count": 10
        }
      ]
    },
    {
      "cell_type": "code",
      "source": [
        "MATRIX.ndim # 2"
      ],
      "metadata": {
        "colab": {
          "base_uri": "https://localhost:8080/"
        },
        "id": "FVGn2bsRLWFZ",
        "outputId": "557e21a8-11ed-4465-ed3b-4233f9d8f570"
      },
      "execution_count": 11,
      "outputs": [
        {
          "output_type": "execute_result",
          "data": {
            "text/plain": [
              "2"
            ]
          },
          "metadata": {},
          "execution_count": 11
        }
      ]
    },
    {
      "cell_type": "code",
      "source": [
        "MATRIX.shape # 2 by 2"
      ],
      "metadata": {
        "colab": {
          "base_uri": "https://localhost:8080/"
        },
        "id": "7XNjxhMPLYqf",
        "outputId": "ecaaa23e-013a-4b38-9cdb-006c7120dd4e"
      },
      "execution_count": 12,
      "outputs": [
        {
          "output_type": "execute_result",
          "data": {
            "text/plain": [
              "torch.Size([2, 2])"
            ]
          },
          "metadata": {},
          "execution_count": 12
        }
      ]
    },
    {
      "cell_type": "code",
      "source": [
        "# Tensor - a group of matrices\n",
        "TENSOR = torch.tensor(\n",
        "    [[\n",
        "        [[1,2,3],\n",
        "       [3,6,9]],\n",
        "\n",
        "        [[1,3,4],\n",
        "         [1,3,4]]\n",
        "\n",
        "        ],\n",
        "\n",
        "        [\n",
        "           [[1,3,2],\n",
        "            [1,5,8]],\n",
        "\n",
        "           [[1,2,3],\n",
        "            [4,5,6]]\n",
        "        ]\n",
        "     ]\n",
        ")\n",
        "\n",
        "TENSOR"
      ],
      "metadata": {
        "colab": {
          "base_uri": "https://localhost:8080/"
        },
        "id": "nQtUZ6imLh6K",
        "outputId": "fd8a2c18-98e9-4447-e8f2-d74e0a8a1c42"
      },
      "execution_count": 13,
      "outputs": [
        {
          "output_type": "execute_result",
          "data": {
            "text/plain": [
              "tensor([[[[1, 2, 3],\n",
              "          [3, 6, 9]],\n",
              "\n",
              "         [[1, 3, 4],\n",
              "          [1, 3, 4]]],\n",
              "\n",
              "\n",
              "        [[[1, 3, 2],\n",
              "          [1, 5, 8]],\n",
              "\n",
              "         [[1, 2, 3],\n",
              "          [4, 5, 6]]]])"
            ]
          },
          "metadata": {},
          "execution_count": 13
        }
      ]
    },
    {
      "cell_type": "code",
      "source": [
        "TENSOR.ndim"
      ],
      "metadata": {
        "colab": {
          "base_uri": "https://localhost:8080/"
        },
        "id": "9k5dmzvjL_M7",
        "outputId": "1af6cf61-48fb-4ee6-c2da-cbeba44ca982"
      },
      "execution_count": 14,
      "outputs": [
        {
          "output_type": "execute_result",
          "data": {
            "text/plain": [
              "4"
            ]
          },
          "metadata": {},
          "execution_count": 14
        }
      ]
    },
    {
      "cell_type": "code",
      "source": [
        "TENSOR.shape # 2 sets of 2 (2 x 3 matrices)."
      ],
      "metadata": {
        "colab": {
          "base_uri": "https://localhost:8080/"
        },
        "id": "hQB3vHdIMJGy",
        "outputId": "4350026b-1190-46b0-c0bf-6c8fe4104213"
      },
      "execution_count": 15,
      "outputs": [
        {
          "output_type": "execute_result",
          "data": {
            "text/plain": [
              "torch.Size([2, 2, 2, 3])"
            ]
          },
          "metadata": {},
          "execution_count": 15
        }
      ]
    },
    {
      "cell_type": "markdown",
      "source": [
        "## Random Tensors\n",
        "\n",
        "* Many neural networks start with tensors full of random numbers, then update those to better understand data."
      ],
      "metadata": {
        "id": "lKvGpCThNohM"
      }
    },
    {
      "cell_type": "code",
      "source": [
        "# by default, they will be float data type.\n",
        "random_tensor = torch.rand(2, 3, 4) # 2 (3 x 4 matrices) filled with random numbers.\n",
        "random_tensor"
      ],
      "metadata": {
        "colab": {
          "base_uri": "https://localhost:8080/"
        },
        "id": "M1i-QbY6N_Fw",
        "outputId": "e1b59fce-a3c9-4def-9dd9-8547ffa9bafe"
      },
      "execution_count": 16,
      "outputs": [
        {
          "output_type": "execute_result",
          "data": {
            "text/plain": [
              "tensor([[[0.4006, 0.6188, 0.9999, 0.5309],\n",
              "         [0.7792, 0.1551, 0.2733, 0.7753],\n",
              "         [0.0637, 0.6034, 0.6381, 0.8989]],\n",
              "\n",
              "        [[0.5680, 0.0888, 0.6032, 0.6967],\n",
              "         [0.2380, 0.3493, 0.6153, 0.6085],\n",
              "         [0.9857, 0.3163, 0.0185, 0.3276]]])"
            ]
          },
          "metadata": {},
          "execution_count": 16
        }
      ]
    },
    {
      "cell_type": "code",
      "source": [
        "zeros = torch.zeros(size=(2,3,4))\n",
        "zeros"
      ],
      "metadata": {
        "colab": {
          "base_uri": "https://localhost:8080/"
        },
        "id": "3qFywNMLOKMa",
        "outputId": "31cd507a-9ac6-445a-9d32-d8337b6f5655"
      },
      "execution_count": 17,
      "outputs": [
        {
          "output_type": "execute_result",
          "data": {
            "text/plain": [
              "tensor([[[0., 0., 0., 0.],\n",
              "         [0., 0., 0., 0.],\n",
              "         [0., 0., 0., 0.]],\n",
              "\n",
              "        [[0., 0., 0., 0.],\n",
              "         [0., 0., 0., 0.],\n",
              "         [0., 0., 0., 0.]]])"
            ]
          },
          "metadata": {},
          "execution_count": 17
        }
      ]
    },
    {
      "cell_type": "code",
      "source": [
        "# multiplying two tensors\n",
        "random_tensor * zeros"
      ],
      "metadata": {
        "colab": {
          "base_uri": "https://localhost:8080/"
        },
        "id": "N03FVZ0gSXzh",
        "outputId": "2fb0a64b-c4f1-48bd-cd01-94e9e91e5809"
      },
      "execution_count": 18,
      "outputs": [
        {
          "output_type": "execute_result",
          "data": {
            "text/plain": [
              "tensor([[[0., 0., 0., 0.],\n",
              "         [0., 0., 0., 0.],\n",
              "         [0., 0., 0., 0.]],\n",
              "\n",
              "        [[0., 0., 0., 0.],\n",
              "         [0., 0., 0., 0.],\n",
              "         [0., 0., 0., 0.]]])"
            ]
          },
          "metadata": {},
          "execution_count": 18
        }
      ]
    },
    {
      "cell_type": "code",
      "source": [
        "random_tensor.dtype"
      ],
      "metadata": {
        "colab": {
          "base_uri": "https://localhost:8080/"
        },
        "id": "1-M3Ug_qSbni",
        "outputId": "e89ff763-2296-4ec9-ddec-ac3c05c11907"
      },
      "execution_count": 19,
      "outputs": [
        {
          "output_type": "execute_result",
          "data": {
            "text/plain": [
              "torch.float32"
            ]
          },
          "metadata": {},
          "execution_count": 19
        }
      ]
    },
    {
      "cell_type": "markdown",
      "source": [
        "## Creating a Range of Tensors"
      ],
      "metadata": {
        "id": "6uz9P-jRSsHi"
      }
    },
    {
      "cell_type": "code",
      "source": [
        "# creating a tensor from the range.\n",
        "# arange(start, stop, step)\n",
        "# [start, start + step...stop) not end-inclusive.\n",
        "torch.arange(0,10)"
      ],
      "metadata": {
        "colab": {
          "base_uri": "https://localhost:8080/"
        },
        "id": "o_OMipgUSrT-",
        "outputId": "50039b78-e5fd-4f04-f7bf-52803c3157e2"
      },
      "execution_count": 20,
      "outputs": [
        {
          "output_type": "execute_result",
          "data": {
            "text/plain": [
              "tensor([0, 1, 2, 3, 4, 5, 6, 7, 8, 9])"
            ]
          },
          "metadata": {},
          "execution_count": 20
        }
      ]
    },
    {
      "cell_type": "code",
      "source": [
        "skipping = torch.arange(0,10,2)\n",
        "skipping"
      ],
      "metadata": {
        "colab": {
          "base_uri": "https://localhost:8080/"
        },
        "id": "Dk8zyOslS5Xc",
        "outputId": "eedcf970-35a3-4b2d-f5d3-2e525624cdd1"
      },
      "execution_count": 21,
      "outputs": [
        {
          "output_type": "execute_result",
          "data": {
            "text/plain": [
              "tensor([0, 2, 4, 6, 8])"
            ]
          },
          "metadata": {},
          "execution_count": 21
        }
      ]
    },
    {
      "cell_type": "code",
      "source": [
        "# Create a copy tensor (in terms of shape)\n",
        "\n",
        "# creates a tensor with the same shape.\n",
        "ten_zeros = torch.zeros_like(input=skipping)\n",
        "ten_zeros\n",
        "\n",
        "ten_ones = torch.ones_like(input = skipping)\n",
        "ten_ones"
      ],
      "metadata": {
        "colab": {
          "base_uri": "https://localhost:8080/"
        },
        "id": "yus_3aLcTNo4",
        "outputId": "3b3ae3b2-7bc0-4c77-f274-7fa690057b6a"
      },
      "execution_count": 22,
      "outputs": [
        {
          "output_type": "execute_result",
          "data": {
            "text/plain": [
              "tensor([1, 1, 1, 1, 1])"
            ]
          },
          "metadata": {},
          "execution_count": 22
        }
      ]
    },
    {
      "cell_type": "markdown",
      "source": [
        "## Tensor Datatypes\n",
        "\n",
        "Big issues in PyTorch / deep learning\n",
        "1. Tensors not right datatype.\n",
        "2. Tensors not right shape.\n",
        "3. Tensors not on right device."
      ],
      "metadata": {
        "id": "M1Ogy4LAT3tE"
      }
    },
    {
      "cell_type": "code",
      "source": [
        "float_32_tensor = torch.rand(2,3)\n",
        "float_32_tensor.dtype # by default, float 32."
      ],
      "metadata": {
        "colab": {
          "base_uri": "https://localhost:8080/"
        },
        "id": "tLWKdHIzT6X9",
        "outputId": "b384090b-2d47-4647-ad3c-0cc47913a4cd"
      },
      "execution_count": 23,
      "outputs": [
        {
          "output_type": "execute_result",
          "data": {
            "text/plain": [
              "torch.float32"
            ]
          },
          "metadata": {},
          "execution_count": 23
        }
      ]
    },
    {
      "cell_type": "code",
      "source": [
        "# tensor fields - don't always have to specify these.\n",
        "fields = torch.tensor([1,3,3],\n",
        "                      dtype=None, # still creates float 32 by default.\n",
        "                                  # may want to demote to torch.half to run faster\n",
        "                                  # upgrade to torch.double for more precision.\n",
        "                      device = None, # what device is the tensor on\n",
        "                      requires_grad = False) # whether or not to track gradients with tensor operations"
      ],
      "metadata": {
        "id": "TFk0z0hwUGe6"
      },
      "execution_count": 24,
      "outputs": []
    },
    {
      "cell_type": "code",
      "source": [
        "float_16_tensor = fields.type(torch.float16)\n",
        "float_16_tensor.dtype"
      ],
      "metadata": {
        "colab": {
          "base_uri": "https://localhost:8080/"
        },
        "id": "VXLgpn1YVyIQ",
        "outputId": "6ba2b0ce-cdb2-4e3d-b10d-2a774b690faf"
      },
      "execution_count": 25,
      "outputs": [
        {
          "output_type": "execute_result",
          "data": {
            "text/plain": [
              "torch.float16"
            ]
          },
          "metadata": {},
          "execution_count": 25
        }
      ]
    },
    {
      "cell_type": "code",
      "source": [
        "fields * float_16_tensor # everything gets depreciated to float16\n",
        "# sometimes it works\n",
        "# sometimes it dont work"
      ],
      "metadata": {
        "colab": {
          "base_uri": "https://localhost:8080/"
        },
        "id": "arViklB1WCfw",
        "outputId": "6a890f1e-121c-4287-d77b-370cb8d2e7e6"
      },
      "execution_count": 26,
      "outputs": [
        {
          "output_type": "execute_result",
          "data": {
            "text/plain": [
              "tensor([1., 9., 9.], dtype=torch.float16)"
            ]
          },
          "metadata": {},
          "execution_count": 26
        }
      ]
    },
    {
      "cell_type": "markdown",
      "source": [
        "## Tensor Attributes"
      ],
      "metadata": {
        "id": "7r63Ip5yYlZA"
      }
    },
    {
      "cell_type": "code",
      "source": [
        "int_32_tensor = torch.tensor([3,6,9], dtype=torch.int32)\n",
        "int_32_tensor"
      ],
      "metadata": {
        "colab": {
          "base_uri": "https://localhost:8080/"
        },
        "id": "Lzl0Q70yYm7J",
        "outputId": "0e20fd00-5ae3-45f8-d2f7-a600ce2c94a4"
      },
      "execution_count": 27,
      "outputs": [
        {
          "output_type": "execute_result",
          "data": {
            "text/plain": [
              "tensor([3, 6, 9], dtype=torch.int32)"
            ]
          },
          "metadata": {},
          "execution_count": 27
        }
      ]
    },
    {
      "cell_type": "code",
      "source": [
        "# still works!\n",
        "float_16_tensor * int_32_tensor"
      ],
      "metadata": {
        "colab": {
          "base_uri": "https://localhost:8080/"
        },
        "id": "PxofErwqYzdh",
        "outputId": "3cb18625-715f-4401-9218-35430c13d66e"
      },
      "execution_count": 28,
      "outputs": [
        {
          "output_type": "execute_result",
          "data": {
            "text/plain": [
              "tensor([ 3., 18., 27.], dtype=torch.float16)"
            ]
          },
          "metadata": {},
          "execution_count": 28
        }
      ]
    },
    {
      "cell_type": "markdown",
      "source": [
        "Important information from tensors:\n",
        "- just use the instance variables\n",
        "`tensor.dtype`,   `tensor.shape`,   `tensor.device`"
      ],
      "metadata": {
        "id": "fbYzisMBa_vH"
      }
    },
    {
      "cell_type": "code",
      "source": [
        "# getting information from tensors\n",
        "\n",
        "some_tensor = torch.rand(3,4)\n",
        "some_tensor.dtype, some_tensor.shape, some_tensor.device"
      ],
      "metadata": {
        "colab": {
          "base_uri": "https://localhost:8080/"
        },
        "id": "fMEX1ZFPahuB",
        "outputId": "97ca8578-649c-4fde-c51f-75dcae1fecd3"
      },
      "execution_count": 29,
      "outputs": [
        {
          "output_type": "execute_result",
          "data": {
            "text/plain": [
              "(torch.float32, torch.Size([3, 4]), device(type='cpu'))"
            ]
          },
          "metadata": {},
          "execution_count": 29
        }
      ]
    },
    {
      "cell_type": "markdown",
      "source": [
        "## Manipulating Tensors / Tensor Operations\n",
        "\n",
        "Tensor Operations:\n",
        "- addition, subtraction, multiplication element wise, division\n",
        "- matrix multiplication"
      ],
      "metadata": {
        "id": "F41uSV00YTfn"
      }
    },
    {
      "cell_type": "code",
      "source": [
        "# addition\n",
        "tensor = torch.tensor([1,2,3])\n",
        "tensor + 10 # adds 10 to each element."
      ],
      "metadata": {
        "colab": {
          "base_uri": "https://localhost:8080/"
        },
        "id": "GOCNuiD3Yaek",
        "outputId": "a04c3349-aa6f-4887-f4e8-68f4f573ddae"
      },
      "execution_count": 30,
      "outputs": [
        {
          "output_type": "execute_result",
          "data": {
            "text/plain": [
              "tensor([11, 12, 13])"
            ]
          },
          "metadata": {},
          "execution_count": 30
        }
      ]
    },
    {
      "cell_type": "code",
      "source": [
        "# multiplication\n",
        "tensor * 10"
      ],
      "metadata": {
        "colab": {
          "base_uri": "https://localhost:8080/"
        },
        "id": "kt_uSO_1Xag1",
        "outputId": "c21431e0-0505-4075-a22d-47af58fbabef"
      },
      "execution_count": 31,
      "outputs": [
        {
          "output_type": "execute_result",
          "data": {
            "text/plain": [
              "tensor([10, 20, 30])"
            ]
          },
          "metadata": {},
          "execution_count": 31
        }
      ]
    },
    {
      "cell_type": "code",
      "source": [
        "# subtraction\n",
        "tensor - 10"
      ],
      "metadata": {
        "colab": {
          "base_uri": "https://localhost:8080/"
        },
        "id": "qKC3B93hZ8Fc",
        "outputId": "0ce9702d-baaf-40c7-b938-d71aea6f596a"
      },
      "execution_count": 32,
      "outputs": [
        {
          "output_type": "execute_result",
          "data": {
            "text/plain": [
              "tensor([-9, -8, -7])"
            ]
          },
          "metadata": {},
          "execution_count": 32
        }
      ]
    },
    {
      "cell_type": "code",
      "source": [
        "# pytorch inbuilt functions\n",
        "# generally, just use the operators.\n",
        "torch.mul(tensor, 10) # multiplication"
      ],
      "metadata": {
        "colab": {
          "base_uri": "https://localhost:8080/"
        },
        "id": "pTPjdLvraDlj",
        "outputId": "a9f86c15-1f6e-4c61-f7be-549bf4efc76b"
      },
      "execution_count": 33,
      "outputs": [
        {
          "output_type": "execute_result",
          "data": {
            "text/plain": [
              "tensor([10, 20, 30])"
            ]
          },
          "metadata": {},
          "execution_count": 33
        }
      ]
    },
    {
      "cell_type": "code",
      "source": [
        "torch.add(tensor, 10)"
      ],
      "metadata": {
        "colab": {
          "base_uri": "https://localhost:8080/"
        },
        "id": "ve0e6mIwaWZj",
        "outputId": "8cc3170e-1587-4df4-b4ad-8911cd5b3220"
      },
      "execution_count": 34,
      "outputs": [
        {
          "output_type": "execute_result",
          "data": {
            "text/plain": [
              "tensor([11, 12, 13])"
            ]
          },
          "metadata": {},
          "execution_count": 34
        }
      ]
    },
    {
      "cell_type": "markdown",
      "source": [
        "## Matrix Multiplication\n",
        "\n",
        "Two conditions\n",
        "\n",
        "- (anything1, n) @ (n, anything2) is good.\n",
        "- resulting shape will be (anything1, anything2)"
      ],
      "metadata": {
        "id": "iIl58lMRcx6F"
      }
    },
    {
      "cell_type": "code",
      "source": [
        " print(tensor)\n",
        " tensor * tensor"
      ],
      "metadata": {
        "colab": {
          "base_uri": "https://localhost:8080/"
        },
        "id": "lYTKvBT9aZUs",
        "outputId": "f52ba039-530d-42f9-99bc-ee463dcbac94"
      },
      "execution_count": 35,
      "outputs": [
        {
          "output_type": "stream",
          "name": "stdout",
          "text": [
            "tensor([1, 2, 3])\n"
          ]
        },
        {
          "output_type": "execute_result",
          "data": {
            "text/plain": [
              "tensor([1, 4, 9])"
            ]
          },
          "metadata": {},
          "execution_count": 35
        }
      ]
    },
    {
      "cell_type": "code",
      "source": [
        "# even though tensor is (1, 2, 3), when you square it\n",
        "# it'll assume (1 2 3) horizontal and (1) vertical\n",
        "                                     #(2)\n",
        "                                     #(3)\n",
        "torch.matmul(tensor, tensor) # clearer"
      ],
      "metadata": {
        "colab": {
          "base_uri": "https://localhost:8080/"
        },
        "id": "szWN9BqEdJp3",
        "outputId": "2b4ee467-b160-41b7-be8c-868569a37926"
      },
      "execution_count": 36,
      "outputs": [
        {
          "output_type": "execute_result",
          "data": {
            "text/plain": [
              "tensor(14)"
            ]
          },
          "metadata": {},
          "execution_count": 36
        }
      ]
    },
    {
      "cell_type": "code",
      "source": [
        "# mm won't work here because it's not flipping horizontal and vertical here\n",
        "# torch.mm(tensor,tensor)\n",
        "\n",
        "# this will work because dimensions are explicitly correct.\n",
        "torch.mm(torch.rand(3,2), torch.rand(2,4))"
      ],
      "metadata": {
        "colab": {
          "base_uri": "https://localhost:8080/"
        },
        "id": "Be_fHH6SfV0e",
        "outputId": "a440a74c-ff9f-4181-8887-f8478399c40d"
      },
      "execution_count": 37,
      "outputs": [
        {
          "output_type": "execute_result",
          "data": {
            "text/plain": [
              "tensor([[0.2147, 0.2982, 0.4579, 0.5370],\n",
              "        [0.3903, 0.5358, 0.8269, 0.9712],\n",
              "        [0.4719, 0.6309, 0.9852, 1.1610]])"
            ]
          },
          "metadata": {},
          "execution_count": 37
        }
      ]
    },
    {
      "cell_type": "code",
      "source": [
        "tensor @ tensor # same thing"
      ],
      "metadata": {
        "colab": {
          "base_uri": "https://localhost:8080/"
        },
        "id": "UPidunx1eON6",
        "outputId": "4af9704e-e92b-4af7-9290-4edc34595153"
      },
      "execution_count": 38,
      "outputs": [
        {
          "output_type": "execute_result",
          "data": {
            "text/plain": [
              "tensor(14)"
            ]
          },
          "metadata": {},
          "execution_count": 38
        }
      ]
    },
    {
      "cell_type": "code",
      "source": [
        "# multiplication by hand\n",
        "value = 0\n",
        "for i in range(len(tensor)):\n",
        "  value += tensor[i] * tensor[i]\n",
        "value"
      ],
      "metadata": {
        "colab": {
          "base_uri": "https://localhost:8080/"
        },
        "id": "Lu80A_oCdi1L",
        "outputId": "e394ba00-4aef-4619-9423-0b1bf211afb7"
      },
      "execution_count": 39,
      "outputs": [
        {
          "output_type": "execute_result",
          "data": {
            "text/plain": [
              "tensor(14)"
            ]
          },
          "metadata": {},
          "execution_count": 39
        }
      ]
    },
    {
      "cell_type": "code",
      "source": [
        "tensor[i] # each tensor element is a scalar, tensor data type though."
      ],
      "metadata": {
        "colab": {
          "base_uri": "https://localhost:8080/"
        },
        "id": "aeUl5LaddtZ_",
        "outputId": "6f338231-90b9-4ce1-95f5-ac43cecaa790"
      },
      "execution_count": 40,
      "outputs": [
        {
          "output_type": "execute_result",
          "data": {
            "text/plain": [
              "tensor(3)"
            ]
          },
          "metadata": {},
          "execution_count": 40
        }
      ]
    },
    {
      "cell_type": "code",
      "source": [
        "# implementing the matrix multiplication\n",
        "A = torch.tensor([[1,2],\n",
        "                  [3,4],\n",
        "                  [5,6]]) # 3 x 2\n",
        "B = torch.tensor([[7,8],\n",
        "                  [9,10],\n",
        "                  [11,12]]) # 3 x 2\n",
        "# fixing shape issues => take the transpose\n",
        "B.T # columns become rows, 2 x 3"
      ],
      "metadata": {
        "colab": {
          "base_uri": "https://localhost:8080/"
        },
        "id": "kq7LVZvAdz-D",
        "outputId": "32cdc26b-8e3a-479b-e14e-c3ca62343e9d"
      },
      "execution_count": 41,
      "outputs": [
        {
          "output_type": "execute_result",
          "data": {
            "text/plain": [
              "tensor([[ 7,  9, 11],\n",
              "        [ 8, 10, 12]])"
            ]
          },
          "metadata": {},
          "execution_count": 41
        }
      ]
    },
    {
      "cell_type": "code",
      "source": [
        "B.T @ A # 2 x 2"
      ],
      "metadata": {
        "colab": {
          "base_uri": "https://localhost:8080/"
        },
        "id": "MSeDw-zckIBX",
        "outputId": "3fbe797d-cd29-4750-daca-becb86b2bf4f"
      },
      "execution_count": 42,
      "outputs": [
        {
          "output_type": "execute_result",
          "data": {
            "text/plain": [
              "tensor([[ 89, 116],\n",
              "        [ 98, 128]])"
            ]
          },
          "metadata": {},
          "execution_count": 42
        }
      ]
    },
    {
      "cell_type": "markdown",
      "source": [
        "## Min, Max, etc."
      ],
      "metadata": {
        "id": "Y5UkV-c6nOGR"
      }
    },
    {
      "cell_type": "code",
      "source": [
        "x = torch.arange(0, 100, 10)\n",
        "x"
      ],
      "metadata": {
        "colab": {
          "base_uri": "https://localhost:8080/"
        },
        "id": "41Xa19B_nNVU",
        "outputId": "21657ed5-da1a-490a-bd04-845e3d4d830a"
      },
      "execution_count": 43,
      "outputs": [
        {
          "output_type": "execute_result",
          "data": {
            "text/plain": [
              "tensor([ 0, 10, 20, 30, 40, 50, 60, 70, 80, 90])"
            ]
          },
          "metadata": {},
          "execution_count": 43
        }
      ]
    },
    {
      "cell_type": "code",
      "source": [
        "torch.min(x), x.min() # same thing."
      ],
      "metadata": {
        "colab": {
          "base_uri": "https://localhost:8080/"
        },
        "id": "cPKqMFSZnXam",
        "outputId": "29544999-91be-4812-91be-0be7acf9c7d9"
      },
      "execution_count": 44,
      "outputs": [
        {
          "output_type": "execute_result",
          "data": {
            "text/plain": [
              "(tensor(0), tensor(0))"
            ]
          },
          "metadata": {},
          "execution_count": 44
        }
      ]
    },
    {
      "cell_type": "code",
      "source": [
        "# same thing for max"
      ],
      "metadata": {
        "id": "tPoDxv_LnczY"
      },
      "execution_count": 45,
      "outputs": []
    },
    {
      "cell_type": "code",
      "source": [
        "# torch.mean function requires tensor of float32 datatype to work\n",
        "torch.mean(x.type(torch.float32)) # need to convert to float for the mean."
      ],
      "metadata": {
        "colab": {
          "base_uri": "https://localhost:8080/"
        },
        "id": "lz9HAMuTne9I",
        "outputId": "607d7ee6-3fcd-41ca-eac6-eb809674cf5b"
      },
      "execution_count": 46,
      "outputs": [
        {
          "output_type": "execute_result",
          "data": {
            "text/plain": [
              "tensor(45.)"
            ]
          },
          "metadata": {},
          "execution_count": 46
        }
      ]
    },
    {
      "cell_type": "code",
      "source": [
        "# finding position in tensor which has the minimum value\n",
        "x.argmin() # tensor(0) means index 0"
      ],
      "metadata": {
        "colab": {
          "base_uri": "https://localhost:8080/"
        },
        "id": "lqnj5WIvnyXE",
        "outputId": "2fa27d7c-1176-48a9-ded2-69618348831b"
      },
      "execution_count": 47,
      "outputs": [
        {
          "output_type": "execute_result",
          "data": {
            "text/plain": [
              "tensor(0)"
            ]
          },
          "metadata": {},
          "execution_count": 47
        }
      ]
    },
    {
      "cell_type": "code",
      "source": [
        "x.argmax(), x[9] # index 9"
      ],
      "metadata": {
        "colab": {
          "base_uri": "https://localhost:8080/"
        },
        "id": "OPffA99logwV",
        "outputId": "535766e5-c39b-410b-e7a1-0bc5518423dc"
      },
      "execution_count": 48,
      "outputs": [
        {
          "output_type": "execute_result",
          "data": {
            "text/plain": [
              "(tensor(9), tensor(90))"
            ]
          },
          "metadata": {},
          "execution_count": 48
        }
      ]
    },
    {
      "cell_type": "markdown",
      "source": [
        "# Reshaping, Viewing, Stacking\n",
        "\n",
        "* Reshaping - reshaping input tensors to another shape.\n",
        "* View - shares memory with original tensor.\n",
        "* Stacking - combine multiple tensors on top of each other\n",
        "* Squeeze - removes all '1' dimensions from a tensor\n",
        "* Unsqueeze - add a '1' dimension to a target tensor\n",
        "* Permute - return a view of the input with dimensions swapped in a certain way."
      ],
      "metadata": {
        "id": "ZvImX0ados8Y"
      }
    },
    {
      "cell_type": "code",
      "source": [
        "x = torch.arange(1.,10.)\n",
        "x, x.shape"
      ],
      "metadata": {
        "colab": {
          "base_uri": "https://localhost:8080/"
        },
        "id": "C5e4zVSIoxWC",
        "outputId": "cebf0119-f39a-4a2e-da92-432a6a9b2a13"
      },
      "execution_count": 114,
      "outputs": [
        {
          "output_type": "execute_result",
          "data": {
            "text/plain": [
              "(tensor([1., 2., 3., 4., 5., 6., 7., 8., 9.]), torch.Size([9]))"
            ]
          },
          "metadata": {},
          "execution_count": 114
        }
      ]
    },
    {
      "cell_type": "code",
      "source": [
        "# Reshaping - reshape dimensions, must be compatible with original size.\n",
        "# may or may not share memory with original tensor.\n",
        "# x_reshape = x.reshape(1,7) # invalid bc we have more than 7 elements.\n",
        "x_reshape = x.reshape(9,1) # we have 9 elements so fine.\n",
        "x_reshape\n",
        "x_reshape = x.reshape(3,3) # we have 9 elements, also fine\n",
        "x_reshape"
      ],
      "metadata": {
        "colab": {
          "base_uri": "https://localhost:8080/"
        },
        "id": "NjQL5ElmpoHh",
        "outputId": "6609afe0-4680-4547-b731-c3a7ba4f5bb2"
      },
      "execution_count": 115,
      "outputs": [
        {
          "output_type": "execute_result",
          "data": {
            "text/plain": [
              "tensor([[1., 2., 3.],\n",
              "        [4., 5., 6.],\n",
              "        [7., 8., 9.]])"
            ]
          },
          "metadata": {},
          "execution_count": 115
        }
      ]
    },
    {
      "cell_type": "code",
      "source": [
        "# View - very similar to reshape, but z and x both share the same memory location?\n",
        "# always changes x, always shares memory with the original tensor.\n",
        "z = x.view(3,3)\n",
        "z"
      ],
      "metadata": {
        "colab": {
          "base_uri": "https://localhost:8080/"
        },
        "id": "T33I_4hyqVJB",
        "outputId": "a54cda86-b956-42a5-ecba-76687ec32d5c"
      },
      "execution_count": 116,
      "outputs": [
        {
          "output_type": "execute_result",
          "data": {
            "text/plain": [
              "tensor([[1., 2., 3.],\n",
              "        [4., 5., 6.],\n",
              "        [7., 8., 9.]])"
            ]
          },
          "metadata": {},
          "execution_count": 116
        }
      ]
    },
    {
      "cell_type": "code",
      "source": [
        "x # but x stays the same..."
      ],
      "metadata": {
        "colab": {
          "base_uri": "https://localhost:8080/"
        },
        "id": "CAAeQrDjPVLn",
        "outputId": "b9349499-c594-413b-d746-fc885ae71f6f"
      },
      "execution_count": 117,
      "outputs": [
        {
          "output_type": "execute_result",
          "data": {
            "text/plain": [
              "tensor([1., 2., 3., 4., 5., 6., 7., 8., 9.])"
            ]
          },
          "metadata": {},
          "execution_count": 117
        }
      ]
    },
    {
      "cell_type": "code",
      "source": [
        "# so what does it mean to share memory location?\n",
        "# it means if you change element in one, it will show in the other\n",
        "x[0] = 3\n",
        "x, z, x_reshape # both x and z have 3 changed.\n",
        "# x_reshape is also changed because is in this instance pytorch decided to do that."
      ],
      "metadata": {
        "colab": {
          "base_uri": "https://localhost:8080/"
        },
        "id": "f4M7lfriQcTY",
        "outputId": "bfbd8f29-92c0-4283-a738-7fb1b9b33f00"
      },
      "execution_count": 118,
      "outputs": [
        {
          "output_type": "execute_result",
          "data": {
            "text/plain": [
              "(tensor([3., 2., 3., 4., 5., 6., 7., 8., 9.]),\n",
              " tensor([[3., 2., 3.],\n",
              "         [4., 5., 6.],\n",
              "         [7., 8., 9.]]),\n",
              " tensor([[3., 2., 3.],\n",
              "         [4., 5., 6.],\n",
              "         [7., 8., 9.]]))"
            ]
          },
          "metadata": {},
          "execution_count": 118
        }
      ]
    },
    {
      "cell_type": "code",
      "source": [
        "x_reshape = x_reshape.clone()\n",
        "x[0] = 4\n",
        "x, z, x_reshape # clone() method makes sure x_reshape is not altered"
      ],
      "metadata": {
        "colab": {
          "base_uri": "https://localhost:8080/"
        },
        "id": "UDBp4KrVRmyB",
        "outputId": "5abe1e89-5583-4e00-c484-b55ffae23ce2"
      },
      "execution_count": 119,
      "outputs": [
        {
          "output_type": "execute_result",
          "data": {
            "text/plain": [
              "(tensor([4., 2., 3., 4., 5., 6., 7., 8., 9.]),\n",
              " tensor([[4., 2., 3.],\n",
              "         [4., 5., 6.],\n",
              "         [7., 8., 9.]]),\n",
              " tensor([[3., 2., 3.],\n",
              "         [4., 5., 6.],\n",
              "         [7., 8., 9.]]))"
            ]
          },
          "metadata": {},
          "execution_count": 119
        }
      ]
    },
    {
      "cell_type": "code",
      "source": [
        "# Stack - concatenating tensors\n",
        "# dimensions must be compatible.\n",
        "x_stacked = torch.stack([x,x,x])\n",
        "x_stacked # just made this a matrix"
      ],
      "metadata": {
        "colab": {
          "base_uri": "https://localhost:8080/"
        },
        "id": "hR0n4NMPSPg7",
        "outputId": "b970c23f-9156-4e38-c16a-06982f9aa216"
      },
      "execution_count": 120,
      "outputs": [
        {
          "output_type": "execute_result",
          "data": {
            "text/plain": [
              "tensor([[4., 2., 3., 4., 5., 6., 7., 8., 9.],\n",
              "        [4., 2., 3., 4., 5., 6., 7., 8., 9.],\n",
              "        [4., 2., 3., 4., 5., 6., 7., 8., 9.]])"
            ]
          },
          "metadata": {},
          "execution_count": 120
        }
      ]
    },
    {
      "cell_type": "code",
      "source": [
        "# torch.stack([x,z]) # cant stack bc. dimensions incompatible"
      ],
      "metadata": {
        "id": "eqFIgBVgTOnk"
      },
      "execution_count": 74,
      "outputs": []
    },
    {
      "cell_type": "code",
      "source": [
        "# stacks tensors on top of each other.\n",
        "torch.vstack([x,x])"
      ],
      "metadata": {
        "colab": {
          "base_uri": "https://localhost:8080/"
        },
        "id": "RNCryvxhTabL",
        "outputId": "506967c3-c81f-475a-a455-18e2b48d25f2"
      },
      "execution_count": 121,
      "outputs": [
        {
          "output_type": "execute_result",
          "data": {
            "text/plain": [
              "tensor([[4., 2., 3., 4., 5., 6., 7., 8., 9.],\n",
              "        [4., 2., 3., 4., 5., 6., 7., 8., 9.]])"
            ]
          },
          "metadata": {},
          "execution_count": 121
        }
      ]
    },
    {
      "cell_type": "code",
      "source": [
        "# still stacking tensors, makes more rows.\n",
        "torch.vstack([x.reshape(9,1), x.reshape(9,1)])"
      ],
      "metadata": {
        "colab": {
          "base_uri": "https://localhost:8080/"
        },
        "id": "vcyWKelzTngK",
        "outputId": "f9744335-74d6-41f9-b770-74d7e9a837a8"
      },
      "execution_count": 122,
      "outputs": [
        {
          "output_type": "execute_result",
          "data": {
            "text/plain": [
              "tensor([[4.],\n",
              "        [2.],\n",
              "        [3.],\n",
              "        [4.],\n",
              "        [5.],\n",
              "        [6.],\n",
              "        [7.],\n",
              "        [8.],\n",
              "        [9.],\n",
              "        [4.],\n",
              "        [2.],\n",
              "        [3.],\n",
              "        [4.],\n",
              "        [5.],\n",
              "        [6.],\n",
              "        [7.],\n",
              "        [8.],\n",
              "        [9.]])"
            ]
          },
          "metadata": {},
          "execution_count": 122
        }
      ]
    },
    {
      "cell_type": "code",
      "source": [
        "# hstack puts each element of the second tensor in a new column of the first tensor.\n",
        "torch.hstack([x,x])"
      ],
      "metadata": {
        "colab": {
          "base_uri": "https://localhost:8080/"
        },
        "id": "TfERqyuYTc4K",
        "outputId": "8de79dd0-b229-4149-8282-efc06c894907"
      },
      "execution_count": 123,
      "outputs": [
        {
          "output_type": "execute_result",
          "data": {
            "text/plain": [
              "tensor([4., 2., 3., 4., 5., 6., 7., 8., 9., 4., 2., 3., 4., 5., 6., 7., 8., 9.])"
            ]
          },
          "metadata": {},
          "execution_count": 123
        }
      ]
    },
    {
      "cell_type": "code",
      "source": [
        "# the second tensor is added to the second col of each row in the first tensor\n",
        "# no additional rows are created.\n",
        "torch.hstack([x.reshape(9,1), x.reshape(9,1)])"
      ],
      "metadata": {
        "colab": {
          "base_uri": "https://localhost:8080/"
        },
        "id": "duu4o8z-TtOQ",
        "outputId": "0572b91d-c233-4a8d-95b7-252c0143d687"
      },
      "execution_count": 124,
      "outputs": [
        {
          "output_type": "execute_result",
          "data": {
            "text/plain": [
              "tensor([[4., 4.],\n",
              "        [2., 2.],\n",
              "        [3., 3.],\n",
              "        [4., 4.],\n",
              "        [5., 5.],\n",
              "        [6., 6.],\n",
              "        [7., 7.],\n",
              "        [8., 8.],\n",
              "        [9., 9.]])"
            ]
          },
          "metadata": {},
          "execution_count": 124
        }
      ]
    },
    {
      "cell_type": "code",
      "source": [
        "# Squeeze - takes out all the one dimensions\n",
        "# shares memory with the original tensor, so modifications will echo.\n",
        "x_reshape = x.reshape(1,9)\n",
        "x_reshape, x_reshape.shape"
      ],
      "metadata": {
        "colab": {
          "base_uri": "https://localhost:8080/"
        },
        "id": "sqfrPWo8UN7w",
        "outputId": "766ca8af-0ed8-4a40-9051-96f10cf961e7"
      },
      "execution_count": 125,
      "outputs": [
        {
          "output_type": "execute_result",
          "data": {
            "text/plain": [
              "(tensor([[4., 2., 3., 4., 5., 6., 7., 8., 9.]]), torch.Size([1, 9]))"
            ]
          },
          "metadata": {},
          "execution_count": 125
        }
      ]
    },
    {
      "cell_type": "code",
      "source": [
        "x_reshape.squeeze(), x_reshape.squeeze().shape # 1 dimension has been taken away"
      ],
      "metadata": {
        "colab": {
          "base_uri": "https://localhost:8080/"
        },
        "id": "XD-kUARoUiBr",
        "outputId": "d2b48a5c-0648-43c6-fb69-f6b09521224f"
      },
      "execution_count": 126,
      "outputs": [
        {
          "output_type": "execute_result",
          "data": {
            "text/plain": [
              "(tensor([4., 2., 3., 4., 5., 6., 7., 8., 9.]), torch.Size([9]))"
            ]
          },
          "metadata": {},
          "execution_count": 126
        }
      ]
    },
    {
      "cell_type": "code",
      "source": [
        "x_reshape_squeezed = x_reshape.squeeze()\n",
        "x_reshape_squeezed[0] = 50\n",
        "x_reshape_squeezed[0], x_reshape[0] # both were modified"
      ],
      "metadata": {
        "colab": {
          "base_uri": "https://localhost:8080/"
        },
        "id": "lCdKlwXjafe3",
        "outputId": "957be64a-40b5-46a8-adc7-def06c93efde"
      },
      "execution_count": 137,
      "outputs": [
        {
          "output_type": "execute_result",
          "data": {
            "text/plain": [
              "(tensor(50.), tensor([50.,  2.,  3.,  4.,  5.,  6.,  7.,  8.,  9.]))"
            ]
          },
          "metadata": {},
          "execution_count": 137
        }
      ]
    },
    {
      "cell_type": "code",
      "source": [
        "# adds a dimension 1 at the 0th index of dimension\n",
        " # [9] goes to [1,9]\n",
        "x_reshape.squeeze().unsqueeze(dim=0), x_reshape.squeeze().unsqueeze(dim=0).shape"
      ],
      "metadata": {
        "colab": {
          "base_uri": "https://localhost:8080/"
        },
        "id": "xOU9fHyUX30-",
        "outputId": "f323f9b7-91cb-4a3b-f653-04d16f8f7f25"
      },
      "execution_count": 107,
      "outputs": [
        {
          "output_type": "execute_result",
          "data": {
            "text/plain": [
              "(tensor([[4., 2., 3., 4., 5., 6., 7., 8., 9.]]), torch.Size([1, 9]))"
            ]
          },
          "metadata": {},
          "execution_count": 107
        }
      ]
    },
    {
      "cell_type": "code",
      "source": [
        "# adds a dimension of 1 at 1th index of dimension\n",
        " # [9] goes to [9,1]\n",
        "x_reshape.squeeze().unsqueeze(dim=1), x_reshape.squeeze().unsqueeze(dim=1).shape"
      ],
      "metadata": {
        "colab": {
          "base_uri": "https://localhost:8080/"
        },
        "id": "lsmSo5nYYs_C",
        "outputId": "1f9ba578-dcf0-4838-d3b3-6d00b7e3087d"
      },
      "execution_count": 108,
      "outputs": [
        {
          "output_type": "execute_result",
          "data": {
            "text/plain": [
              "(tensor([[4.],\n",
              "         [2.],\n",
              "         [3.],\n",
              "         [4.],\n",
              "         [5.],\n",
              "         [6.],\n",
              "         [7.],\n",
              "         [8.],\n",
              "         [9.]]),\n",
              " torch.Size([9, 1]))"
            ]
          },
          "metadata": {},
          "execution_count": 108
        }
      ]
    },
    {
      "cell_type": "code",
      "source": [
        "# negative values for dimension just count from last index\n",
        "# -2 means 1 before the last index (-1)\n",
        "# [9] => [1,9]\n",
        "x_reshape.squeeze().unsqueeze(dim=-2), x_reshape.squeeze().unsqueeze(dim=-2).shape"
      ],
      "metadata": {
        "colab": {
          "base_uri": "https://localhost:8080/"
        },
        "id": "p6S7zEAzY2P6",
        "outputId": "947e42ba-faab-49c4-e1f5-975935e87173"
      },
      "execution_count": 110,
      "outputs": [
        {
          "output_type": "execute_result",
          "data": {
            "text/plain": [
              "(tensor([[4., 2., 3., 4., 5., 6., 7., 8., 9.]]), torch.Size([1, 9]))"
            ]
          },
          "metadata": {},
          "execution_count": 110
        }
      ]
    },
    {
      "cell_type": "code",
      "source": [
        "x_reshape.squeeze().unsqueeze(dim=-1), x_reshape.squeeze().unsqueeze(dim=-1).shape"
      ],
      "metadata": {
        "id": "LWVrWp4jaU-u"
      },
      "execution_count": null,
      "outputs": []
    },
    {
      "cell_type": "code",
      "source": [
        "# Permute - switch order of dimensions\n",
        "# permuted versions always share the same memory as the original, so modifications echo.\n",
        "x = torch.rand(size = (224, 224, 3)) # [height, width, color_channels]\n",
        "# permute original tensor to rearrange axis (or dim) order\n",
        "x_permuted = x.permute(2, 0, 1) # [color_channels, height, width]\n",
        "x.shape, x_permuted.shape"
      ],
      "metadata": {
        "colab": {
          "base_uri": "https://localhost:8080/"
        },
        "id": "Mf1eLJbvVPT2",
        "outputId": "036eaf8e-7469-4802-ec83-b5a735ec04fc"
      },
      "execution_count": 95,
      "outputs": [
        {
          "output_type": "execute_result",
          "data": {
            "text/plain": [
              "(torch.Size([224, 224, 3]), torch.Size([3, 224, 224]))"
            ]
          },
          "metadata": {},
          "execution_count": 95
        }
      ]
    },
    {
      "cell_type": "code",
      "source": [
        "x[0,0,0], x_permuted[0,0,0]"
      ],
      "metadata": {
        "colab": {
          "base_uri": "https://localhost:8080/"
        },
        "id": "35NH5obKXDTS",
        "outputId": "160f611c-539e-4749-e8c2-ac015d493239"
      },
      "execution_count": 96,
      "outputs": [
        {
          "output_type": "execute_result",
          "data": {
            "text/plain": [
              "(tensor(0.8921), tensor(0.8921))"
            ]
          },
          "metadata": {},
          "execution_count": 96
        }
      ]
    },
    {
      "cell_type": "code",
      "source": [
        "x[0,0,0] = 0.35\n",
        "x[0,0,0], x_permuted[0,0,0]"
      ],
      "metadata": {
        "colab": {
          "base_uri": "https://localhost:8080/"
        },
        "id": "mGB8I5uxXK6P",
        "outputId": "857c193d-4249-4de3-a317-3eb06f9f700c"
      },
      "execution_count": 98,
      "outputs": [
        {
          "output_type": "execute_result",
          "data": {
            "text/plain": [
              "(tensor(0.3500), tensor(0.3500))"
            ]
          },
          "metadata": {},
          "execution_count": 98
        }
      ]
    },
    {
      "cell_type": "markdown",
      "source": [
        "## Indexing"
      ],
      "metadata": {
        "id": "dCMaOAQgcJJj"
      }
    },
    {
      "cell_type": "code",
      "source": [
        "x = torch.arange(1, 10).reshape(1,3,3)\n",
        "x"
      ],
      "metadata": {
        "colab": {
          "base_uri": "https://localhost:8080/"
        },
        "id": "_FTstva-cK8o",
        "outputId": "0690351c-d92c-40bd-a2b5-407e1af93187"
      },
      "execution_count": 141,
      "outputs": [
        {
          "output_type": "execute_result",
          "data": {
            "text/plain": [
              "tensor([[[1, 2, 3],\n",
              "         [4, 5, 6],\n",
              "         [7, 8, 9]]])"
            ]
          },
          "metadata": {},
          "execution_count": 141
        }
      ]
    },
    {
      "cell_type": "code",
      "source": [
        "# index\n",
        "x[0] # the first matrix"
      ],
      "metadata": {
        "colab": {
          "base_uri": "https://localhost:8080/"
        },
        "id": "5yh-vQbTXUEL",
        "outputId": "e7e50767-cc7b-4509-bb79-fe09643b6d61"
      },
      "execution_count": 143,
      "outputs": [
        {
          "output_type": "execute_result",
          "data": {
            "text/plain": [
              "tensor([[1, 2, 3],\n",
              "        [4, 5, 6],\n",
              "        [7, 8, 9]])"
            ]
          },
          "metadata": {},
          "execution_count": 143
        }
      ]
    },
    {
      "cell_type": "code",
      "source": [
        "x[0,0] # first matrix, first row"
      ],
      "metadata": {
        "colab": {
          "base_uri": "https://localhost:8080/"
        },
        "id": "p8YZ-P-kcfS_",
        "outputId": "cb317d56-626f-4421-8178-01656bcef3bd"
      },
      "execution_count": 144,
      "outputs": [
        {
          "output_type": "execute_result",
          "data": {
            "text/plain": [
              "tensor([1, 2, 3])"
            ]
          },
          "metadata": {},
          "execution_count": 144
        }
      ]
    },
    {
      "cell_type": "code",
      "source": [
        "x[0,1,0] # first matrix, second row, first column"
      ],
      "metadata": {
        "colab": {
          "base_uri": "https://localhost:8080/"
        },
        "id": "uiPNWEStcirv",
        "outputId": "eec0a8ea-76ae-4847-a0db-51a220db9d68"
      },
      "execution_count": 147,
      "outputs": [
        {
          "output_type": "execute_result",
          "data": {
            "text/plain": [
              "tensor(4)"
            ]
          },
          "metadata": {},
          "execution_count": 147
        }
      ]
    },
    {
      "cell_type": "code",
      "source": [
        "# or\n",
        "x[0][0] # does the same thing."
      ],
      "metadata": {
        "colab": {
          "base_uri": "https://localhost:8080/"
        },
        "id": "rQJ4clFWcutM",
        "outputId": "5ccb888c-eee7-4833-ad48-40fd4c5125b9"
      },
      "execution_count": 148,
      "outputs": [
        {
          "output_type": "execute_result",
          "data": {
            "text/plain": [
              "tensor([1, 2, 3])"
            ]
          },
          "metadata": {},
          "execution_count": 148
        }
      ]
    },
    {
      "cell_type": "code",
      "source": [
        "x[:, :, 1] # all matrices, all rows, only col 1"
      ],
      "metadata": {
        "colab": {
          "base_uri": "https://localhost:8080/"
        },
        "id": "jwPjRMqMdM1r",
        "outputId": "941c87c3-816f-484f-c5b8-0460c2b94295"
      },
      "execution_count": 160,
      "outputs": [
        {
          "output_type": "execute_result",
          "data": {
            "text/plain": [
              "tensor([[2, 5, 8]])"
            ]
          },
          "metadata": {},
          "execution_count": 160
        }
      ]
    },
    {
      "cell_type": "code",
      "source": [
        "x[0, :, 0:2] # only two columns"
      ],
      "metadata": {
        "colab": {
          "base_uri": "https://localhost:8080/"
        },
        "id": "a9B5D-J0d83j",
        "outputId": "d5498a02-0bea-4d0d-d246-b1183326b3e8"
      },
      "execution_count": 163,
      "outputs": [
        {
          "output_type": "execute_result",
          "data": {
            "text/plain": [
              "tensor([[1, 2],\n",
              "        [4, 5],\n",
              "        [7, 8]])"
            ]
          },
          "metadata": {},
          "execution_count": 163
        }
      ]
    }
  ]
}
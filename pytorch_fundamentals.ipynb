{
  "nbformat": 4,
  "nbformat_minor": 0,
  "metadata": {
    "colab": {
      "provenance": [],
      "gpuType": "T4",
      "authorship_tag": "ABX9TyP78jaQIxyP/G6rNjF4B7Af",
      "include_colab_link": true
    },
    "kernelspec": {
      "name": "python3",
      "display_name": "Python 3"
    },
    "language_info": {
      "name": "python"
    },
    "accelerator": "GPU"
  },
  "cells": [
    {
      "cell_type": "markdown",
      "metadata": {
        "id": "view-in-github",
        "colab_type": "text"
      },
      "source": [
        "<a href=\"https://colab.research.google.com/github/kaurarshmeet/pytorch/blob/main/pytorch_fundamentals.ipynb\" target=\"_parent\"><img src=\"https://colab.research.google.com/assets/colab-badge.svg\" alt=\"Open In Colab\"/></a>"
      ]
    },
    {
      "cell_type": "markdown",
      "source": [
        "# Tensors"
      ],
      "metadata": {
        "id": "hO7MzqO9HrGz"
      }
    },
    {
      "cell_type": "code",
      "source": [
        "!nvidia-smi"
      ],
      "metadata": {
        "colab": {
          "base_uri": "https://localhost:8080/"
        },
        "id": "JCHzpz8KHzGt",
        "outputId": "0c0280c7-bd8a-4da2-a9ad-59a547d30dbe"
      },
      "execution_count": 2,
      "outputs": [
        {
          "output_type": "stream",
          "name": "stdout",
          "text": [
            "Thu Jun  5 18:19:41 2025       \n",
            "+-----------------------------------------------------------------------------------------+\n",
            "| NVIDIA-SMI 550.54.15              Driver Version: 550.54.15      CUDA Version: 12.4     |\n",
            "|-----------------------------------------+------------------------+----------------------+\n",
            "| GPU  Name                 Persistence-M | Bus-Id          Disp.A | Volatile Uncorr. ECC |\n",
            "| Fan  Temp   Perf          Pwr:Usage/Cap |           Memory-Usage | GPU-Util  Compute M. |\n",
            "|                                         |                        |               MIG M. |\n",
            "|=========================================+========================+======================|\n",
            "|   0  Tesla T4                       Off |   00000000:00:04.0 Off |                    0 |\n",
            "| N/A   45C    P8             10W /   70W |       0MiB /  15360MiB |      0%      Default |\n",
            "|                                         |                        |                  N/A |\n",
            "+-----------------------------------------+------------------------+----------------------+\n",
            "                                                                                         \n",
            "+-----------------------------------------------------------------------------------------+\n",
            "| Processes:                                                                              |\n",
            "|  GPU   GI   CI        PID   Type   Process name                              GPU Memory |\n",
            "|        ID   ID                                                               Usage      |\n",
            "|=========================================================================================|\n",
            "|  No running processes found                                                             |\n",
            "+-----------------------------------------------------------------------------------------+\n"
          ]
        }
      ]
    },
    {
      "cell_type": "code",
      "source": [
        "import torch\n",
        "import pandas as pd\n",
        "import numpy as np\n",
        "import matplotlib.pyplot as plt"
      ],
      "metadata": {
        "id": "TA33WpuBINCC"
      },
      "execution_count": 3,
      "outputs": []
    },
    {
      "cell_type": "code",
      "source": [
        "print(torch.__version__)"
      ],
      "metadata": {
        "colab": {
          "base_uri": "https://localhost:8080/"
        },
        "id": "A9HY3gs8Jbcz",
        "outputId": "5ce7994d-c2ac-45b3-9fd1-be71107036e0"
      },
      "execution_count": 4,
      "outputs": [
        {
          "output_type": "stream",
          "name": "stdout",
          "text": [
            "2.6.0+cu124\n"
          ]
        }
      ]
    },
    {
      "cell_type": "markdown",
      "source": [
        "## Different kinds of tensors:\n",
        "*   Scalar = one number\n",
        "*   Tensor = a tupule"
      ],
      "metadata": {
        "id": "LWs3o-KAKEp7"
      }
    },
    {
      "cell_type": "code",
      "source": [
        "# scalar\n",
        "scalar = torch.tensor(7)\n",
        "scalar"
      ],
      "metadata": {
        "colab": {
          "base_uri": "https://localhost:8080/"
        },
        "id": "-EGloHRNKUCJ",
        "outputId": "def7a67c-081c-44b9-e484-3d2907092476"
      },
      "execution_count": 5,
      "outputs": [
        {
          "output_type": "execute_result",
          "data": {
            "text/plain": [
              "tensor(7)"
            ]
          },
          "metadata": {},
          "execution_count": 5
        }
      ]
    },
    {
      "cell_type": "code",
      "source": [
        "scalar.ndim # 0 dimensions for a scalar."
      ],
      "metadata": {
        "colab": {
          "base_uri": "https://localhost:8080/"
        },
        "id": "BZjM11ThKhfm",
        "outputId": "0e69573d-6425-4fbe-c0cb-59cf4de882e1"
      },
      "execution_count": 6,
      "outputs": [
        {
          "output_type": "execute_result",
          "data": {
            "text/plain": [
              "0"
            ]
          },
          "metadata": {},
          "execution_count": 6
        }
      ]
    },
    {
      "cell_type": "code",
      "source": [
        "# vector\n",
        "vector = torch.tensor([7,7])\n",
        "vector"
      ],
      "metadata": {
        "colab": {
          "base_uri": "https://localhost:8080/"
        },
        "id": "VH1VN8vtK1ei",
        "outputId": "d2736a19-208c-4bbb-fe0f-75c87a3fa7bc"
      },
      "execution_count": 7,
      "outputs": [
        {
          "output_type": "execute_result",
          "data": {
            "text/plain": [
              "tensor([7, 7])"
            ]
          },
          "metadata": {},
          "execution_count": 7
        }
      ]
    },
    {
      "cell_type": "code",
      "source": [
        "vector.ndim # 1 dimensions for a vector."
      ],
      "metadata": {
        "colab": {
          "base_uri": "https://localhost:8080/"
        },
        "id": "ya9RGXuqLCrM",
        "outputId": "8ab08c80-1327-4f24-b555-3edddc18509c"
      },
      "execution_count": 8,
      "outputs": [
        {
          "output_type": "execute_result",
          "data": {
            "text/plain": [
              "1"
            ]
          },
          "metadata": {},
          "execution_count": 8
        }
      ]
    },
    {
      "cell_type": "code",
      "source": [
        "vector.shape # 2 by 1 => 2 elements in the vector."
      ],
      "metadata": {
        "colab": {
          "base_uri": "https://localhost:8080/"
        },
        "id": "4t23pxOQLFzC",
        "outputId": "dce2f223-1489-454b-9821-856787531354"
      },
      "execution_count": 9,
      "outputs": [
        {
          "output_type": "execute_result",
          "data": {
            "text/plain": [
              "torch.Size([2])"
            ]
          },
          "metadata": {},
          "execution_count": 9
        }
      ]
    },
    {
      "cell_type": "code",
      "source": [
        "# matrix - a group of vectors.\n",
        "MATRIX = torch.tensor(\n",
        "    [[7,8],\n",
        "    [9,10]]\n",
        ")\n",
        "MATRIX"
      ],
      "metadata": {
        "colab": {
          "base_uri": "https://localhost:8080/"
        },
        "id": "fWoa4AcGLKS8",
        "outputId": "70fa04ed-833a-4767-ce44-eaab9baa6003"
      },
      "execution_count": 10,
      "outputs": [
        {
          "output_type": "execute_result",
          "data": {
            "text/plain": [
              "tensor([[ 7,  8],\n",
              "        [ 9, 10]])"
            ]
          },
          "metadata": {},
          "execution_count": 10
        }
      ]
    },
    {
      "cell_type": "code",
      "source": [
        "MATRIX.ndim # 2"
      ],
      "metadata": {
        "colab": {
          "base_uri": "https://localhost:8080/"
        },
        "id": "FVGn2bsRLWFZ",
        "outputId": "316eb7c4-3c0d-42bf-f0a7-79deb6f080d4"
      },
      "execution_count": 11,
      "outputs": [
        {
          "output_type": "execute_result",
          "data": {
            "text/plain": [
              "2"
            ]
          },
          "metadata": {},
          "execution_count": 11
        }
      ]
    },
    {
      "cell_type": "code",
      "source": [
        "MATRIX.shape # 2 by 2"
      ],
      "metadata": {
        "colab": {
          "base_uri": "https://localhost:8080/"
        },
        "id": "7XNjxhMPLYqf",
        "outputId": "b44ce762-652f-459d-ccb7-954f0c5cc1cd"
      },
      "execution_count": 12,
      "outputs": [
        {
          "output_type": "execute_result",
          "data": {
            "text/plain": [
              "torch.Size([2, 2])"
            ]
          },
          "metadata": {},
          "execution_count": 12
        }
      ]
    },
    {
      "cell_type": "code",
      "source": [
        "# Tensor - a group of matrices\n",
        "TENSOR = torch.tensor(\n",
        "    [[\n",
        "        [[1,2,3],\n",
        "       [3,6,9]],\n",
        "\n",
        "        [[1,3,4],\n",
        "         [1,3,4]]\n",
        "\n",
        "        ],\n",
        "\n",
        "        [\n",
        "           [[1,3,2],\n",
        "            [1,5,8]],\n",
        "\n",
        "           [[1,2,3],\n",
        "            [4,5,6]]\n",
        "        ]\n",
        "     ]\n",
        ")\n",
        "\n",
        "TENSOR"
      ],
      "metadata": {
        "colab": {
          "base_uri": "https://localhost:8080/"
        },
        "id": "nQtUZ6imLh6K",
        "outputId": "a8c26c46-de83-4575-b6b2-87a647dc1389"
      },
      "execution_count": 13,
      "outputs": [
        {
          "output_type": "execute_result",
          "data": {
            "text/plain": [
              "tensor([[[[1, 2, 3],\n",
              "          [3, 6, 9]],\n",
              "\n",
              "         [[1, 3, 4],\n",
              "          [1, 3, 4]]],\n",
              "\n",
              "\n",
              "        [[[1, 3, 2],\n",
              "          [1, 5, 8]],\n",
              "\n",
              "         [[1, 2, 3],\n",
              "          [4, 5, 6]]]])"
            ]
          },
          "metadata": {},
          "execution_count": 13
        }
      ]
    },
    {
      "cell_type": "code",
      "source": [
        "TENSOR.ndim"
      ],
      "metadata": {
        "colab": {
          "base_uri": "https://localhost:8080/"
        },
        "id": "9k5dmzvjL_M7",
        "outputId": "775f89b5-a901-4c81-b2a9-e8a0790c80d5"
      },
      "execution_count": 14,
      "outputs": [
        {
          "output_type": "execute_result",
          "data": {
            "text/plain": [
              "4"
            ]
          },
          "metadata": {},
          "execution_count": 14
        }
      ]
    },
    {
      "cell_type": "code",
      "source": [
        "TENSOR.shape # 2 sets of 2 (2 x 3 matrices)."
      ],
      "metadata": {
        "colab": {
          "base_uri": "https://localhost:8080/"
        },
        "id": "hQB3vHdIMJGy",
        "outputId": "e0305e8c-5531-47c5-c062-85297c89607a"
      },
      "execution_count": 15,
      "outputs": [
        {
          "output_type": "execute_result",
          "data": {
            "text/plain": [
              "torch.Size([2, 2, 2, 3])"
            ]
          },
          "metadata": {},
          "execution_count": 15
        }
      ]
    },
    {
      "cell_type": "markdown",
      "source": [
        "## Random Tensors\n",
        "\n",
        "* Many neural networks start with tensors full of random numbers, then update those to better understand data."
      ],
      "metadata": {
        "id": "lKvGpCThNohM"
      }
    },
    {
      "cell_type": "code",
      "source": [
        "# by default, they will be float data type.\n",
        "random_tensor = torch.rand(2, 3, 4) # 2 (3 x 4 matrices) filled with random numbers.\n",
        "random_tensor"
      ],
      "metadata": {
        "colab": {
          "base_uri": "https://localhost:8080/"
        },
        "id": "M1i-QbY6N_Fw",
        "outputId": "cdd9b38a-a769-4351-b9f9-c95e9fff7d1b"
      },
      "execution_count": 16,
      "outputs": [
        {
          "output_type": "execute_result",
          "data": {
            "text/plain": [
              "tensor([[[0.7965, 0.5749, 0.9597, 0.4857],\n",
              "         [0.7046, 0.0229, 0.6129, 0.9999],\n",
              "         [0.6780, 0.7045, 0.4562, 0.2179]],\n",
              "\n",
              "        [[0.1999, 0.1037, 0.5628, 0.7060],\n",
              "         [0.2499, 0.3388, 0.0426, 0.7213],\n",
              "         [0.1400, 0.2021, 0.9174, 0.1004]]])"
            ]
          },
          "metadata": {},
          "execution_count": 16
        }
      ]
    },
    {
      "cell_type": "code",
      "source": [
        "zeros = torch.zeros(size=(2,3,4))\n",
        "zeros"
      ],
      "metadata": {
        "colab": {
          "base_uri": "https://localhost:8080/"
        },
        "id": "3qFywNMLOKMa",
        "outputId": "47b9a55f-1a2e-4085-84cd-8957394c85a3"
      },
      "execution_count": 17,
      "outputs": [
        {
          "output_type": "execute_result",
          "data": {
            "text/plain": [
              "tensor([[[0., 0., 0., 0.],\n",
              "         [0., 0., 0., 0.],\n",
              "         [0., 0., 0., 0.]],\n",
              "\n",
              "        [[0., 0., 0., 0.],\n",
              "         [0., 0., 0., 0.],\n",
              "         [0., 0., 0., 0.]]])"
            ]
          },
          "metadata": {},
          "execution_count": 17
        }
      ]
    },
    {
      "cell_type": "code",
      "source": [
        "# multiplying two tensors\n",
        "random_tensor * zeros"
      ],
      "metadata": {
        "colab": {
          "base_uri": "https://localhost:8080/"
        },
        "id": "N03FVZ0gSXzh",
        "outputId": "358e837c-2aad-4f6f-acb8-e1a2d1abf7a5"
      },
      "execution_count": 18,
      "outputs": [
        {
          "output_type": "execute_result",
          "data": {
            "text/plain": [
              "tensor([[[0., 0., 0., 0.],\n",
              "         [0., 0., 0., 0.],\n",
              "         [0., 0., 0., 0.]],\n",
              "\n",
              "        [[0., 0., 0., 0.],\n",
              "         [0., 0., 0., 0.],\n",
              "         [0., 0., 0., 0.]]])"
            ]
          },
          "metadata": {},
          "execution_count": 18
        }
      ]
    },
    {
      "cell_type": "code",
      "source": [
        "random_tensor.dtype"
      ],
      "metadata": {
        "colab": {
          "base_uri": "https://localhost:8080/"
        },
        "id": "1-M3Ug_qSbni",
        "outputId": "ea34da77-d7fb-47ae-c9d9-4e4ef3e6c621"
      },
      "execution_count": 19,
      "outputs": [
        {
          "output_type": "execute_result",
          "data": {
            "text/plain": [
              "torch.float32"
            ]
          },
          "metadata": {},
          "execution_count": 19
        }
      ]
    },
    {
      "cell_type": "markdown",
      "source": [
        "## Creating a Range of Tensors"
      ],
      "metadata": {
        "id": "6uz9P-jRSsHi"
      }
    },
    {
      "cell_type": "code",
      "source": [
        "# creating a tensor from the range.\n",
        "# arange(start, stop, step)\n",
        "# [start, start + step...stop) not end-inclusive.\n",
        "torch.arange(0,10)"
      ],
      "metadata": {
        "colab": {
          "base_uri": "https://localhost:8080/"
        },
        "id": "o_OMipgUSrT-",
        "outputId": "d02370e2-fddb-40fe-abd8-005e0d2b6a1a"
      },
      "execution_count": 20,
      "outputs": [
        {
          "output_type": "execute_result",
          "data": {
            "text/plain": [
              "tensor([0, 1, 2, 3, 4, 5, 6, 7, 8, 9])"
            ]
          },
          "metadata": {},
          "execution_count": 20
        }
      ]
    },
    {
      "cell_type": "code",
      "source": [
        "skipping = torch.arange(0,10,2)\n",
        "skipping"
      ],
      "metadata": {
        "colab": {
          "base_uri": "https://localhost:8080/"
        },
        "id": "Dk8zyOslS5Xc",
        "outputId": "37c57345-85c6-4115-b425-c4051f769c6b"
      },
      "execution_count": 21,
      "outputs": [
        {
          "output_type": "execute_result",
          "data": {
            "text/plain": [
              "tensor([0, 2, 4, 6, 8])"
            ]
          },
          "metadata": {},
          "execution_count": 21
        }
      ]
    },
    {
      "cell_type": "code",
      "source": [
        "# Create a copy tensor (in terms of shape)\n",
        "\n",
        "# creates a tensor with the same shape.\n",
        "ten_zeros = torch.zeros_like(input=skipping)\n",
        "ten_zeros\n",
        "\n",
        "ten_ones = torch.ones_like(input = skipping)\n",
        "ten_ones"
      ],
      "metadata": {
        "colab": {
          "base_uri": "https://localhost:8080/"
        },
        "id": "yus_3aLcTNo4",
        "outputId": "84c696f2-ae8f-40ef-c66d-96c0454bd836"
      },
      "execution_count": 22,
      "outputs": [
        {
          "output_type": "execute_result",
          "data": {
            "text/plain": [
              "tensor([1, 1, 1, 1, 1])"
            ]
          },
          "metadata": {},
          "execution_count": 22
        }
      ]
    },
    {
      "cell_type": "markdown",
      "source": [
        "## Tensor Datatypes\n",
        "\n",
        "Big issues in PyTorch / deep learning\n",
        "1. Tensors not right datatype.\n",
        "2. Tensors not right shape.\n",
        "3. Tensors not on right device."
      ],
      "metadata": {
        "id": "M1Ogy4LAT3tE"
      }
    },
    {
      "cell_type": "code",
      "source": [
        "float_32_tensor = torch.rand(2,3)\n",
        "float_32_tensor.dtype # by default, float 32."
      ],
      "metadata": {
        "colab": {
          "base_uri": "https://localhost:8080/"
        },
        "id": "tLWKdHIzT6X9",
        "outputId": "6f334be1-59be-4473-dbcd-4208df4e0e70"
      },
      "execution_count": 23,
      "outputs": [
        {
          "output_type": "execute_result",
          "data": {
            "text/plain": [
              "torch.float32"
            ]
          },
          "metadata": {},
          "execution_count": 23
        }
      ]
    },
    {
      "cell_type": "code",
      "source": [
        "# tensor fields - don't always have to specify these.\n",
        "fields = torch.tensor([1,3,3],\n",
        "                      dtype=None, # still creates float 32 by default.\n",
        "                                  # may want to demote to torch.half to run faster\n",
        "                                  # upgrade to torch.double for more precision.\n",
        "                      device = None, # what device is the tensor on\n",
        "                      requires_grad = False) # whether or not to track gradients with tensor operations"
      ],
      "metadata": {
        "id": "TFk0z0hwUGe6"
      },
      "execution_count": 24,
      "outputs": []
    },
    {
      "cell_type": "code",
      "source": [
        "float_16_tensor = fields.type(torch.float16)\n",
        "float_16_tensor.dtype"
      ],
      "metadata": {
        "colab": {
          "base_uri": "https://localhost:8080/"
        },
        "id": "VXLgpn1YVyIQ",
        "outputId": "50a6e0eb-693b-4e7f-82ac-0f2811d756c8"
      },
      "execution_count": 25,
      "outputs": [
        {
          "output_type": "execute_result",
          "data": {
            "text/plain": [
              "torch.float16"
            ]
          },
          "metadata": {},
          "execution_count": 25
        }
      ]
    },
    {
      "cell_type": "code",
      "source": [
        "fields * float_16_tensor # everything gets depreciated to float16\n",
        "# sometimes it works\n",
        "# sometimes it dont work"
      ],
      "metadata": {
        "colab": {
          "base_uri": "https://localhost:8080/"
        },
        "id": "arViklB1WCfw",
        "outputId": "66098604-0ea0-4231-ba25-af68c93d5391"
      },
      "execution_count": 26,
      "outputs": [
        {
          "output_type": "execute_result",
          "data": {
            "text/plain": [
              "tensor([1., 9., 9.], dtype=torch.float16)"
            ]
          },
          "metadata": {},
          "execution_count": 26
        }
      ]
    },
    {
      "cell_type": "markdown",
      "source": [
        "## Tensor Attributes"
      ],
      "metadata": {
        "id": "7r63Ip5yYlZA"
      }
    },
    {
      "cell_type": "code",
      "source": [
        "int_32_tensor = torch.tensor([3,6,9], dtype=torch.int32)\n",
        "int_32_tensor"
      ],
      "metadata": {
        "colab": {
          "base_uri": "https://localhost:8080/"
        },
        "id": "Lzl0Q70yYm7J",
        "outputId": "ad0b47a5-5545-4c2e-a967-1a31bc4941e2"
      },
      "execution_count": 27,
      "outputs": [
        {
          "output_type": "execute_result",
          "data": {
            "text/plain": [
              "tensor([3, 6, 9], dtype=torch.int32)"
            ]
          },
          "metadata": {},
          "execution_count": 27
        }
      ]
    },
    {
      "cell_type": "code",
      "source": [
        "# still works!\n",
        "float_16_tensor * int_32_tensor"
      ],
      "metadata": {
        "colab": {
          "base_uri": "https://localhost:8080/"
        },
        "id": "PxofErwqYzdh",
        "outputId": "4c0789b6-b05a-45cc-cc80-cee7b25d2a9b"
      },
      "execution_count": 28,
      "outputs": [
        {
          "output_type": "execute_result",
          "data": {
            "text/plain": [
              "tensor([ 3., 18., 27.], dtype=torch.float16)"
            ]
          },
          "metadata": {},
          "execution_count": 28
        }
      ]
    },
    {
      "cell_type": "markdown",
      "source": [
        "Important information from tensors:\n",
        "- just use the instance variables\n",
        "`tensor.dtype`,   `tensor.shape`,   `tensor.device`"
      ],
      "metadata": {
        "id": "fbYzisMBa_vH"
      }
    },
    {
      "cell_type": "code",
      "source": [
        "# getting information from tensors\n",
        "\n",
        "some_tensor = torch.rand(3,4)\n",
        "some_tensor.dtype, some_tensor.shape, some_tensor.device"
      ],
      "metadata": {
        "colab": {
          "base_uri": "https://localhost:8080/"
        },
        "id": "fMEX1ZFPahuB",
        "outputId": "3788edb4-0812-46e1-efb7-b77f45d67fe0"
      },
      "execution_count": 29,
      "outputs": [
        {
          "output_type": "execute_result",
          "data": {
            "text/plain": [
              "(torch.float32, torch.Size([3, 4]), device(type='cpu'))"
            ]
          },
          "metadata": {},
          "execution_count": 29
        }
      ]
    },
    {
      "cell_type": "markdown",
      "source": [
        "## Manipulating Tensors / Tensor Operations\n",
        "\n",
        "Tensor Operations:\n",
        "- addition, subtraction, multiplication element wise, division\n",
        "- matrix multiplication"
      ],
      "metadata": {
        "id": "F41uSV00YTfn"
      }
    },
    {
      "cell_type": "code",
      "source": [
        "# addition\n",
        "tensor = torch.tensor([1,2,3])\n",
        "tensor + 10 # adds 10 to each element."
      ],
      "metadata": {
        "colab": {
          "base_uri": "https://localhost:8080/"
        },
        "id": "GOCNuiD3Yaek",
        "outputId": "7b38180d-eac5-43b5-fdc2-d4b312524d1d"
      },
      "execution_count": 30,
      "outputs": [
        {
          "output_type": "execute_result",
          "data": {
            "text/plain": [
              "tensor([11, 12, 13])"
            ]
          },
          "metadata": {},
          "execution_count": 30
        }
      ]
    },
    {
      "cell_type": "code",
      "source": [
        "# multiplication\n",
        "tensor * 10"
      ],
      "metadata": {
        "colab": {
          "base_uri": "https://localhost:8080/"
        },
        "id": "kt_uSO_1Xag1",
        "outputId": "8f466996-fe9f-4390-c33b-164682790a34"
      },
      "execution_count": 31,
      "outputs": [
        {
          "output_type": "execute_result",
          "data": {
            "text/plain": [
              "tensor([10, 20, 30])"
            ]
          },
          "metadata": {},
          "execution_count": 31
        }
      ]
    },
    {
      "cell_type": "code",
      "source": [
        "# subtraction\n",
        "tensor - 10"
      ],
      "metadata": {
        "colab": {
          "base_uri": "https://localhost:8080/"
        },
        "id": "qKC3B93hZ8Fc",
        "outputId": "0deccd3b-e4b9-4965-d3c1-b6c9e640d45d"
      },
      "execution_count": 32,
      "outputs": [
        {
          "output_type": "execute_result",
          "data": {
            "text/plain": [
              "tensor([-9, -8, -7])"
            ]
          },
          "metadata": {},
          "execution_count": 32
        }
      ]
    },
    {
      "cell_type": "code",
      "source": [
        "# pytorch inbuilt functions\n",
        "# generally, just use the operators.\n",
        "torch.mul(tensor, 10) # multiplication"
      ],
      "metadata": {
        "colab": {
          "base_uri": "https://localhost:8080/"
        },
        "id": "pTPjdLvraDlj",
        "outputId": "e9073c2e-e0e2-4351-8fdd-dfa42d36b778"
      },
      "execution_count": 33,
      "outputs": [
        {
          "output_type": "execute_result",
          "data": {
            "text/plain": [
              "tensor([10, 20, 30])"
            ]
          },
          "metadata": {},
          "execution_count": 33
        }
      ]
    },
    {
      "cell_type": "code",
      "source": [
        "torch.add(tensor, 10)"
      ],
      "metadata": {
        "colab": {
          "base_uri": "https://localhost:8080/"
        },
        "id": "ve0e6mIwaWZj",
        "outputId": "e0615743-9cde-43ec-902a-7fe36e51b24f"
      },
      "execution_count": 34,
      "outputs": [
        {
          "output_type": "execute_result",
          "data": {
            "text/plain": [
              "tensor([11, 12, 13])"
            ]
          },
          "metadata": {},
          "execution_count": 34
        }
      ]
    },
    {
      "cell_type": "markdown",
      "source": [
        "## Matrix Multiplication\n",
        "\n",
        "Two conditions\n",
        "\n",
        "- (anything1, n) @ (n, anything2) is good.\n",
        "- resulting shape will be (anything1, anything2)"
      ],
      "metadata": {
        "id": "iIl58lMRcx6F"
      }
    },
    {
      "cell_type": "code",
      "source": [
        " print(tensor)\n",
        " tensor * tensor"
      ],
      "metadata": {
        "colab": {
          "base_uri": "https://localhost:8080/"
        },
        "id": "lYTKvBT9aZUs",
        "outputId": "f51ab72c-1b65-44b7-8eae-2a56affdcb44"
      },
      "execution_count": 35,
      "outputs": [
        {
          "output_type": "stream",
          "name": "stdout",
          "text": [
            "tensor([1, 2, 3])\n"
          ]
        },
        {
          "output_type": "execute_result",
          "data": {
            "text/plain": [
              "tensor([1, 4, 9])"
            ]
          },
          "metadata": {},
          "execution_count": 35
        }
      ]
    },
    {
      "cell_type": "code",
      "source": [
        "# even though tensor is (1, 2, 3), when you square it\n",
        "# it'll assume (1 2 3) horizontal and (1) vertical\n",
        "                                     #(2)\n",
        "                                     #(3)\n",
        "torch.matmul(tensor, tensor) # clearer"
      ],
      "metadata": {
        "colab": {
          "base_uri": "https://localhost:8080/"
        },
        "id": "szWN9BqEdJp3",
        "outputId": "db476564-17f9-430a-e7b2-e73ee0a418e6"
      },
      "execution_count": 36,
      "outputs": [
        {
          "output_type": "execute_result",
          "data": {
            "text/plain": [
              "tensor(14)"
            ]
          },
          "metadata": {},
          "execution_count": 36
        }
      ]
    },
    {
      "cell_type": "code",
      "source": [
        "# mm won't work here because it's not flipping horizontal and vertical here\n",
        "# torch.mm(tensor,tensor)\n",
        "\n",
        "# this will work because dimensions are explicitly correct.\n",
        "torch.mm(torch.rand(3,2), torch.rand(2,4))"
      ],
      "metadata": {
        "colab": {
          "base_uri": "https://localhost:8080/"
        },
        "id": "Be_fHH6SfV0e",
        "outputId": "ef0fdb09-a560-45ce-9ecd-ada50b7a83fe"
      },
      "execution_count": 37,
      "outputs": [
        {
          "output_type": "execute_result",
          "data": {
            "text/plain": [
              "tensor([[0.5689, 0.7163, 0.7262, 0.5058],\n",
              "        [0.4958, 0.6901, 0.5342, 0.4427],\n",
              "        [0.3004, 0.3233, 0.4659, 0.2655]])"
            ]
          },
          "metadata": {},
          "execution_count": 37
        }
      ]
    },
    {
      "cell_type": "code",
      "source": [
        "tensor @ tensor # same thing"
      ],
      "metadata": {
        "colab": {
          "base_uri": "https://localhost:8080/"
        },
        "id": "UPidunx1eON6",
        "outputId": "4a677688-ea1c-4e34-f8fb-b3a9242a46b9"
      },
      "execution_count": 38,
      "outputs": [
        {
          "output_type": "execute_result",
          "data": {
            "text/plain": [
              "tensor(14)"
            ]
          },
          "metadata": {},
          "execution_count": 38
        }
      ]
    },
    {
      "cell_type": "code",
      "source": [
        "# multiplication by hand\n",
        "value = 0\n",
        "for i in range(len(tensor)):\n",
        "  value += tensor[i] * tensor[i]\n",
        "value"
      ],
      "metadata": {
        "colab": {
          "base_uri": "https://localhost:8080/"
        },
        "id": "Lu80A_oCdi1L",
        "outputId": "49ac8155-18cf-4961-cc5d-ea4b126e5a51"
      },
      "execution_count": 39,
      "outputs": [
        {
          "output_type": "execute_result",
          "data": {
            "text/plain": [
              "tensor(14)"
            ]
          },
          "metadata": {},
          "execution_count": 39
        }
      ]
    },
    {
      "cell_type": "code",
      "source": [
        "tensor[i] # each tensor element is a scalar, tensor data type though."
      ],
      "metadata": {
        "colab": {
          "base_uri": "https://localhost:8080/"
        },
        "id": "aeUl5LaddtZ_",
        "outputId": "dad99572-b0e9-45d0-f217-8e8e515465e8"
      },
      "execution_count": 40,
      "outputs": [
        {
          "output_type": "execute_result",
          "data": {
            "text/plain": [
              "tensor(3)"
            ]
          },
          "metadata": {},
          "execution_count": 40
        }
      ]
    },
    {
      "cell_type": "code",
      "source": [
        "# implementing the matrix multiplication\n",
        "A = torch.tensor([[1,2],\n",
        "                  [3,4],\n",
        "                  [5,6]]) # 3 x 2\n",
        "B = torch.tensor([[7,8],\n",
        "                  [9,10],\n",
        "                  [11,12]]) # 3 x 2\n",
        "# fixing shape issues => take the transpose\n",
        "B.T # columns become rows, 2 x 3"
      ],
      "metadata": {
        "colab": {
          "base_uri": "https://localhost:8080/"
        },
        "id": "kq7LVZvAdz-D",
        "outputId": "a70b4807-0ac9-46d5-88df-134e0c54822e"
      },
      "execution_count": 41,
      "outputs": [
        {
          "output_type": "execute_result",
          "data": {
            "text/plain": [
              "tensor([[ 7,  9, 11],\n",
              "        [ 8, 10, 12]])"
            ]
          },
          "metadata": {},
          "execution_count": 41
        }
      ]
    },
    {
      "cell_type": "code",
      "source": [
        "B.T @ A # 2 x 2"
      ],
      "metadata": {
        "colab": {
          "base_uri": "https://localhost:8080/"
        },
        "id": "MSeDw-zckIBX",
        "outputId": "1426ba27-b21f-417a-a46f-53fa4f1456ed"
      },
      "execution_count": 42,
      "outputs": [
        {
          "output_type": "execute_result",
          "data": {
            "text/plain": [
              "tensor([[ 89, 116],\n",
              "        [ 98, 128]])"
            ]
          },
          "metadata": {},
          "execution_count": 42
        }
      ]
    },
    {
      "cell_type": "markdown",
      "source": [
        "## Min, Max, etc."
      ],
      "metadata": {
        "id": "Y5UkV-c6nOGR"
      }
    },
    {
      "cell_type": "code",
      "source": [
        "x = torch.arange(0, 100, 10)\n",
        "x"
      ],
      "metadata": {
        "colab": {
          "base_uri": "https://localhost:8080/"
        },
        "id": "41Xa19B_nNVU",
        "outputId": "fa9bb3f6-cf3f-4b0b-84db-d31e76a63119"
      },
      "execution_count": 43,
      "outputs": [
        {
          "output_type": "execute_result",
          "data": {
            "text/plain": [
              "tensor([ 0, 10, 20, 30, 40, 50, 60, 70, 80, 90])"
            ]
          },
          "metadata": {},
          "execution_count": 43
        }
      ]
    },
    {
      "cell_type": "code",
      "source": [
        "torch.min(x), x.min() # same thing."
      ],
      "metadata": {
        "colab": {
          "base_uri": "https://localhost:8080/"
        },
        "id": "cPKqMFSZnXam",
        "outputId": "89431de0-abef-4058-8b27-6eee1937afb2"
      },
      "execution_count": 44,
      "outputs": [
        {
          "output_type": "execute_result",
          "data": {
            "text/plain": [
              "(tensor(0), tensor(0))"
            ]
          },
          "metadata": {},
          "execution_count": 44
        }
      ]
    },
    {
      "cell_type": "code",
      "source": [
        "# same thing for max"
      ],
      "metadata": {
        "id": "tPoDxv_LnczY"
      },
      "execution_count": 45,
      "outputs": []
    },
    {
      "cell_type": "code",
      "source": [
        "# torch.mean function requires tensor of float32 datatype to work\n",
        "torch.mean(x.type(torch.float32)) # need to convert to float for the mean."
      ],
      "metadata": {
        "colab": {
          "base_uri": "https://localhost:8080/"
        },
        "id": "lz9HAMuTne9I",
        "outputId": "6c6a0607-5f08-4434-c89b-977f3909f986"
      },
      "execution_count": 46,
      "outputs": [
        {
          "output_type": "execute_result",
          "data": {
            "text/plain": [
              "tensor(45.)"
            ]
          },
          "metadata": {},
          "execution_count": 46
        }
      ]
    },
    {
      "cell_type": "code",
      "source": [
        "# finding position in tensor which has the minimum value\n",
        "x.argmin() # tensor(0) means index 0"
      ],
      "metadata": {
        "colab": {
          "base_uri": "https://localhost:8080/"
        },
        "id": "lqnj5WIvnyXE",
        "outputId": "0aae6187-3be9-4b15-86e4-5432b7aa9fd1"
      },
      "execution_count": 47,
      "outputs": [
        {
          "output_type": "execute_result",
          "data": {
            "text/plain": [
              "tensor(0)"
            ]
          },
          "metadata": {},
          "execution_count": 47
        }
      ]
    },
    {
      "cell_type": "code",
      "source": [
        "x.argmax(), x[9] # index 9"
      ],
      "metadata": {
        "colab": {
          "base_uri": "https://localhost:8080/"
        },
        "id": "OPffA99logwV",
        "outputId": "51c778d6-086b-41a6-9027-1a5486d0aceb"
      },
      "execution_count": 48,
      "outputs": [
        {
          "output_type": "execute_result",
          "data": {
            "text/plain": [
              "(tensor(9), tensor(90))"
            ]
          },
          "metadata": {},
          "execution_count": 48
        }
      ]
    },
    {
      "cell_type": "markdown",
      "source": [
        "# Reshaping, Viewing, Stacking\n",
        "\n",
        "* Reshaping - reshaping input tensors to another shape.\n",
        "* View - shares memory with original tensor.\n",
        "* Stacking - combine multiple tensors on top of each other\n",
        "* Squeeze - removes all '1' dimensions from a tensor\n",
        "* Unsqueeze - add a '1' dimension to a target tensor\n",
        "* Permute - return a view of the input with dimensions swapped in a certain way."
      ],
      "metadata": {
        "id": "ZvImX0ados8Y"
      }
    },
    {
      "cell_type": "code",
      "source": [
        "x = torch.arange(1.,10.)\n",
        "x, x.shape"
      ],
      "metadata": {
        "colab": {
          "base_uri": "https://localhost:8080/"
        },
        "id": "C5e4zVSIoxWC",
        "outputId": "2b0bcd6f-6e31-48c7-b80b-55548f385924"
      },
      "execution_count": 49,
      "outputs": [
        {
          "output_type": "execute_result",
          "data": {
            "text/plain": [
              "(tensor([1., 2., 3., 4., 5., 6., 7., 8., 9.]), torch.Size([9]))"
            ]
          },
          "metadata": {},
          "execution_count": 49
        }
      ]
    },
    {
      "cell_type": "code",
      "source": [
        "# Reshaping - reshape dimensions, must be compatible with original size.\n",
        "# may or may not share memory with original tensor.\n",
        "# x_reshape = x.reshape(1,7) # invalid bc we have more than 7 elements.\n",
        "x_reshape = x.reshape(9,1) # we have 9 elements so fine.\n",
        "x_reshape\n",
        "x_reshape = x.reshape(3,3) # we have 9 elements, also fine\n",
        "x_reshape"
      ],
      "metadata": {
        "colab": {
          "base_uri": "https://localhost:8080/"
        },
        "id": "NjQL5ElmpoHh",
        "outputId": "cd08b638-06d9-4697-ef3b-c03b3321195e"
      },
      "execution_count": 50,
      "outputs": [
        {
          "output_type": "execute_result",
          "data": {
            "text/plain": [
              "tensor([[1., 2., 3.],\n",
              "        [4., 5., 6.],\n",
              "        [7., 8., 9.]])"
            ]
          },
          "metadata": {},
          "execution_count": 50
        }
      ]
    },
    {
      "cell_type": "code",
      "source": [
        "# View - very similar to reshape, but z and x both share the same memory location?\n",
        "# always changes x, always shares memory with the original tensor.\n",
        "z = x.view(3,3)\n",
        "z"
      ],
      "metadata": {
        "colab": {
          "base_uri": "https://localhost:8080/"
        },
        "id": "T33I_4hyqVJB",
        "outputId": "d40e2f9b-b551-49fc-def6-4716730ee7f9"
      },
      "execution_count": 51,
      "outputs": [
        {
          "output_type": "execute_result",
          "data": {
            "text/plain": [
              "tensor([[1., 2., 3.],\n",
              "        [4., 5., 6.],\n",
              "        [7., 8., 9.]])"
            ]
          },
          "metadata": {},
          "execution_count": 51
        }
      ]
    },
    {
      "cell_type": "code",
      "source": [
        "x # but x stays the same..."
      ],
      "metadata": {
        "colab": {
          "base_uri": "https://localhost:8080/"
        },
        "id": "CAAeQrDjPVLn",
        "outputId": "c270774a-5b96-4d33-a92c-62a5a2881e41"
      },
      "execution_count": 52,
      "outputs": [
        {
          "output_type": "execute_result",
          "data": {
            "text/plain": [
              "tensor([1., 2., 3., 4., 5., 6., 7., 8., 9.])"
            ]
          },
          "metadata": {},
          "execution_count": 52
        }
      ]
    },
    {
      "cell_type": "code",
      "source": [
        "# so what does it mean to share memory location?\n",
        "# it means if you change element in one, it will show in the other\n",
        "x[0] = 3\n",
        "x, z, x_reshape # both x and z have 3 changed.\n",
        "# x_reshape is also changed because is in this instance pytorch decided to do that."
      ],
      "metadata": {
        "colab": {
          "base_uri": "https://localhost:8080/"
        },
        "id": "f4M7lfriQcTY",
        "outputId": "60e83730-dbc5-4690-d8dc-2ff0d5e33fff"
      },
      "execution_count": 53,
      "outputs": [
        {
          "output_type": "execute_result",
          "data": {
            "text/plain": [
              "(tensor([3., 2., 3., 4., 5., 6., 7., 8., 9.]),\n",
              " tensor([[3., 2., 3.],\n",
              "         [4., 5., 6.],\n",
              "         [7., 8., 9.]]),\n",
              " tensor([[3., 2., 3.],\n",
              "         [4., 5., 6.],\n",
              "         [7., 8., 9.]]))"
            ]
          },
          "metadata": {},
          "execution_count": 53
        }
      ]
    },
    {
      "cell_type": "code",
      "source": [
        "x_reshape = x_reshape.clone()\n",
        "x[0] = 4\n",
        "x, z, x_reshape # clone() method makes sure x_reshape is not altered"
      ],
      "metadata": {
        "colab": {
          "base_uri": "https://localhost:8080/"
        },
        "id": "UDBp4KrVRmyB",
        "outputId": "45872eb9-09d7-4005-80ad-d733081a3326"
      },
      "execution_count": 54,
      "outputs": [
        {
          "output_type": "execute_result",
          "data": {
            "text/plain": [
              "(tensor([4., 2., 3., 4., 5., 6., 7., 8., 9.]),\n",
              " tensor([[4., 2., 3.],\n",
              "         [4., 5., 6.],\n",
              "         [7., 8., 9.]]),\n",
              " tensor([[3., 2., 3.],\n",
              "         [4., 5., 6.],\n",
              "         [7., 8., 9.]]))"
            ]
          },
          "metadata": {},
          "execution_count": 54
        }
      ]
    },
    {
      "cell_type": "code",
      "source": [
        "# Stack - concatenating tensors\n",
        "# dimensions must be compatible.\n",
        "x_stacked = torch.stack([x,x,x])\n",
        "x_stacked # just made this a matrix"
      ],
      "metadata": {
        "colab": {
          "base_uri": "https://localhost:8080/"
        },
        "id": "hR0n4NMPSPg7",
        "outputId": "fb326cc4-6c89-4f8e-c63e-af67d5ad0caf"
      },
      "execution_count": 55,
      "outputs": [
        {
          "output_type": "execute_result",
          "data": {
            "text/plain": [
              "tensor([[4., 2., 3., 4., 5., 6., 7., 8., 9.],\n",
              "        [4., 2., 3., 4., 5., 6., 7., 8., 9.],\n",
              "        [4., 2., 3., 4., 5., 6., 7., 8., 9.]])"
            ]
          },
          "metadata": {},
          "execution_count": 55
        }
      ]
    },
    {
      "cell_type": "code",
      "source": [
        "# torch.stack([x,z]) # cant stack bc. dimensions incompatible"
      ],
      "metadata": {
        "id": "eqFIgBVgTOnk"
      },
      "execution_count": 56,
      "outputs": []
    },
    {
      "cell_type": "code",
      "source": [
        "# stacks tensors on top of each other.\n",
        "torch.vstack([x,x])"
      ],
      "metadata": {
        "colab": {
          "base_uri": "https://localhost:8080/"
        },
        "id": "RNCryvxhTabL",
        "outputId": "7a476921-bb36-4390-8121-92cb52f28f24"
      },
      "execution_count": 57,
      "outputs": [
        {
          "output_type": "execute_result",
          "data": {
            "text/plain": [
              "tensor([[4., 2., 3., 4., 5., 6., 7., 8., 9.],\n",
              "        [4., 2., 3., 4., 5., 6., 7., 8., 9.]])"
            ]
          },
          "metadata": {},
          "execution_count": 57
        }
      ]
    },
    {
      "cell_type": "code",
      "source": [
        "# still stacking tensors, makes more rows.\n",
        "torch.vstack([x.reshape(9,1), x.reshape(9,1)])"
      ],
      "metadata": {
        "colab": {
          "base_uri": "https://localhost:8080/"
        },
        "id": "vcyWKelzTngK",
        "outputId": "fb24035c-da62-4d37-8857-048a4f51b8b1"
      },
      "execution_count": 58,
      "outputs": [
        {
          "output_type": "execute_result",
          "data": {
            "text/plain": [
              "tensor([[4.],\n",
              "        [2.],\n",
              "        [3.],\n",
              "        [4.],\n",
              "        [5.],\n",
              "        [6.],\n",
              "        [7.],\n",
              "        [8.],\n",
              "        [9.],\n",
              "        [4.],\n",
              "        [2.],\n",
              "        [3.],\n",
              "        [4.],\n",
              "        [5.],\n",
              "        [6.],\n",
              "        [7.],\n",
              "        [8.],\n",
              "        [9.]])"
            ]
          },
          "metadata": {},
          "execution_count": 58
        }
      ]
    },
    {
      "cell_type": "code",
      "source": [
        "# hstack puts each element of the second tensor in a new column of the first tensor.\n",
        "torch.hstack([x,x])"
      ],
      "metadata": {
        "colab": {
          "base_uri": "https://localhost:8080/"
        },
        "id": "TfERqyuYTc4K",
        "outputId": "9fa928e8-eb1a-42eb-9ba7-aa63a2773c67"
      },
      "execution_count": 59,
      "outputs": [
        {
          "output_type": "execute_result",
          "data": {
            "text/plain": [
              "tensor([4., 2., 3., 4., 5., 6., 7., 8., 9., 4., 2., 3., 4., 5., 6., 7., 8., 9.])"
            ]
          },
          "metadata": {},
          "execution_count": 59
        }
      ]
    },
    {
      "cell_type": "code",
      "source": [
        "# the second tensor is added to the second col of each row in the first tensor\n",
        "# no additional rows are created.\n",
        "torch.hstack([x.reshape(9,1), x.reshape(9,1)])"
      ],
      "metadata": {
        "colab": {
          "base_uri": "https://localhost:8080/"
        },
        "id": "duu4o8z-TtOQ",
        "outputId": "25682918-961b-4ad0-a92d-2dd6481f5165"
      },
      "execution_count": 60,
      "outputs": [
        {
          "output_type": "execute_result",
          "data": {
            "text/plain": [
              "tensor([[4., 4.],\n",
              "        [2., 2.],\n",
              "        [3., 3.],\n",
              "        [4., 4.],\n",
              "        [5., 5.],\n",
              "        [6., 6.],\n",
              "        [7., 7.],\n",
              "        [8., 8.],\n",
              "        [9., 9.]])"
            ]
          },
          "metadata": {},
          "execution_count": 60
        }
      ]
    },
    {
      "cell_type": "code",
      "source": [
        "# Squeeze - takes out all the one dimensions\n",
        "# shares memory with the original tensor, so modifications will echo.\n",
        "x_reshape = x.reshape(1,9)\n",
        "x_reshape, x_reshape.shape"
      ],
      "metadata": {
        "colab": {
          "base_uri": "https://localhost:8080/"
        },
        "id": "sqfrPWo8UN7w",
        "outputId": "70dfd4a6-ecb9-4f35-f66d-f4f5da2aab91"
      },
      "execution_count": 61,
      "outputs": [
        {
          "output_type": "execute_result",
          "data": {
            "text/plain": [
              "(tensor([[4., 2., 3., 4., 5., 6., 7., 8., 9.]]), torch.Size([1, 9]))"
            ]
          },
          "metadata": {},
          "execution_count": 61
        }
      ]
    },
    {
      "cell_type": "code",
      "source": [
        "x_reshape.squeeze(), x_reshape.squeeze().shape # 1 dimension has been taken away"
      ],
      "metadata": {
        "colab": {
          "base_uri": "https://localhost:8080/"
        },
        "id": "XD-kUARoUiBr",
        "outputId": "ec2565ae-ea0a-4aa4-90d6-b0e5d370eb96"
      },
      "execution_count": 62,
      "outputs": [
        {
          "output_type": "execute_result",
          "data": {
            "text/plain": [
              "(tensor([4., 2., 3., 4., 5., 6., 7., 8., 9.]), torch.Size([9]))"
            ]
          },
          "metadata": {},
          "execution_count": 62
        }
      ]
    },
    {
      "cell_type": "code",
      "source": [
        "x_reshape_squeezed = x_reshape.squeeze()\n",
        "x_reshape_squeezed[0] = 50\n",
        "x_reshape_squeezed[0], x_reshape[0] # both were modified"
      ],
      "metadata": {
        "colab": {
          "base_uri": "https://localhost:8080/"
        },
        "id": "lCdKlwXjafe3",
        "outputId": "bbcb08e8-f54a-4799-87ba-20dcee6a8544"
      },
      "execution_count": 63,
      "outputs": [
        {
          "output_type": "execute_result",
          "data": {
            "text/plain": [
              "(tensor(50.), tensor([50.,  2.,  3.,  4.,  5.,  6.,  7.,  8.,  9.]))"
            ]
          },
          "metadata": {},
          "execution_count": 63
        }
      ]
    },
    {
      "cell_type": "code",
      "source": [
        "# adds a dimension 1 at the 0th index of dimension\n",
        " # [9] goes to [1,9]\n",
        "x_reshape.squeeze().unsqueeze(dim=0), x_reshape.squeeze().unsqueeze(dim=0).shape"
      ],
      "metadata": {
        "colab": {
          "base_uri": "https://localhost:8080/"
        },
        "id": "xOU9fHyUX30-",
        "outputId": "60922657-f0ff-4819-b571-9e51a6ea39e7"
      },
      "execution_count": 64,
      "outputs": [
        {
          "output_type": "execute_result",
          "data": {
            "text/plain": [
              "(tensor([[50.,  2.,  3.,  4.,  5.,  6.,  7.,  8.,  9.]]), torch.Size([1, 9]))"
            ]
          },
          "metadata": {},
          "execution_count": 64
        }
      ]
    },
    {
      "cell_type": "code",
      "source": [
        "# adds a dimension of 1 at 1th index of dimension\n",
        " # [9] goes to [9,1]\n",
        "x_reshape.squeeze().unsqueeze(dim=1), x_reshape.squeeze().unsqueeze(dim=1).shape"
      ],
      "metadata": {
        "colab": {
          "base_uri": "https://localhost:8080/"
        },
        "id": "lsmSo5nYYs_C",
        "outputId": "19b5defb-bbb4-4158-d649-6e9820629d77"
      },
      "execution_count": 65,
      "outputs": [
        {
          "output_type": "execute_result",
          "data": {
            "text/plain": [
              "(tensor([[50.],\n",
              "         [ 2.],\n",
              "         [ 3.],\n",
              "         [ 4.],\n",
              "         [ 5.],\n",
              "         [ 6.],\n",
              "         [ 7.],\n",
              "         [ 8.],\n",
              "         [ 9.]]),\n",
              " torch.Size([9, 1]))"
            ]
          },
          "metadata": {},
          "execution_count": 65
        }
      ]
    },
    {
      "cell_type": "code",
      "source": [
        "# negative values for dimension just count from last index\n",
        "# -2 means 1 before the last index (-1)\n",
        "# [9] => [1,9]\n",
        "x_reshape.squeeze().unsqueeze(dim=-2), x_reshape.squeeze().unsqueeze(dim=-2).shape"
      ],
      "metadata": {
        "colab": {
          "base_uri": "https://localhost:8080/"
        },
        "id": "p6S7zEAzY2P6",
        "outputId": "0d3fb39d-7048-434c-9e97-9ddce9c8dcd4"
      },
      "execution_count": 66,
      "outputs": [
        {
          "output_type": "execute_result",
          "data": {
            "text/plain": [
              "(tensor([[50.,  2.,  3.,  4.,  5.,  6.,  7.,  8.,  9.]]), torch.Size([1, 9]))"
            ]
          },
          "metadata": {},
          "execution_count": 66
        }
      ]
    },
    {
      "cell_type": "code",
      "source": [
        "x_reshape.squeeze().unsqueeze(dim=-1), x_reshape.squeeze().unsqueeze(dim=-1).shape"
      ],
      "metadata": {
        "colab": {
          "base_uri": "https://localhost:8080/"
        },
        "id": "LWVrWp4jaU-u",
        "outputId": "780356d5-d70c-46aa-cd6f-3ef749c7bb74"
      },
      "execution_count": 67,
      "outputs": [
        {
          "output_type": "execute_result",
          "data": {
            "text/plain": [
              "(tensor([[50.],\n",
              "         [ 2.],\n",
              "         [ 3.],\n",
              "         [ 4.],\n",
              "         [ 5.],\n",
              "         [ 6.],\n",
              "         [ 7.],\n",
              "         [ 8.],\n",
              "         [ 9.]]),\n",
              " torch.Size([9, 1]))"
            ]
          },
          "metadata": {},
          "execution_count": 67
        }
      ]
    },
    {
      "cell_type": "code",
      "source": [
        "# Permute - switch order of dimensions\n",
        "# permuted versions always share the same memory as the original, so modifications echo.\n",
        "x = torch.rand(size = (224, 224, 3)) # [height, width, color_channels]\n",
        "# permute original tensor to rearrange axis (or dim) order\n",
        "x_permuted = x.permute(2, 0, 1) # [color_channels, height, width]\n",
        "x.shape, x_permuted.shape"
      ],
      "metadata": {
        "colab": {
          "base_uri": "https://localhost:8080/"
        },
        "id": "Mf1eLJbvVPT2",
        "outputId": "5583ffff-f8f3-40c2-be33-b8709cfea182"
      },
      "execution_count": 68,
      "outputs": [
        {
          "output_type": "execute_result",
          "data": {
            "text/plain": [
              "(torch.Size([224, 224, 3]), torch.Size([3, 224, 224]))"
            ]
          },
          "metadata": {},
          "execution_count": 68
        }
      ]
    },
    {
      "cell_type": "code",
      "source": [
        "x[0,0,0], x_permuted[0,0,0]"
      ],
      "metadata": {
        "colab": {
          "base_uri": "https://localhost:8080/"
        },
        "id": "35NH5obKXDTS",
        "outputId": "a178e2a8-a882-4c88-9c10-f37a1f0f853e"
      },
      "execution_count": 69,
      "outputs": [
        {
          "output_type": "execute_result",
          "data": {
            "text/plain": [
              "(tensor(0.5019), tensor(0.5019))"
            ]
          },
          "metadata": {},
          "execution_count": 69
        }
      ]
    },
    {
      "cell_type": "code",
      "source": [
        "x[0,0,0] = 0.35\n",
        "x[0,0,0], x_permuted[0,0,0]"
      ],
      "metadata": {
        "colab": {
          "base_uri": "https://localhost:8080/"
        },
        "id": "mGB8I5uxXK6P",
        "outputId": "9126f242-6e9c-4c99-d549-d5e4c441b487"
      },
      "execution_count": 70,
      "outputs": [
        {
          "output_type": "execute_result",
          "data": {
            "text/plain": [
              "(tensor(0.3500), tensor(0.3500))"
            ]
          },
          "metadata": {},
          "execution_count": 70
        }
      ]
    },
    {
      "cell_type": "code",
      "source": [
        "w = torch.rand(2,2,3) # 2, 2x3 matrices\n",
        "w"
      ],
      "metadata": {
        "colab": {
          "base_uri": "https://localhost:8080/"
        },
        "id": "aX3PQkG8Gq7z",
        "outputId": "e2755af6-125e-40f8-9ac0-5ca4a7e1ef5c"
      },
      "execution_count": 71,
      "outputs": [
        {
          "output_type": "execute_result",
          "data": {
            "text/plain": [
              "tensor([[[0.6278, 0.8115, 0.7902],\n",
              "         [0.0035, 0.4343, 0.5796]],\n",
              "\n",
              "        [[0.4768, 0.1992, 0.1346],\n",
              "         [0.7112, 0.0127, 0.3226]]])"
            ]
          },
          "metadata": {},
          "execution_count": 71
        }
      ]
    },
    {
      "cell_type": "code",
      "source": [
        "w[0, :, :], w[:, 0, :], w[:, :, 0]\n",
        "# 0th matrix, just first rows, just the first columns"
      ],
      "metadata": {
        "colab": {
          "base_uri": "https://localhost:8080/"
        },
        "id": "Y71JR9orJ0iV",
        "outputId": "bb97e961-948b-4d92-c756-2d1776531648"
      },
      "execution_count": 72,
      "outputs": [
        {
          "output_type": "execute_result",
          "data": {
            "text/plain": [
              "(tensor([[0.6278, 0.8115, 0.7902],\n",
              "         [0.0035, 0.4343, 0.5796]]),\n",
              " tensor([[0.6278, 0.8115, 0.7902],\n",
              "         [0.4768, 0.1992, 0.1346]]),\n",
              " tensor([[0.6278, 0.0035],\n",
              "         [0.4768, 0.7112]]))"
            ]
          },
          "metadata": {},
          "execution_count": 72
        }
      ]
    },
    {
      "cell_type": "code",
      "source": [
        "# when you permute with dimensions\n",
        "# along dim2 (the columns)\n",
        "# so if you put dim2 first in the permutation, this is what you end up with.\n",
        "w[:, :, 0], w[:, :, 1], w[:, :, 2]"
      ],
      "metadata": {
        "colab": {
          "base_uri": "https://localhost:8080/"
        },
        "id": "TnriN-I8S4f9",
        "outputId": "e2603354-6513-4f56-c1ce-476b87752547"
      },
      "execution_count": 73,
      "outputs": [
        {
          "output_type": "execute_result",
          "data": {
            "text/plain": [
              "(tensor([[0.6278, 0.0035],\n",
              "         [0.4768, 0.7112]]),\n",
              " tensor([[0.8115, 0.4343],\n",
              "         [0.1992, 0.0127]]),\n",
              " tensor([[0.7902, 0.5796],\n",
              "         [0.1346, 0.3226]]))"
            ]
          },
          "metadata": {},
          "execution_count": 73
        }
      ]
    },
    {
      "cell_type": "code",
      "source": [
        "w.permute(2, 0, 1) # 3, 2x2 matrices"
      ],
      "metadata": {
        "colab": {
          "base_uri": "https://localhost:8080/"
        },
        "id": "HzriEYucG_nP",
        "outputId": "e61ee380-371e-4845-81fa-4975f3f2493e"
      },
      "execution_count": 74,
      "outputs": [
        {
          "output_type": "execute_result",
          "data": {
            "text/plain": [
              "tensor([[[0.6278, 0.0035],\n",
              "         [0.4768, 0.7112]],\n",
              "\n",
              "        [[0.8115, 0.4343],\n",
              "         [0.1992, 0.0127]],\n",
              "\n",
              "        [[0.7902, 0.5796],\n",
              "         [0.1346, 0.3226]]])"
            ]
          },
          "metadata": {},
          "execution_count": 74
        }
      ]
    },
    {
      "cell_type": "code",
      "source": [
        "# if you put dim1 (rows)\n",
        "w[:, 0, :], w[:, 1, :]"
      ],
      "metadata": {
        "colab": {
          "base_uri": "https://localhost:8080/"
        },
        "id": "ze4OTV2TUOFn",
        "outputId": "4a12e648-3850-4c1e-e3fb-545607c59da6"
      },
      "execution_count": 75,
      "outputs": [
        {
          "output_type": "execute_result",
          "data": {
            "text/plain": [
              "(tensor([[0.6278, 0.8115, 0.7902],\n",
              "         [0.4768, 0.1992, 0.1346]]),\n",
              " tensor([[0.0035, 0.4343, 0.5796],\n",
              "         [0.7112, 0.0127, 0.3226]]))"
            ]
          },
          "metadata": {},
          "execution_count": 75
        }
      ]
    },
    {
      "cell_type": "code",
      "source": [
        "w.permute(1,2,0) # rearrangment"
      ],
      "metadata": {
        "colab": {
          "base_uri": "https://localhost:8080/"
        },
        "id": "sBv8vYDhUlMz",
        "outputId": "91f7b121-b0df-4586-aca8-66d14d162b72"
      },
      "execution_count": 76,
      "outputs": [
        {
          "output_type": "execute_result",
          "data": {
            "text/plain": [
              "tensor([[[0.6278, 0.4768],\n",
              "         [0.8115, 0.1992],\n",
              "         [0.7902, 0.1346]],\n",
              "\n",
              "        [[0.0035, 0.7112],\n",
              "         [0.4343, 0.0127],\n",
              "         [0.5796, 0.3226]]])"
            ]
          },
          "metadata": {},
          "execution_count": 76
        }
      ]
    },
    {
      "cell_type": "markdown",
      "source": [
        "## Indexing"
      ],
      "metadata": {
        "id": "dCMaOAQgcJJj"
      }
    },
    {
      "cell_type": "code",
      "source": [
        "x = torch.arange(1, 10).reshape(1,3,3)\n",
        "x"
      ],
      "metadata": {
        "colab": {
          "base_uri": "https://localhost:8080/"
        },
        "id": "_FTstva-cK8o",
        "outputId": "d4004cf4-5048-4d3f-c1dc-a8d58cbdec5b"
      },
      "execution_count": 77,
      "outputs": [
        {
          "output_type": "execute_result",
          "data": {
            "text/plain": [
              "tensor([[[1, 2, 3],\n",
              "         [4, 5, 6],\n",
              "         [7, 8, 9]]])"
            ]
          },
          "metadata": {},
          "execution_count": 77
        }
      ]
    },
    {
      "cell_type": "code",
      "source": [
        "# index\n",
        "x[0] # the first matrix"
      ],
      "metadata": {
        "colab": {
          "base_uri": "https://localhost:8080/"
        },
        "id": "5yh-vQbTXUEL",
        "outputId": "8f2e3621-b952-4633-b608-6ecf6156c514"
      },
      "execution_count": 78,
      "outputs": [
        {
          "output_type": "execute_result",
          "data": {
            "text/plain": [
              "tensor([[1, 2, 3],\n",
              "        [4, 5, 6],\n",
              "        [7, 8, 9]])"
            ]
          },
          "metadata": {},
          "execution_count": 78
        }
      ]
    },
    {
      "cell_type": "code",
      "source": [
        "x[0,0] # first matrix, first row"
      ],
      "metadata": {
        "colab": {
          "base_uri": "https://localhost:8080/"
        },
        "id": "p8YZ-P-kcfS_",
        "outputId": "a451e18f-ec6d-40e1-b33d-82db6577850b"
      },
      "execution_count": 79,
      "outputs": [
        {
          "output_type": "execute_result",
          "data": {
            "text/plain": [
              "tensor([1, 2, 3])"
            ]
          },
          "metadata": {},
          "execution_count": 79
        }
      ]
    },
    {
      "cell_type": "code",
      "source": [
        "x[0,1,0] # first matrix, second row, first column"
      ],
      "metadata": {
        "colab": {
          "base_uri": "https://localhost:8080/"
        },
        "id": "uiPNWEStcirv",
        "outputId": "3e3f3f65-09a7-4e7f-d233-a903efdcdcb2"
      },
      "execution_count": 80,
      "outputs": [
        {
          "output_type": "execute_result",
          "data": {
            "text/plain": [
              "tensor(4)"
            ]
          },
          "metadata": {},
          "execution_count": 80
        }
      ]
    },
    {
      "cell_type": "code",
      "source": [
        "# or\n",
        "x[0][0] # does the same thing."
      ],
      "metadata": {
        "colab": {
          "base_uri": "https://localhost:8080/"
        },
        "id": "rQJ4clFWcutM",
        "outputId": "91bcb461-3ccf-48bf-d964-aa660d484563"
      },
      "execution_count": 81,
      "outputs": [
        {
          "output_type": "execute_result",
          "data": {
            "text/plain": [
              "tensor([1, 2, 3])"
            ]
          },
          "metadata": {},
          "execution_count": 81
        }
      ]
    },
    {
      "cell_type": "code",
      "source": [
        "x[:, :, 1] # all matrices, all rows, only col 1"
      ],
      "metadata": {
        "colab": {
          "base_uri": "https://localhost:8080/"
        },
        "id": "jwPjRMqMdM1r",
        "outputId": "a45bb29d-f038-42df-fa92-1b303ef1ca91"
      },
      "execution_count": 82,
      "outputs": [
        {
          "output_type": "execute_result",
          "data": {
            "text/plain": [
              "tensor([[2, 5, 8]])"
            ]
          },
          "metadata": {},
          "execution_count": 82
        }
      ]
    },
    {
      "cell_type": "code",
      "source": [
        "x[0, :, 0:2] # only two columns"
      ],
      "metadata": {
        "colab": {
          "base_uri": "https://localhost:8080/"
        },
        "id": "a9B5D-J0d83j",
        "outputId": "84496642-8a6e-44f2-a2e1-8c1312c6fa91"
      },
      "execution_count": 83,
      "outputs": [
        {
          "output_type": "execute_result",
          "data": {
            "text/plain": [
              "tensor([[1, 2],\n",
              "        [4, 5],\n",
              "        [7, 8]])"
            ]
          },
          "metadata": {},
          "execution_count": 83
        }
      ]
    },
    {
      "cell_type": "code",
      "source": [
        "torch.rand(3,3)"
      ],
      "metadata": {
        "colab": {
          "base_uri": "https://localhost:8080/"
        },
        "id": "HvaozuIqYetc",
        "outputId": "0bd7bb8d-31d1-4981-eac7-614c01cc8ba1"
      },
      "execution_count": 84,
      "outputs": [
        {
          "output_type": "execute_result",
          "data": {
            "text/plain": [
              "tensor([[0.7899, 0.3649, 0.9725],\n",
              "        [0.6235, 0.2423, 0.7218],\n",
              "        [0.3780, 0.9850, 0.0473]])"
            ]
          },
          "metadata": {},
          "execution_count": 84
        }
      ]
    },
    {
      "cell_type": "markdown",
      "source": [
        "## PyTorch and Numpy\n",
        "\n",
        "Numpy is popular, learn how to go between pytorch and numpy."
      ],
      "metadata": {
        "id": "8MrYf4hgbLP8"
      }
    },
    {
      "cell_type": "code",
      "source": [
        "array = np.array([(1,2,3),(1,2,3),(1,2,3)])\n",
        "array, type(array[0][0])"
      ],
      "metadata": {
        "colab": {
          "base_uri": "https://localhost:8080/"
        },
        "id": "BVTR-G1ecK9E",
        "outputId": "94d9e2a5-de32-4ac9-923c-b226b4d2467b"
      },
      "execution_count": 85,
      "outputs": [
        {
          "output_type": "execute_result",
          "data": {
            "text/plain": [
              "(array([[1, 2, 3],\n",
              "        [1, 2, 3],\n",
              "        [1, 2, 3]]),\n",
              " numpy.int64)"
            ]
          },
          "metadata": {},
          "execution_count": 85
        }
      ]
    },
    {
      "cell_type": "code",
      "source": [
        "# make a tensor\n",
        "array_tensor = torch.from_numpy(array)\n",
        "array_tensor, array_tensor.dtype # boom, it's a tensor ahahaha"
      ],
      "metadata": {
        "colab": {
          "base_uri": "https://localhost:8080/"
        },
        "id": "tEqHGx89caA0",
        "outputId": "395d5859-351e-4e62-d90f-2a7557a4d3c2"
      },
      "execution_count": 86,
      "outputs": [
        {
          "output_type": "execute_result",
          "data": {
            "text/plain": [
              "(tensor([[1, 2, 3],\n",
              "         [1, 2, 3],\n",
              "         [1, 2, 3]]),\n",
              " torch.int64)"
            ]
          },
          "metadata": {},
          "execution_count": 86
        }
      ]
    },
    {
      "cell_type": "code",
      "source": [
        "# note: by default, numpy datatype is float64 and any tensor created from them will cast to that type.\n",
        "torch.from_numpy(np.array([1.0,9.0])) #float64, not torch default torch float32"
      ],
      "metadata": {
        "colab": {
          "base_uri": "https://localhost:8080/"
        },
        "id": "IkTYeMxfdOWn",
        "outputId": "e4b42c44-09df-4d24-8f01-cfea9dc2d478"
      },
      "execution_count": 87,
      "outputs": [
        {
          "output_type": "execute_result",
          "data": {
            "text/plain": [
              "tensor([1., 9.], dtype=torch.float64)"
            ]
          },
          "metadata": {},
          "execution_count": 87
        }
      ]
    },
    {
      "cell_type": "code",
      "source": [
        "# tensor to numpy array\n",
        "tensor = torch.ones(7)\n",
        "numpy_tensor = tensor.numpy()\n",
        "tensor, tensor.dtype, numpy_tensor #numpy array is float32 just like tensor defualt."
      ],
      "metadata": {
        "colab": {
          "base_uri": "https://localhost:8080/"
        },
        "id": "21Bm7r7BdXJo",
        "outputId": "3c459455-3fd9-4674-8ed6-9a0972c674d4"
      },
      "execution_count": 88,
      "outputs": [
        {
          "output_type": "execute_result",
          "data": {
            "text/plain": [
              "(tensor([1., 1., 1., 1., 1., 1., 1.]),\n",
              " torch.float32,\n",
              " array([1., 1., 1., 1., 1., 1., 1.], dtype=float32))"
            ]
          },
          "metadata": {},
          "execution_count": 88
        }
      ]
    },
    {
      "cell_type": "markdown",
      "source": [
        "## Reproducibility\n",
        "\n",
        "Taking the random out of random.\n",
        "- start with random numbers -> tensor operations -> update the numbers -> repeat until good\n",
        "- sometimes you dont want so much randomness.\n",
        "- reduce neural network randomness, use **random seed**"
      ],
      "metadata": {
        "id": "WcQYWc75dypi"
      }
    },
    {
      "cell_type": "code",
      "source": [
        "torch.rand(3,3)"
      ],
      "metadata": {
        "colab": {
          "base_uri": "https://localhost:8080/"
        },
        "id": "Q9mELGaadx21",
        "outputId": "ebb88ea8-6fa3-4dd0-ad7a-a9eaeee938fd"
      },
      "execution_count": 89,
      "outputs": [
        {
          "output_type": "execute_result",
          "data": {
            "text/plain": [
              "tensor([[0.3263, 0.4249, 0.4956],\n",
              "        [0.6787, 0.1990, 0.5605],\n",
              "        [0.1769, 0.5723, 0.9636]])"
            ]
          },
          "metadata": {},
          "execution_count": 89
        }
      ]
    },
    {
      "cell_type": "code",
      "source": [
        " # highly unlikely to generate the same random numbers in two arrays\n",
        " rand_A = torch.rand(3,4)\n",
        " rand_B = torch.rand(3,4)\n",
        " print(rand_A)\n",
        " rand_A == rand_B # none of the values match w/ each other."
      ],
      "metadata": {
        "colab": {
          "base_uri": "https://localhost:8080/"
        },
        "id": "AA9E4_Z_eCut",
        "outputId": "4232d57c-f616-46d1-a3cf-24639fc9e6c7"
      },
      "execution_count": 90,
      "outputs": [
        {
          "output_type": "stream",
          "name": "stdout",
          "text": [
            "tensor([[0.7413, 0.2563, 0.5072, 0.0057],\n",
            "        [0.8535, 0.6458, 0.9782, 0.9276],\n",
            "        [0.8994, 0.5989, 0.3406, 0.9702]])\n"
          ]
        },
        {
          "output_type": "execute_result",
          "data": {
            "text/plain": [
              "tensor([[False, False, False, False],\n",
              "        [False, False, False, False],\n",
              "        [False, False, False, False]])"
            ]
          },
          "metadata": {},
          "execution_count": 90
        }
      ]
    },
    {
      "cell_type": "code",
      "source": [
        "# important note: use RANDOM SEED once at the start of each cell\n",
        "# or the arrays will be the same\n",
        "\n",
        "RANDOM_SEED = 42 # common flavor for randomness\n",
        "# makes the randomness reproducible across users.\n",
        "\n",
        "torch.manual_seed(RANDOM_SEED)\n",
        "C = torch.rand(3,4)\n",
        "print(C) # with random seed, ALWAYS produces the same thing.\n",
        "torch.manual_seed(RANDOM_SEED)\n",
        "D = torch.rand(3, 4)\n",
        "\n",
        "C == D"
      ],
      "metadata": {
        "colab": {
          "base_uri": "https://localhost:8080/"
        },
        "id": "V2sWGbzqesH8",
        "outputId": "0df7f448-1d72-47f3-a1a0-e3fbd7762c19"
      },
      "execution_count": 91,
      "outputs": [
        {
          "output_type": "stream",
          "name": "stdout",
          "text": [
            "tensor([[0.8823, 0.9150, 0.3829, 0.9593],\n",
            "        [0.3904, 0.6009, 0.2566, 0.7936],\n",
            "        [0.9408, 0.1332, 0.9346, 0.5936]])\n"
          ]
        },
        {
          "output_type": "execute_result",
          "data": {
            "text/plain": [
              "tensor([[True, True, True, True],\n",
              "        [True, True, True, True],\n",
              "        [True, True, True, True]])"
            ]
          },
          "metadata": {},
          "execution_count": 91
        }
      ]
    },
    {
      "cell_type": "markdown",
      "source": [
        "# GPUs\n",
        "\n",
        "GPUs - faster computation on numbers, thanks to CUDA + NVIDA hardware and pytorch optimization\n",
        "\n",
        "We want our tensors & models on the GPU is because using GPU results in faster computations."
      ],
      "metadata": {
        "id": "4_mPd_mFfsiC"
      }
    },
    {
      "cell_type": "code",
      "source": [
        "# setup device agnostic code\n",
        "device = \"cuda\" if torch.cuda.is_available() else \"cpu\"\n",
        "device"
      ],
      "metadata": {
        "id": "EuQHjiPsgE4H",
        "colab": {
          "base_uri": "https://localhost:8080/",
          "height": 35
        },
        "outputId": "847c9bee-49e6-4682-89bd-6f09cfad3c83"
      },
      "execution_count": 92,
      "outputs": [
        {
          "output_type": "execute_result",
          "data": {
            "text/plain": [
              "'cuda'"
            ],
            "application/vnd.google.colaboratory.intrinsic+json": {
              "type": "string"
            }
          },
          "metadata": {},
          "execution_count": 92
        }
      ]
    },
    {
      "cell_type": "code",
      "source": [
        "# count number of devices\n",
        "torch.cuda.device_count()"
      ],
      "metadata": {
        "colab": {
          "base_uri": "https://localhost:8080/"
        },
        "id": "6NZcW1AQUT4f",
        "outputId": "86ee8a67-f689-40a0-a5bf-c7a2b13ad49f"
      },
      "execution_count": 100,
      "outputs": [
        {
          "output_type": "execute_result",
          "data": {
            "text/plain": [
              "1"
            ]
          },
          "metadata": {},
          "execution_count": 100
        }
      ]
    },
    {
      "cell_type": "code",
      "source": [
        "tensor = torch.rand(1,3)\n",
        "tensor, tensor.device # by default, tensors are created on the CPU."
      ],
      "metadata": {
        "colab": {
          "base_uri": "https://localhost:8080/"
        },
        "id": "6ztqIMdvU3bu",
        "outputId": "f4242f45-5fd4-4dcc-c9e0-9ae1275f470b"
      },
      "execution_count": 96,
      "outputs": [
        {
          "output_type": "execute_result",
          "data": {
            "text/plain": [
              "(tensor([[0.2666, 0.6274, 0.2696]]), device(type='cpu'))"
            ]
          },
          "metadata": {},
          "execution_count": 96
        }
      ]
    },
    {
      "cell_type": "code",
      "source": [
        "# move the tensor to the GPU (if available)\n",
        "tensor_on_gpu = tensor.to(device)\n",
        "tensor_on_gpu # this tensor will move to whatever device we need it on."
      ],
      "metadata": {
        "colab": {
          "base_uri": "https://localhost:8080/"
        },
        "id": "s-kZWjkFVCdO",
        "outputId": "eb3acd36-8a01-412e-8742-6b78b6368b98"
      },
      "execution_count": 99,
      "outputs": [
        {
          "output_type": "execute_result",
          "data": {
            "text/plain": [
              "tensor([[0.2666, 0.6274, 0.2696]], device='cuda:0')"
            ]
          },
          "metadata": {},
          "execution_count": 99
        }
      ]
    },
    {
      "cell_type": "code",
      "source": [
        "# move the tensor back to the CPU\n",
        "# if tensor on GPU, can't transform to numpy: tensor_on_gpu.numpy()\n",
        "array_on_cpu = tensor_on_gpu.cpu().numpy()\n",
        "array_on_cpu"
      ],
      "metadata": {
        "colab": {
          "base_uri": "https://localhost:8080/"
        },
        "id": "GKPBdR00V-oI",
        "outputId": "b57d0418-e4b2-4a04-f2dd-8328fb44cb71"
      },
      "execution_count": 105,
      "outputs": [
        {
          "output_type": "execute_result",
          "data": {
            "text/plain": [
              "array([[0.26658005, 0.62744915, 0.26963168]], dtype=float32)"
            ]
          },
          "metadata": {},
          "execution_count": 105
        }
      ]
    },
    {
      "cell_type": "markdown",
      "source": [
        "# Exercises"
      ],
      "metadata": {
        "id": "QFvFm0hDXcHs"
      }
    },
    {
      "cell_type": "code",
      "source": [
        "# access documentation\n",
        "?torch.Tensor\n",
        "?torch.cuda"
      ],
      "metadata": {
        "id": "wpxiM7N7W8Sy"
      },
      "execution_count": 110,
      "outputs": []
    },
    {
      "cell_type": "code",
      "source": [
        "# rand tensor\n",
        "A = torch.rand(7,7)\n",
        "B = torch.rand(1,7)\n",
        "A @ B.T"
      ],
      "metadata": {
        "colab": {
          "base_uri": "https://localhost:8080/"
        },
        "id": "o3HeVbURXzIC",
        "outputId": "91b3124c-ff2d-46e5-8866-ebeea52d7e06"
      },
      "execution_count": 114,
      "outputs": [
        {
          "output_type": "execute_result",
          "data": {
            "text/plain": [
              "tensor([[2.7141],\n",
              "        [2.5875],\n",
              "        [2.1447],\n",
              "        [1.5684],\n",
              "        [2.2803],\n",
              "        [1.9907],\n",
              "        [2.0582]])"
            ]
          },
          "metadata": {},
          "execution_count": 114
        }
      ]
    },
    {
      "cell_type": "code",
      "source": [
        "RANDOM_SEED = 0\n",
        "torch.manual_seed(RANDOM_SEED)\n",
        "A = torch.rand(7,7)\n",
        "B = torch.rand(1,7)\n",
        "A @ B.T"
      ],
      "metadata": {
        "colab": {
          "base_uri": "https://localhost:8080/"
        },
        "id": "kS1Tj4vFX3qU",
        "outputId": "7c7ac24d-5f05-4d20-8639-0375b2601834"
      },
      "execution_count": 116,
      "outputs": [
        {
          "output_type": "execute_result",
          "data": {
            "text/plain": [
              "tensor([[1.8542],\n",
              "        [1.9611],\n",
              "        [2.2884],\n",
              "        [3.0481],\n",
              "        [1.7067],\n",
              "        [2.5290],\n",
              "        [1.7989]])"
            ]
          },
          "metadata": {},
          "execution_count": 116
        }
      ]
    },
    {
      "cell_type": "code",
      "source": [
        "torch.manual_seed(1234) # generating random numbers\n",
        "torch.cuda.manual_seed(1234) # generating random numbers for the GPU\n",
        "\n",
        "C = torch.rand([2, 3], device=\"cuda\")\n",
        "D = torch.rand([2, 3], device=\"cuda\")\n",
        "C, D"
      ],
      "metadata": {
        "colab": {
          "base_uri": "https://localhost:8080/"
        },
        "id": "OEsCbxXMYMuS",
        "outputId": "ca2f39ba-f4e8-4980-ee21-db100b220219"
      },
      "execution_count": 147,
      "outputs": [
        {
          "output_type": "execute_result",
          "data": {
            "text/plain": [
              "(tensor([[0.1272, 0.8167, 0.5440],\n",
              "         [0.6601, 0.2721, 0.9737]], device='cuda:0'),\n",
              " tensor([[0.6208, 0.0276, 0.3255],\n",
              "         [0.1114, 0.6812, 0.3608]], device='cuda:0'))"
            ]
          },
          "metadata": {},
          "execution_count": 147
        }
      ]
    },
    {
      "cell_type": "code",
      "source": [
        "product = D.T @ C\n",
        "product"
      ],
      "metadata": {
        "colab": {
          "base_uri": "https://localhost:8080/"
        },
        "id": "7LuXVSldYqg0",
        "outputId": "a11b15d1-9858-47c4-cca3-bbea3864e78e"
      },
      "execution_count": 159,
      "outputs": [
        {
          "output_type": "execute_result",
          "data": {
            "text/plain": [
              "tensor([[0.1525, 0.5374, 0.4462],\n",
              "        [0.4531, 0.2079, 0.6783],\n",
              "        [0.2796, 0.3640, 0.5284]], device='cuda:0')"
            ]
          },
          "metadata": {},
          "execution_count": 159
        }
      ]
    },
    {
      "cell_type": "code",
      "source": [
        "product.min(), product.argmin(), product.max(), product.argmax()"
      ],
      "metadata": {
        "colab": {
          "base_uri": "https://localhost:8080/"
        },
        "id": "MT5ScplhaYGd",
        "outputId": "15cf5ca0-1d32-4995-8c85-0c8d31f8012a"
      },
      "execution_count": 160,
      "outputs": [
        {
          "output_type": "execute_result",
          "data": {
            "text/plain": [
              "(tensor(0.1525, device='cuda:0'),\n",
              " tensor(0, device='cuda:0'),\n",
              " tensor(0.6783, device='cuda:0'),\n",
              " tensor(5, device='cuda:0'))"
            ]
          },
          "metadata": {},
          "execution_count": 160
        }
      ]
    },
    {
      "cell_type": "code",
      "source": [
        "torch.manual_seed(7)\n",
        "with_dims = torch.rand(1,1,1,10)\n",
        "with_dims, with_dims.shape"
      ],
      "metadata": {
        "colab": {
          "base_uri": "https://localhost:8080/"
        },
        "id": "ThkJWfpwdc52",
        "outputId": "c6a188bd-9c8b-402c-f5f9-46ce5d8b69b0"
      },
      "execution_count": 166,
      "outputs": [
        {
          "output_type": "execute_result",
          "data": {
            "text/plain": [
              "(tensor([[[[0.5349, 0.1988, 0.6592, 0.6569, 0.2328, 0.4251, 0.2071, 0.6297,\n",
              "            0.3653, 0.8513]]]]),\n",
              " torch.Size([1, 1, 1, 10]))"
            ]
          },
          "metadata": {},
          "execution_count": 166
        }
      ]
    },
    {
      "cell_type": "code",
      "source": [
        "with_dims.squeeze(), with_dims.squeeze().shape"
      ],
      "metadata": {
        "colab": {
          "base_uri": "https://localhost:8080/"
        },
        "id": "CwFvxpdvdqxm",
        "outputId": "bc8c6fd1-07af-44ab-9c37-742296368fa5"
      },
      "execution_count": 167,
      "outputs": [
        {
          "output_type": "execute_result",
          "data": {
            "text/plain": [
              "(tensor([0.5349, 0.1988, 0.6592, 0.6569, 0.2328, 0.4251, 0.2071, 0.6297, 0.3653,\n",
              "         0.8513]),\n",
              " torch.Size([10]))"
            ]
          },
          "metadata": {},
          "execution_count": 167
        }
      ]
    }
  ]
}